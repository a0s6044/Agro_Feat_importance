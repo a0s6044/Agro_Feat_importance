{
 "cells": [
  {
   "cell_type": "markdown",
   "metadata": {},
   "source": [
    "# This will just read soil data and create a list of all soil coordinates which are then stored in an output file to be read by gdal script which will create image bboxes around each coordinate of square side 2r (with center at these coordinates)"
   ]
  },
  {
   "cell_type": "code",
   "execution_count": 1,
   "metadata": {
    "id": "AcI6T3Xowumi"
   },
   "outputs": [],
   "source": [
    "# In particular we now include the correct dates for weather grouping for hostvete \n",
    "# which begin from seed date -> 1st Nov year before + 15Marh->midsummer + midsummer -> max harvest date\n",
    "\n",
    "# We load all soil, field, year and weather data for all fields in Heddinge and predict \n",
    "# the harvest for that field during a single year: 2017, 2018, 2019 or 2020\n",
    "\n",
    "# Also change the grouping in time for weather data to just a single season (Aug 2)\n",
    "# instead of the previous weekly grouping\n",
    "\n",
    "# We segment per crop and year in this particular notebook (July 31, Aug 1)\n",
    "\n",
    "# First start the VPN in order to download all necessary data "
   ]
  },
  {
   "cell_type": "code",
   "execution_count": 16,
   "metadata": {
    "colab": {
     "base_uri": "https://localhost:8080/"
    },
    "id": "39XHjL7jwumo",
    "outputId": "bb142a97-b1dc-4e2c-962c-89c6dcee301c"
   },
   "outputs": [
    {
     "name": "stdout",
     "output_type": "stream",
     "text": [
      "Requirement already satisfied: shapely in /usr/local/lib/python3.8/dist-packages (1.7.1)\n",
      "Requirement already satisfied: pyproj in /usr/local/lib/python3.8/dist-packages (3.1.0)\n",
      "Requirement already satisfied: certifi in /usr/local/lib/python3.8/dist-packages (from pyproj) (2021.5.30)\n",
      "Requirement already satisfied: tqdm in /usr/local/lib/python3.8/dist-packages (4.56.0)\n",
      "Requirement already satisfied: psycopg2-binary in /usr/local/lib/python3.8/dist-packages (2.9.1)\n",
      "Requirement already satisfied: geojson in /usr/local/lib/python3.8/dist-packages (2.5.0)\n",
      "Requirement already satisfied: postgis in /usr/local/lib/python3.8/dist-packages (1.0.4)\n",
      "Requirement already satisfied: sqlalchemy in /usr/local/lib/python3.8/dist-packages (1.4.22)\n",
      "Requirement already satisfied: greenlet!=0.4.17; python_version >= \"3\" in /usr/local/lib/python3.8/dist-packages (from sqlalchemy) (1.1.1)\n",
      "Requirement already satisfied: shap in /usr/local/lib/python3.8/dist-packages (0.39.0)\n",
      "Requirement already satisfied: cloudpickle in /usr/local/lib/python3.8/dist-packages (from shap) (1.6.0)\n",
      "Requirement already satisfied: scikit-learn in /usr/local/lib/python3.8/dist-packages (from shap) (0.23.1)\n",
      "Requirement already satisfied: numba in /usr/local/lib/python3.8/dist-packages (from shap) (0.53.1)\n",
      "Requirement already satisfied: tqdm>4.25.0 in /usr/local/lib/python3.8/dist-packages (from shap) (4.56.0)\n",
      "Requirement already satisfied: numpy in /usr/local/lib/python3.8/dist-packages (from shap) (1.19.1)\n",
      "Requirement already satisfied: scipy in /usr/local/lib/python3.8/dist-packages (from shap) (1.5.4)\n",
      "Requirement already satisfied: slicer==0.0.7 in /usr/local/lib/python3.8/dist-packages (from shap) (0.0.7)\n",
      "Requirement already satisfied: pandas in /usr/local/lib/python3.8/dist-packages (from shap) (1.0.5)\n",
      "Requirement already satisfied: threadpoolctl>=2.0.0 in /usr/local/lib/python3.8/dist-packages (from scikit-learn->shap) (2.2.0)\n",
      "Requirement already satisfied: joblib>=0.11 in /usr/local/lib/python3.8/dist-packages (from scikit-learn->shap) (1.0.0)\n",
      "Requirement already satisfied: setuptools in /usr/lib/python3/dist-packages (from numba->shap) (45.2.0)\n",
      "Requirement already satisfied: llvmlite<0.37,>=0.36.0rc1 in /usr/local/lib/python3.8/dist-packages (from numba->shap) (0.36.0)\n",
      "Requirement already satisfied: python-dateutil>=2.6.1 in /usr/local/lib/python3.8/dist-packages (from pandas->shap) (2.8.2)\n",
      "Requirement already satisfied: pytz>=2017.2 in /usr/local/lib/python3.8/dist-packages (from pandas->shap) (2021.1)\n",
      "Requirement already satisfied: six>=1.5 in /usr/local/lib/python3.8/dist-packages (from python-dateutil>=2.6.1->pandas->shap) (1.15.0)\n"
     ]
    }
   ],
   "source": [
    "# Install a pip package in the current Jupyter kernel\n",
    "import sys\n",
    "!{sys.executable} -m pip install shapely\n",
    "!{sys.executable} -m pip install pyproj\n",
    "!{sys.executable} -m pip install tqdm\n",
    "!{sys.executable} -m pip install psycopg2-binary\n",
    "!{sys.executable} -m pip install geojson\n",
    "!{sys.executable} -m pip install postgis\n",
    "!{sys.executable} -m pip install sqlalchemy\n",
    "!{sys.executable} -m pip install shap"
   ]
  },
  {
   "cell_type": "code",
   "execution_count": 30,
   "metadata": {},
   "outputs": [],
   "source": [
    "import postgis\n",
    "import psycopg2\n",
    "import sqlalchemy\n",
    "import datetime\n",
    "import matplotlib\n",
    "import pandas as pd\n",
    "from tqdm import tqdm"
   ]
  },
  {
   "cell_type": "code",
   "execution_count": 9,
   "metadata": {},
   "outputs": [],
   "source": [
    "def connect(params_dic):\n",
    "    \"\"\" Connect to the PostgreSQL database server \"\"\"\n",
    "    conn = None\n",
    "        \n",
    "    try:\n",
    "        # connect to the PostgreSQL server\n",
    "        print('Connecting to the PostgreSQL database...')\n",
    "        conn = psycopg2.connect(**params_dic)\n",
    "    except (Exception, psycopg2.DatabaseError) as error:\n",
    "        print(error)\n",
    "        sys.exit(1) \n",
    "    print(\"Connection successful\")\n",
    "    return conn"
   ]
  },
  {
   "cell_type": "code",
   "execution_count": 10,
   "metadata": {},
   "outputs": [],
   "source": [
    "def postgresql_to_dataframe(conn, select_query, column_names):\n",
    "    \"\"\"\n",
    "    Tranform a SELECT query into a pandas dataframe\n",
    "    \"\"\"\n",
    "    cursor = conn.cursor()\n",
    "    try:\n",
    "        cursor.execute(select_query)\n",
    "    except (Exception, psycopg2.DatabaseError) as error:\n",
    "        print(\"Error: %s\" % error)\n",
    "        cursor.close()\n",
    "        return 1\n",
    "    \n",
    "    # Naturally we get a list of tupples\n",
    "    tupples = cursor.fetchall()\n",
    "    cursor.close()\n",
    "    \n",
    "    # We just need to turn it into a pandas dataframe\n",
    "    df = pd.DataFrame(tupples, columns=column_names)\n",
    "    \n",
    "    return df"
   ]
  },
  {
   "cell_type": "code",
   "execution_count": 11,
   "metadata": {},
   "outputs": [],
   "source": [
    "def calltoVPN(param_dic, textcom):\n",
    "    \n",
    "    # opening the VPN connection\n",
    "    dbConnection = connect(param_dic) # Connect to PostgreSQL server\n",
    "    \n",
    "    start_time = datetime.datetime.now()        \n",
    "    dfout = pd.read_sql_query(textcom, dbConnection)\n",
    "    dif = datetime.datetime.now()-start_time\n",
    "    print(\"Time to complete request:\", dif.seconds, \"sec.\")\n",
    "    \n",
    "    # Close the database connection\n",
    "    dbConnection.close();\n",
    "    print(\"Connection closed\")\n",
    "    \n",
    "    return dfout # output containing the response in a dataframe table"
   ]
  },
  {
   "cell_type": "code",
   "execution_count": 12,
   "metadata": {},
   "outputs": [],
   "source": [
    "# Defining the different possible calls to be used later\n",
    "def chose_a_call(argument,  region_name='Heddinge', crop_name='Höstvete',fieldID = 123456789):\n",
    "    switcher = {\n",
    "        # Gets blockids from cultivation - Heddinge only\n",
    "        1: '''SELECT blockid FROM agri.cultivation WHERE farmname = 'Heddinge' ''',\n",
    "        \n",
    "        # Gets all from soil - specific field only\n",
    "        2: '''SELECT * FROM agri.soil_sample u,agri.cult_union c \\\n",
    "        WHERE c.blockid = '''+str(fieldID),\n",
    "        \n",
    "        # Gets all from cultivation - specific: Varvete, Heddinge and seed_date\n",
    "        3: '''SELECT * FROM agri.cultivation WHERE crop = 'Vårvete' \\\n",
    "        AND farmname = 'Heddinge' AND extract(month from seed_date) < 7''',\n",
    "        \n",
    "        # Gets all from cultivation - specific: Varvete, Heddinge and seed_date\n",
    "        4: '''SELECT * FROM agri.cultivation WHERE crop = 'Vårkorn' \\\n",
    "        AND farmname = 'Heddinge' AND extract(month from seed_date) < 7\\\n",
    "        AND yield_harvester_measured > 0 AND humus_average < 10 ORDER BY blockid ''',\n",
    "        \n",
    "        # Gets all from cultivation - specific: Varvete, Heddinge and seed_date\n",
    "        5: '''SELECT * FROM agri.cultivation WHERE crop = 'Höstvete' \\\n",
    "        AND farmname = 'Heddinge' AND extract(month from seed_date) < 7''',\n",
    "        \n",
    "        # unfinished call - do not use\n",
    "        6: '''agri.cultivation SET crop = 'Höstvete' \\\n",
    "        WHERE crop ILIKE '%vete%' AND extract(month from seed_date) > 6;''',\n",
    "        \n",
    "        # Gets all fields from cultivation - specific: yield, humus\n",
    "        7: '''SELECT * FROM agri.cultivation WHERE crop = 'Vårvete' \\\n",
    "        AND farmname = 'Heddinge' AND yield_harvester_measured > 0 AND humus_average < 10 ORDER BY blockid''',\n",
    "        \n",
    "        # This is latest command from Andreas about hostvete  #Vårkorn\n",
    "        8: '''SELECT blockid FROM agri.cultivation WHERE crop = 'Höstvete' \\\n",
    "        AND farmname = ''' + region_name +''' AND yield_harvester_measured > 2500 \\\n",
    "        AND blockid IS NOT NULL AND seed_date IS NOT NULL;''',\n",
    "        \n",
    "        # This is latest command from Andreas about varkorn\n",
    "        9: '''SELECT blockid, harvest_year FROM agri.cultivation WHERE crop = 'Vårkorn' \\\n",
    "        AND farmname = 'Heddinge' AND yield_harvester_measured > 2500 \\\n",
    "        AND blockid IS NOT NULL AND seed_date IS NOT NULL;''',\n",
    "    }\n",
    "    return switcher.get(argument,\"Invalid choise\")"
   ]
  },
  {
   "cell_type": "markdown",
   "metadata": {
    "id": "feTRR6BwpfyN"
   },
   "source": [
    "## Hyper"
   ]
  },
  {
   "cell_type": "code",
   "execution_count": 57,
   "metadata": {},
   "outputs": [],
   "source": [
    "# Year chosen to study. For some crops we include weather from fall season in year before (due to seeding)\n",
    "year_chosen = 2018\n",
    "\n",
    "# radius in meter chosen to spatially group together soil and harvest\n",
    "r=50\n",
    "\n",
    "# Region chosen\n",
    "#region_name = \"'Brandstad'\"\n",
    "region_name = \"'Heddinge'\"\n",
    "\n",
    "# Crop chosen to study\n",
    "crop_name = \"'Höstvete'\"\n",
    "#crop_name = \"'Vårkorn'\""
   ]
  },
  {
   "cell_type": "markdown",
   "metadata": {},
   "source": [
    "## Setting up and initiating VPN "
   ]
  },
  {
   "cell_type": "code",
   "execution_count": 58,
   "metadata": {},
   "outputs": [],
   "source": [
    "# Connection parameters, yours will be different\n",
    "param_dic = {\n",
    "    \"host\" : \"172.16.16.38\",\n",
    "    \"port\" : 5432,\n",
    "    \"database\" : \"agtech\",\n",
    "    \"user\" : \"user_read\",\n",
    "    \"password\" : \"Langtnog987\",\n",
    "    \"options\"   : \"-c search_path=agri,public\"\n",
    "}"
   ]
  },
  {
   "cell_type": "markdown",
   "metadata": {},
   "source": [
    "### Call to obtain a list of farms (blockids) in Heddinge with given properties"
   ]
  },
  {
   "cell_type": "code",
   "execution_count": 59,
   "metadata": {},
   "outputs": [
    {
     "name": "stdout",
     "output_type": "stream",
     "text": [
      "Connecting to the PostgreSQL database...\n",
      "Connection successful\n",
      "Time to complete request: 0 sec.\n",
      "Connection closed\n",
      "Number of fields found: (60, 1)\n"
     ]
    }
   ],
   "source": [
    "# Call to find out the blockids (to be used later in the main calls)\n",
    "\n",
    "textcom = chose_a_call(8,region_name) # \"'Heddinge'\")#\n",
    "\n",
    "testdf4 = calltoVPN(param_dic, textcom)\n",
    "print(\"Number of fields found:\", testdf4.shape)\n",
    "\n",
    "#len(testdf4[\"farmname\"].unique()) #['blockid'][2]"
   ]
  },
  {
   "cell_type": "code",
   "execution_count": 60,
   "metadata": {},
   "outputs": [
    {
     "data": {
      "text/html": [
       "<div>\n",
       "<style scoped>\n",
       "    .dataframe tbody tr th:only-of-type {\n",
       "        vertical-align: middle;\n",
       "    }\n",
       "\n",
       "    .dataframe tbody tr th {\n",
       "        vertical-align: top;\n",
       "    }\n",
       "\n",
       "    .dataframe thead th {\n",
       "        text-align: right;\n",
       "    }\n",
       "</style>\n",
       "<table border=\"1\" class=\"dataframe\">\n",
       "  <thead>\n",
       "    <tr style=\"text-align: right;\">\n",
       "      <th></th>\n",
       "      <th>blockid</th>\n",
       "    </tr>\n",
       "  </thead>\n",
       "  <tbody>\n",
       "    <tr>\n",
       "      <th>0</th>\n",
       "      <td>6.170337e+10</td>\n",
       "    </tr>\n",
       "    <tr>\n",
       "      <th>1</th>\n",
       "      <td>6.165341e+11</td>\n",
       "    </tr>\n",
       "    <tr>\n",
       "      <th>2</th>\n",
       "      <td>6.175372e+11</td>\n",
       "    </tr>\n",
       "    <tr>\n",
       "      <th>3</th>\n",
       "      <td>6.177342e+10</td>\n",
       "    </tr>\n",
       "    <tr>\n",
       "      <th>4</th>\n",
       "      <td>6.168341e+10</td>\n",
       "    </tr>\n",
       "    <tr>\n",
       "      <th>5</th>\n",
       "      <td>6.175341e+10</td>\n",
       "    </tr>\n",
       "    <tr>\n",
       "      <th>6</th>\n",
       "      <td>6.167341e+10</td>\n",
       "    </tr>\n",
       "    <tr>\n",
       "      <th>7</th>\n",
       "      <td>6.169338e+10</td>\n",
       "    </tr>\n",
       "    <tr>\n",
       "      <th>8</th>\n",
       "      <td>6.165342e+10</td>\n",
       "    </tr>\n",
       "    <tr>\n",
       "      <th>9</th>\n",
       "      <td>6.175371e+10</td>\n",
       "    </tr>\n",
       "    <tr>\n",
       "      <th>10</th>\n",
       "      <td>6.175342e+10</td>\n",
       "    </tr>\n",
       "    <tr>\n",
       "      <th>11</th>\n",
       "      <td>6.169339e+10</td>\n",
       "    </tr>\n",
       "    <tr>\n",
       "      <th>12</th>\n",
       "      <td>6.166343e+10</td>\n",
       "    </tr>\n",
       "    <tr>\n",
       "      <th>13</th>\n",
       "      <td>6.175341e+10</td>\n",
       "    </tr>\n",
       "    <tr>\n",
       "      <th>14</th>\n",
       "      <td>6.168343e+10</td>\n",
       "    </tr>\n",
       "    <tr>\n",
       "      <th>15</th>\n",
       "      <td>6.166341e+10</td>\n",
       "    </tr>\n",
       "    <tr>\n",
       "      <th>16</th>\n",
       "      <td>6.166341e+11</td>\n",
       "    </tr>\n",
       "    <tr>\n",
       "      <th>17</th>\n",
       "      <td>6.166340e+10</td>\n",
       "    </tr>\n",
       "    <tr>\n",
       "      <th>18</th>\n",
       "      <td>6.173339e+10</td>\n",
       "    </tr>\n",
       "    <tr>\n",
       "      <th>19</th>\n",
       "      <td>6.168342e+10</td>\n",
       "    </tr>\n",
       "    <tr>\n",
       "      <th>20</th>\n",
       "      <td>6.166340e+11</td>\n",
       "    </tr>\n",
       "    <tr>\n",
       "      <th>21</th>\n",
       "      <td>6.173339e+10</td>\n",
       "    </tr>\n",
       "    <tr>\n",
       "      <th>22</th>\n",
       "      <td>6.165341e+10</td>\n",
       "    </tr>\n",
       "    <tr>\n",
       "      <th>23</th>\n",
       "      <td>6.168341e+10</td>\n",
       "    </tr>\n",
       "    <tr>\n",
       "      <th>24</th>\n",
       "      <td>6.177342e+10</td>\n",
       "    </tr>\n",
       "    <tr>\n",
       "      <th>25</th>\n",
       "      <td>6.165341e+11</td>\n",
       "    </tr>\n",
       "    <tr>\n",
       "      <th>26</th>\n",
       "      <td>6.166340e+10</td>\n",
       "    </tr>\n",
       "    <tr>\n",
       "      <th>27</th>\n",
       "      <td>6.169339e+10</td>\n",
       "    </tr>\n",
       "    <tr>\n",
       "      <th>28</th>\n",
       "      <td>6.169341e+10</td>\n",
       "    </tr>\n",
       "    <tr>\n",
       "      <th>29</th>\n",
       "      <td>6.169338e+10</td>\n",
       "    </tr>\n",
       "    <tr>\n",
       "      <th>30</th>\n",
       "      <td>6.176342e+10</td>\n",
       "    </tr>\n",
       "    <tr>\n",
       "      <th>31</th>\n",
       "      <td>6.169340e+10</td>\n",
       "    </tr>\n",
       "    <tr>\n",
       "      <th>32</th>\n",
       "      <td>6.166341e+10</td>\n",
       "    </tr>\n",
       "    <tr>\n",
       "      <th>33</th>\n",
       "      <td>6.175342e+10</td>\n",
       "    </tr>\n",
       "    <tr>\n",
       "      <th>34</th>\n",
       "      <td>6.166341e+10</td>\n",
       "    </tr>\n",
       "    <tr>\n",
       "      <th>35</th>\n",
       "      <td>6.175371e+10</td>\n",
       "    </tr>\n",
       "    <tr>\n",
       "      <th>36</th>\n",
       "      <td>6.175341e+10</td>\n",
       "    </tr>\n",
       "    <tr>\n",
       "      <th>37</th>\n",
       "      <td>6.176370e+10</td>\n",
       "    </tr>\n",
       "    <tr>\n",
       "      <th>38</th>\n",
       "      <td>6.175372e+10</td>\n",
       "    </tr>\n",
       "    <tr>\n",
       "      <th>39</th>\n",
       "      <td>6.168342e+10</td>\n",
       "    </tr>\n",
       "    <tr>\n",
       "      <th>40</th>\n",
       "      <td>6.168340e+10</td>\n",
       "    </tr>\n",
       "    <tr>\n",
       "      <th>41</th>\n",
       "      <td>6.170339e+10</td>\n",
       "    </tr>\n",
       "    <tr>\n",
       "      <th>42</th>\n",
       "      <td>6.169338e+10</td>\n",
       "    </tr>\n",
       "    <tr>\n",
       "      <th>43</th>\n",
       "      <td>6.166339e+10</td>\n",
       "    </tr>\n",
       "    <tr>\n",
       "      <th>44</th>\n",
       "      <td>6.175342e+10</td>\n",
       "    </tr>\n",
       "    <tr>\n",
       "      <th>45</th>\n",
       "      <td>6.175372e+10</td>\n",
       "    </tr>\n",
       "    <tr>\n",
       "      <th>46</th>\n",
       "      <td>6.169341e+10</td>\n",
       "    </tr>\n",
       "    <tr>\n",
       "      <th>47</th>\n",
       "      <td>6.173345e+10</td>\n",
       "    </tr>\n",
       "    <tr>\n",
       "      <th>48</th>\n",
       "      <td>6.176342e+10</td>\n",
       "    </tr>\n",
       "    <tr>\n",
       "      <th>49</th>\n",
       "      <td>6.175341e+10</td>\n",
       "    </tr>\n",
       "    <tr>\n",
       "      <th>50</th>\n",
       "      <td>6.169340e+10</td>\n",
       "    </tr>\n",
       "    <tr>\n",
       "      <th>51</th>\n",
       "      <td>6.166340e+11</td>\n",
       "    </tr>\n",
       "    <tr>\n",
       "      <th>52</th>\n",
       "      <td>6.169342e+10</td>\n",
       "    </tr>\n",
       "    <tr>\n",
       "      <th>53</th>\n",
       "      <td>6.168342e+10</td>\n",
       "    </tr>\n",
       "    <tr>\n",
       "      <th>54</th>\n",
       "      <td>6.169341e+10</td>\n",
       "    </tr>\n",
       "    <tr>\n",
       "      <th>55</th>\n",
       "      <td>6.166341e+11</td>\n",
       "    </tr>\n",
       "    <tr>\n",
       "      <th>56</th>\n",
       "      <td>6.169342e+10</td>\n",
       "    </tr>\n",
       "    <tr>\n",
       "      <th>57</th>\n",
       "      <td>6.175371e+10</td>\n",
       "    </tr>\n",
       "    <tr>\n",
       "      <th>58</th>\n",
       "      <td>6.175342e+10</td>\n",
       "    </tr>\n",
       "    <tr>\n",
       "      <th>59</th>\n",
       "      <td>6.175371e+10</td>\n",
       "    </tr>\n",
       "  </tbody>\n",
       "</table>\n",
       "</div>"
      ],
      "text/plain": [
       "         blockid\n",
       "0   6.170337e+10\n",
       "1   6.165341e+11\n",
       "2   6.175372e+11\n",
       "3   6.177342e+10\n",
       "4   6.168341e+10\n",
       "5   6.175341e+10\n",
       "6   6.167341e+10\n",
       "7   6.169338e+10\n",
       "8   6.165342e+10\n",
       "9   6.175371e+10\n",
       "10  6.175342e+10\n",
       "11  6.169339e+10\n",
       "12  6.166343e+10\n",
       "13  6.175341e+10\n",
       "14  6.168343e+10\n",
       "15  6.166341e+10\n",
       "16  6.166341e+11\n",
       "17  6.166340e+10\n",
       "18  6.173339e+10\n",
       "19  6.168342e+10\n",
       "20  6.166340e+11\n",
       "21  6.173339e+10\n",
       "22  6.165341e+10\n",
       "23  6.168341e+10\n",
       "24  6.177342e+10\n",
       "25  6.165341e+11\n",
       "26  6.166340e+10\n",
       "27  6.169339e+10\n",
       "28  6.169341e+10\n",
       "29  6.169338e+10\n",
       "30  6.176342e+10\n",
       "31  6.169340e+10\n",
       "32  6.166341e+10\n",
       "33  6.175342e+10\n",
       "34  6.166341e+10\n",
       "35  6.175371e+10\n",
       "36  6.175341e+10\n",
       "37  6.176370e+10\n",
       "38  6.175372e+10\n",
       "39  6.168342e+10\n",
       "40  6.168340e+10\n",
       "41  6.170339e+10\n",
       "42  6.169338e+10\n",
       "43  6.166339e+10\n",
       "44  6.175342e+10\n",
       "45  6.175372e+10\n",
       "46  6.169341e+10\n",
       "47  6.173345e+10\n",
       "48  6.176342e+10\n",
       "49  6.175341e+10\n",
       "50  6.169340e+10\n",
       "51  6.166340e+11\n",
       "52  6.169342e+10\n",
       "53  6.168342e+10\n",
       "54  6.169341e+10\n",
       "55  6.166341e+11\n",
       "56  6.169342e+10\n",
       "57  6.175371e+10\n",
       "58  6.175342e+10\n",
       "59  6.175371e+10"
      ]
     },
     "execution_count": 60,
     "metadata": {},
     "output_type": "execute_result"
    }
   ],
   "source": [
    "testdf4"
   ]
  },
  {
   "cell_type": "code",
   "execution_count": 61,
   "metadata": {},
   "outputs": [],
   "source": [
    "# Defining the different possible calls to be used later\n",
    "def new_calls(argument,  region_name = \"'Heddinge'\", crop_name=\"'Vårvete'\",fieldID = 123456789):\n",
    "    switcher = {\n",
    "        \n",
    "        # This is for weather \n",
    "        2: #\"Select * FROM agri.weather ORDER BY year ASC\",#w.temperature AS w_temperature, \\\n",
    "        \"SELECT w.precipitation AS w_precipitation, \\\n",
    "        w.year AS w_year, \\\n",
    "        w.time AS w_time \\\n",
    "        FROM agri.cultivation c,agri.weather w \\\n",
    "        WHERE c.blockid = \" + str(fieldID)+ \"\\\n",
    "        AND extract(month from w.time) < 11 \\\n",
    "        AND extract(month from w.time) > 2 \\\n",
    "        ORDER BY year ASC\",\n",
    "        \n",
    "        # This is for harvest\n",
    "        1:\n",
    "        \"SELECT ST_X(u.geom) AS h_coord_X, ST_Y(u.geom) AS h_coord_Y, \\\n",
    "        c.blockid AS h_blockid, \\\n",
    "        u.year AS h_year, \\\n",
    "        u.time AS h_time, \\\n",
    "        u.harvest AS h_harvest, \\\n",
    "        u.water_percentage AS h_water_percentage \\\n",
    "        FROM agri.harvest u, agri.cult_union c WHERE c.blockid = \"+str(fieldID)+\" \\\n",
    "        AND ST_Intersects(c.geom, u.geom) \\\n",
    "        AND u.crop = 'Vete' \\\n",
    "        AND u.edgeflag = 'False' \\\n",
    "        ORDER BY year,id ASC\",\n",
    "        #+ crop_name +\" \\\n",
    "        #\n",
    "        \n",
    "        # This is for soil\n",
    "        0: #'''SELECT ST_X(u.geom) AS coord_X, ST_Y(u.geom) AS coord_Y FROM agri.soil_sample u,agri.cult_union c WHERE c.blockid = '''+str(fieldID),\n",
    "        '''SELECT ST_X(u.geom) AS coord_X, ST_Y(u.geom) AS coord_Y, \\\n",
    "        u.ph AS s_ph, \\\n",
    "        u.humus_percentage AS s_hum100, \\\n",
    "        u.clay_percentage AS s_clay100, \\\n",
    "        u.phosphorus AS s_phosphorus, \\\n",
    "        u.calcium AS s_calcium, \\\n",
    "        u.potassium AS s_K, u.magnesium AS s_mg \\\n",
    "        FROM agri.soil_sample u,agri.cult_union c WHERE c.blockid = '''+str(fieldID)+''' \\\n",
    "        AND ST_IsValid(c.geom) \\\n",
    "        AND ST_Intersects(c.geom,u.geom) \\\n",
    "        AND u.youngest = 'True' ORDER BY year,id ASC''',\n",
    "        #\n",
    "        \n",
    "        \n",
    "        # This is for field\n",
    "        3:'''SELECT \\\n",
    "        blockid AS f_blockid,\\\n",
    "        seed_date AS f_seed_date, \\\n",
    "        seed_amount AS f_seed_amount, \\\n",
    "        harvest_date AS f_harvest_date, \\\n",
    "        yield_harvester_measured AS f_yield_harvester_measured, \\\n",
    "        yield_water_percentage AS f_yield_water_percentage, \\\n",
    "        fertilizer_date AS f_fertilizer_date, \\\n",
    "        fertilizer_amount AS f_fertilizer_amount, \\\n",
    "        humus_average AS f_humus_average, \\\n",
    "        humus_stddev AS f_humus_stddev,\\\n",
    "        ph_average AS f_ph_average, \\\n",
    "        ph_stddev AS f_ph_stddev, \\\n",
    "        weatherstation AS f_weatherstation, \\\n",
    "        weatherstation_dist AS f_weatherstation_dist, \\\n",
    "        blockid_org AS f_blockid_org, \\\n",
    "        nitrogen AS f_nitrogen, \\\n",
    "        kalium AS f_kalium, \\\n",
    "        phosphorus AS f_phosphorus, \\\n",
    "        sulphur AS f_sulphur, \\\n",
    "        calcium AS f_calcium, \\\n",
    "        magnesium AS f_MG, \\\n",
    "        nitrogen_earlier AS f_nitrogen_earlier, \\\n",
    "        edgeflag_percentage AS f_edgeflag_percentage \\\n",
    "        FROM agri.cultivation  \\\n",
    "        WHERE crop = ''' + crop_name +''' \\\n",
    "        AND farmname = 'Brandstad' \\\n",
    "        AND blockID = '''+str(fieldID),\n",
    "        # slopeness AS f_slopeness, \\\n",
    "        #nitrogen_secondary AS f_nitrogen_secondary, \\\n",
    "        #weather_precipitation AS f_weather_precip, \\\n",
    "        #weather_temperature AS f_weather_temp, \\\n",
    "        #harvest_year AS f_har_year, \\\n",
    "        #crop AS f_crop, \\\n",
    "        #geom AS f_geom, \\\n",
    "        #yield_amount AS f_yield_amount, \\\n",
    "        #''' + region_name +''' \\\n",
    "        # Gets all from soil_sample - specific: youngest, fieldID\n",
    "        5:'''SELECT * FROM agri.soil_sample WHERE youngest = 'True' \\\n",
    "        AND c.blockid = '''+str(fieldID),\n",
    "        \n",
    "        # Unfinished call - do not use\n",
    "        10: \"SELECT a.id,a.year,b.id,b.year,ST_X(a.geom),ST_X(b.geom) \\\n",
    "        FROM agri.soil_sample a,agri.soil_sample b WHERE ST_DWithin(a.geom,b.geom,10) \\\n",
    "        AND a.id <> b.id AND a.year <> b.year ORDER BY ST_X(a.geom),a.year;\"\n",
    "    }\n",
    "    return switcher.get(argument,\"Invalid choise - by myself\")\n",
    "\n",
    "# WHERE crop ILIKE '%vete%'  "
   ]
  },
  {
   "cell_type": "markdown",
   "metadata": {},
   "source": [
    "### Cleaning up selection - getting rid of NaNs"
   ]
  },
  {
   "cell_type": "code",
   "execution_count": 62,
   "metadata": {},
   "outputs": [
    {
     "name": "stdout",
     "output_type": "stream",
     "text": [
      "number of fields remaining after cleaning:  48\n"
     ]
    }
   ],
   "source": [
    "Hed_fields = list(testdf4[\"blockid\"].unique()) #[\"farmname\"].unique() #['blockid'][2]\n",
    "Hed_fields = [int(l) for l in Hed_fields if str(l) != 'nan']\n",
    "print(\"number of fields remaining after cleaning: \", len(Hed_fields))"
   ]
  },
  {
   "cell_type": "markdown",
   "metadata": {},
   "source": [
    "## Calls to database "
   ]
  },
  {
   "cell_type": "code",
   "execution_count": 63,
   "metadata": {},
   "outputs": [
    {
     "name": "stderr",
     "output_type": "stream",
     "text": [
      "\r",
      "  0% 0/1 [00:00<?, ?it/s]"
     ]
    },
    {
     "name": "stdout",
     "output_type": "stream",
     "text": [
      "Connecting to the PostgreSQL database...\n",
      "Connection successful\n",
      "Now importing all  soil  data.\n"
     ]
    },
    {
     "name": "stderr",
     "output_type": "stream",
     "text": [
      "100% 1/1 [00:01<00:00,  1.48s/it]"
     ]
    },
    {
     "name": "stdout",
     "output_type": "stream",
     "text": [
      "Finished with all soil  data. Downloaded  340  rows. That took 1 sec. \n",
      "\n",
      "Connection closed\n"
     ]
    },
    {
     "name": "stderr",
     "output_type": "stream",
     "text": [
      "\n"
     ]
    }
   ],
   "source": [
    "#year_chosen = 2019 # Important - this is the year for the data to do analysis upon\n",
    "\n",
    "#crop_name=\"'Höstvete'\" #\"\n",
    "#crop_name = \"'Vårkorn'\"\n",
    "\n",
    "onlyfiles = [l for l in Hed_fields]#[:3]]\n",
    "#print(onlyfiles)\n",
    "# Connect to PostgreSQL server\n",
    "dbConnection = connect(param_dic)\n",
    "\n",
    "# dict to load all soil, weather, harvest and year data for fields in \"onlyfiles\" list\n",
    "all_dfs = {}\n",
    "\n",
    "#textcom = [textfiel, textsoil, textweat, textharv]\n",
    "#paths = [\"field\", \"soil\",\"weather\",  \"harvest\"]\n",
    "paths = [\"soil\"]\n",
    "dfs = {0:'s'}\n",
    "\n",
    "for cnt in tqdm(range(len(dfs))):#range(len(dfs)):#df_chosen in tqdm(dfs):#, path_chosen in zip(dfs, paths):\n",
    "    print(\"Now importing all \", paths[cnt], \" data.\")\n",
    "    df_chosen = dfs[cnt]\n",
    "    tempdf = pd.DataFrame()\n",
    "    start_time = datetime.datetime.now()\n",
    "    for fieldID in onlyfiles: # Loop through all fields in list onlyfiles\n",
    "        #print(\"now working with field \", fieldID)\n",
    "        texttouse = new_calls(cnt, region_name, crop_name, fieldID)\n",
    "        tempdf = tempdf.append(pd.read_sql_query(texttouse, dbConnection))\n",
    "    dif = datetime.datetime.now()-start_time\n",
    "    print(\"Finished with all\",paths[cnt],\" data. Downloaded \",len(tempdf),\" rows. That took\", dif.seconds, \"sec. \\n\")\n",
    "    all_dfs[df_chosen] = tempdf\n",
    "    \n",
    "# Close the database connection\n",
    "dbConnection.close();\n",
    "print(\"Connection closed\")"
   ]
  },
  {
   "cell_type": "code",
   "execution_count": 64,
   "metadata": {},
   "outputs": [],
   "source": [
    "soildf = all_dfs['s'].copy() # soil data\n",
    "#tempdf = all_dfs['w'].copy() # weather data\n",
    "#harvdf = all_dfs['h'].copy() # harvest data\n",
    "#fieldf = all_dfs['f'].copy() # field data\n",
    "\n",
    "#fieldf = fieldf[fieldf['f_blockid'].notna()] # remove all rows where blockid is NaN\n"
   ]
  },
  {
   "cell_type": "code",
   "execution_count": 65,
   "metadata": {},
   "outputs": [
    {
     "data": {
      "text/plain": [
       "(340, 9)"
      ]
     },
     "execution_count": 65,
     "metadata": {},
     "output_type": "execute_result"
    }
   ],
   "source": [
    "df = soildf.copy()\n",
    "df.shape"
   ]
  },
  {
   "cell_type": "code",
   "execution_count": 66,
   "metadata": {},
   "outputs": [],
   "source": [
    "percent_missing = df.isnull().sum() * 100 / len(df)\n",
    "missing_value_df = pd.DataFrame({'column_name': df.columns,\n",
    "                                 'percent_missing': percent_missing})"
   ]
  },
  {
   "cell_type": "code",
   "execution_count": 67,
   "metadata": {},
   "outputs": [
    {
     "data": {
      "text/html": [
       "<div>\n",
       "<style scoped>\n",
       "    .dataframe tbody tr th:only-of-type {\n",
       "        vertical-align: middle;\n",
       "    }\n",
       "\n",
       "    .dataframe tbody tr th {\n",
       "        vertical-align: top;\n",
       "    }\n",
       "\n",
       "    .dataframe thead th {\n",
       "        text-align: right;\n",
       "    }\n",
       "</style>\n",
       "<table border=\"1\" class=\"dataframe\">\n",
       "  <thead>\n",
       "    <tr style=\"text-align: right;\">\n",
       "      <th></th>\n",
       "      <th>column_name</th>\n",
       "      <th>percent_missing</th>\n",
       "    </tr>\n",
       "  </thead>\n",
       "  <tbody>\n",
       "    <tr>\n",
       "      <th>coord_x</th>\n",
       "      <td>coord_x</td>\n",
       "      <td>0.0</td>\n",
       "    </tr>\n",
       "    <tr>\n",
       "      <th>coord_y</th>\n",
       "      <td>coord_y</td>\n",
       "      <td>0.0</td>\n",
       "    </tr>\n",
       "    <tr>\n",
       "      <th>s_ph</th>\n",
       "      <td>s_ph</td>\n",
       "      <td>0.0</td>\n",
       "    </tr>\n",
       "    <tr>\n",
       "      <th>s_hum100</th>\n",
       "      <td>s_hum100</td>\n",
       "      <td>0.0</td>\n",
       "    </tr>\n",
       "    <tr>\n",
       "      <th>s_clay100</th>\n",
       "      <td>s_clay100</td>\n",
       "      <td>0.0</td>\n",
       "    </tr>\n",
       "    <tr>\n",
       "      <th>s_phosphorus</th>\n",
       "      <td>s_phosphorus</td>\n",
       "      <td>0.0</td>\n",
       "    </tr>\n",
       "    <tr>\n",
       "      <th>s_calcium</th>\n",
       "      <td>s_calcium</td>\n",
       "      <td>0.0</td>\n",
       "    </tr>\n",
       "    <tr>\n",
       "      <th>s_k</th>\n",
       "      <td>s_k</td>\n",
       "      <td>0.0</td>\n",
       "    </tr>\n",
       "    <tr>\n",
       "      <th>s_mg</th>\n",
       "      <td>s_mg</td>\n",
       "      <td>0.0</td>\n",
       "    </tr>\n",
       "  </tbody>\n",
       "</table>\n",
       "</div>"
      ],
      "text/plain": [
       "               column_name  percent_missing\n",
       "coord_x            coord_x              0.0\n",
       "coord_y            coord_y              0.0\n",
       "s_ph                  s_ph              0.0\n",
       "s_hum100          s_hum100              0.0\n",
       "s_clay100        s_clay100              0.0\n",
       "s_phosphorus  s_phosphorus              0.0\n",
       "s_calcium        s_calcium              0.0\n",
       "s_k                    s_k              0.0\n",
       "s_mg                  s_mg              0.0"
      ]
     },
     "execution_count": 67,
     "metadata": {},
     "output_type": "execute_result"
    }
   ],
   "source": [
    "missing_value_df"
   ]
  },
  {
   "cell_type": "markdown",
   "metadata": {},
   "source": [
    "# Soil Data Import and Processing/Clean Up"
   ]
  },
  {
   "cell_type": "markdown",
   "metadata": {},
   "source": [
    "Now include the ratio of K/Mg as an extra column in the dataframe"
   ]
  },
  {
   "cell_type": "code",
   "execution_count": 68,
   "metadata": {},
   "outputs": [],
   "source": [
    "soildf['s_K/Mg'] = soildf['s_k']/soildf['s_mg']"
   ]
  },
  {
   "cell_type": "code",
   "execution_count": 69,
   "metadata": {},
   "outputs": [
    {
     "data": {
      "text/html": [
       "<div>\n",
       "<style scoped>\n",
       "    .dataframe tbody tr th:only-of-type {\n",
       "        vertical-align: middle;\n",
       "    }\n",
       "\n",
       "    .dataframe tbody tr th {\n",
       "        vertical-align: top;\n",
       "    }\n",
       "\n",
       "    .dataframe thead th {\n",
       "        text-align: right;\n",
       "    }\n",
       "</style>\n",
       "<table border=\"1\" class=\"dataframe\">\n",
       "  <thead>\n",
       "    <tr style=\"text-align: right;\">\n",
       "      <th></th>\n",
       "      <th>coord_x</th>\n",
       "      <th>coord_y</th>\n",
       "      <th>s_ph</th>\n",
       "      <th>s_hum100</th>\n",
       "      <th>s_clay100</th>\n",
       "      <th>s_phosphorus</th>\n",
       "      <th>s_calcium</th>\n",
       "      <th>s_k</th>\n",
       "      <th>s_mg</th>\n",
       "      <th>s_K/Mg</th>\n",
       "    </tr>\n",
       "  </thead>\n",
       "  <tbody>\n",
       "    <tr>\n",
       "      <th>0</th>\n",
       "      <td>391614.4</td>\n",
       "      <td>6162769.6</td>\n",
       "      <td>8.1</td>\n",
       "      <td>13.2</td>\n",
       "      <td>18</td>\n",
       "      <td>9.6</td>\n",
       "      <td>1200.0</td>\n",
       "      <td>12.0</td>\n",
       "      <td>24.0</td>\n",
       "      <td>0.500000</td>\n",
       "    </tr>\n",
       "    <tr>\n",
       "      <th>1</th>\n",
       "      <td>391720.0</td>\n",
       "      <td>6162971.8</td>\n",
       "      <td>7.4</td>\n",
       "      <td>3.8</td>\n",
       "      <td>28</td>\n",
       "      <td>8.4</td>\n",
       "      <td>390.0</td>\n",
       "      <td>15.0</td>\n",
       "      <td>18.0</td>\n",
       "      <td>0.833333</td>\n",
       "    </tr>\n",
       "    <tr>\n",
       "      <th>2</th>\n",
       "      <td>391508.6</td>\n",
       "      <td>6162928.3</td>\n",
       "      <td>8.4</td>\n",
       "      <td>3.0</td>\n",
       "      <td>36</td>\n",
       "      <td>9.2</td>\n",
       "      <td>2000.0</td>\n",
       "      <td>21.0</td>\n",
       "      <td>27.0</td>\n",
       "      <td>0.777778</td>\n",
       "    </tr>\n",
       "    <tr>\n",
       "      <th>3</th>\n",
       "      <td>391588.8</td>\n",
       "      <td>6163343.0</td>\n",
       "      <td>7.8</td>\n",
       "      <td>3.6</td>\n",
       "      <td>38</td>\n",
       "      <td>6.1</td>\n",
       "      <td>450.0</td>\n",
       "      <td>20.0</td>\n",
       "      <td>15.0</td>\n",
       "      <td>1.333333</td>\n",
       "    </tr>\n",
       "    <tr>\n",
       "      <th>4</th>\n",
       "      <td>391735.2</td>\n",
       "      <td>6163128.8</td>\n",
       "      <td>7.0</td>\n",
       "      <td>4.2</td>\n",
       "      <td>25</td>\n",
       "      <td>4.1</td>\n",
       "      <td>320.0</td>\n",
       "      <td>13.0</td>\n",
       "      <td>12.0</td>\n",
       "      <td>1.083333</td>\n",
       "    </tr>\n",
       "  </tbody>\n",
       "</table>\n",
       "</div>"
      ],
      "text/plain": [
       "    coord_x    coord_y  s_ph  s_hum100 s_clay100  s_phosphorus  s_calcium  \\\n",
       "0  391614.4  6162769.6   8.1      13.2        18           9.6     1200.0   \n",
       "1  391720.0  6162971.8   7.4       3.8        28           8.4      390.0   \n",
       "2  391508.6  6162928.3   8.4       3.0        36           9.2     2000.0   \n",
       "3  391588.8  6163343.0   7.8       3.6        38           6.1      450.0   \n",
       "4  391735.2  6163128.8   7.0       4.2        25           4.1      320.0   \n",
       "\n",
       "    s_k  s_mg    s_K/Mg  \n",
       "0  12.0  24.0  0.500000  \n",
       "1  15.0  18.0  0.833333  \n",
       "2  21.0  27.0  0.777778  \n",
       "3  20.0  15.0  1.333333  \n",
       "4  13.0  12.0  1.083333  "
      ]
     },
     "execution_count": 69,
     "metadata": {},
     "output_type": "execute_result"
    }
   ],
   "source": [
    "nnsoildf = soildf\n",
    "nnsoildf.head()\n"
   ]
  },
  {
   "cell_type": "code",
   "execution_count": 70,
   "metadata": {},
   "outputs": [
    {
     "name": "stdout",
     "output_type": "stream",
     "text": [
      "the shape of soil data for this field is  (340, 10)\n"
     ]
    }
   ],
   "source": [
    "print(\"the shape of soil data for this field is \", nnsoildf.shape)"
   ]
  },
  {
   "cell_type": "markdown",
   "metadata": {},
   "source": [
    "# Create list from soil coordinates and output to file"
   ]
  },
  {
   "cell_type": "markdown",
   "metadata": {},
   "source": [
    "Create output file to hold the centers lists"
   ]
  },
  {
   "cell_type": "code",
   "execution_count": 71,
   "metadata": {},
   "outputs": [],
   "source": [
    "xcenters = list(soildf.iloc[:,0])\n",
    "ycenters = list(soildf.iloc[:,1])"
   ]
  },
  {
   "cell_type": "code",
   "execution_count": 72,
   "metadata": {},
   "outputs": [],
   "source": [
    "import pickle\n",
    "\n",
    "# storing list to file \n",
    "with open(\"centers_Heddinge_hostvete.txt\", 'wb') as f:\n",
    "    pickle.dump((xcenters, ycenters), f)\n"
   ]
  },
  {
   "cell_type": "code",
   "execution_count": 56,
   "metadata": {},
   "outputs": [
    {
     "data": {
      "text/plain": [
       "True"
      ]
     },
     "execution_count": 56,
     "metadata": {},
     "output_type": "execute_result"
    }
   ],
   "source": [
    "# Testing that it worked\n",
    "# loading list from file\n",
    "with open(\"centers.txt\", 'rb') as f:\n",
    "   testx, testy = pickle.load(f)\n",
    "testx==xcenters"
   ]
  },
  {
   "cell_type": "markdown",
   "metadata": {},
   "source": [
    "End of file"
   ]
  },
  {
   "cell_type": "code",
   "execution_count": null,
   "metadata": {},
   "outputs": [],
   "source": []
  },
  {
   "cell_type": "code",
   "execution_count": null,
   "metadata": {},
   "outputs": [],
   "source": []
  },
  {
   "cell_type": "code",
   "execution_count": null,
   "metadata": {},
   "outputs": [],
   "source": []
  },
  {
   "cell_type": "code",
   "execution_count": null,
   "metadata": {},
   "outputs": [],
   "source": []
  },
  {
   "cell_type": "code",
   "execution_count": null,
   "metadata": {},
   "outputs": [],
   "source": []
  },
  {
   "cell_type": "code",
   "execution_count": null,
   "metadata": {},
   "outputs": [],
   "source": []
  },
  {
   "cell_type": "code",
   "execution_count": 97,
   "metadata": {},
   "outputs": [],
   "source": [
    "# #cols_to_keep = [\"time\", \"year\", \"temperature\", \"precipitation\"]\n",
    "# #ntempdf = tempdf[cols_to_keep]#[\"temperature\"][:20]\n",
    "\n",
    "# # First change the date column to datetime object\n",
    "# # Convert date and time to just datetime object with only date\n",
    "# format_string = \"%Y-%m-%d\"\n",
    "# tempdf[\"w_time\"] = pd.to_datetime(tempdf[\"w_time\"], format = format_string)\n",
    "\n",
    "# # choose to keep year 2020\n",
    "# tempdf = elim(tempdf, \"w_year\", year_chosen)"
   ]
  },
  {
   "cell_type": "code",
   "execution_count": null,
   "metadata": {},
   "outputs": [],
   "source": []
  },
  {
   "cell_type": "code",
   "execution_count": 98,
   "metadata": {},
   "outputs": [
    {
     "data": {
      "text/html": [
       "<div>\n",
       "<style scoped>\n",
       "    .dataframe tbody tr th:only-of-type {\n",
       "        vertical-align: middle;\n",
       "    }\n",
       "\n",
       "    .dataframe tbody tr th {\n",
       "        vertical-align: top;\n",
       "    }\n",
       "\n",
       "    .dataframe thead th {\n",
       "        text-align: right;\n",
       "    }\n",
       "</style>\n",
       "<table border=\"1\" class=\"dataframe\">\n",
       "  <thead>\n",
       "    <tr style=\"text-align: right;\">\n",
       "      <th></th>\n",
       "      <th>w_precipitation</th>\n",
       "      <th>w_year</th>\n",
       "      <th>w_time</th>\n",
       "    </tr>\n",
       "  </thead>\n",
       "  <tbody>\n",
       "    <tr>\n",
       "      <th>0</th>\n",
       "      <td>0.0</td>\n",
       "      <td>2000</td>\n",
       "      <td>2000-09-29</td>\n",
       "    </tr>\n",
       "    <tr>\n",
       "      <th>1</th>\n",
       "      <td>0.5</td>\n",
       "      <td>2000</td>\n",
       "      <td>2000-08-15</td>\n",
       "    </tr>\n",
       "    <tr>\n",
       "      <th>2</th>\n",
       "      <td>8.3</td>\n",
       "      <td>2000</td>\n",
       "      <td>2000-08-14</td>\n",
       "    </tr>\n",
       "    <tr>\n",
       "      <th>3</th>\n",
       "      <td>0.0</td>\n",
       "      <td>2000</td>\n",
       "      <td>2000-08-13</td>\n",
       "    </tr>\n",
       "    <tr>\n",
       "      <th>4</th>\n",
       "      <td>0.0</td>\n",
       "      <td>2000</td>\n",
       "      <td>2000-08-12</td>\n",
       "    </tr>\n",
       "    <tr>\n",
       "      <th>...</th>\n",
       "      <td>...</td>\n",
       "      <td>...</td>\n",
       "      <td>...</td>\n",
       "    </tr>\n",
       "    <tr>\n",
       "      <th>14699</th>\n",
       "      <td>1.0</td>\n",
       "      <td>2021</td>\n",
       "      <td>2021-05-26</td>\n",
       "    </tr>\n",
       "    <tr>\n",
       "      <th>14700</th>\n",
       "      <td>20.0</td>\n",
       "      <td>2021</td>\n",
       "      <td>2021-05-25</td>\n",
       "    </tr>\n",
       "    <tr>\n",
       "      <th>14701</th>\n",
       "      <td>0.0</td>\n",
       "      <td>2021</td>\n",
       "      <td>2021-05-24</td>\n",
       "    </tr>\n",
       "    <tr>\n",
       "      <th>14702</th>\n",
       "      <td>0.8</td>\n",
       "      <td>2021</td>\n",
       "      <td>2021-05-23</td>\n",
       "    </tr>\n",
       "    <tr>\n",
       "      <th>14703</th>\n",
       "      <td>2.4</td>\n",
       "      <td>2021</td>\n",
       "      <td>2021-05-22</td>\n",
       "    </tr>\n",
       "  </tbody>\n",
       "</table>\n",
       "<p>205856 rows × 3 columns</p>\n",
       "</div>"
      ],
      "text/plain": [
       "       w_precipitation  w_year     w_time\n",
       "0                  0.0    2000 2000-09-29\n",
       "1                  0.5    2000 2000-08-15\n",
       "2                  8.3    2000 2000-08-14\n",
       "3                  0.0    2000 2000-08-13\n",
       "4                  0.0    2000 2000-08-12\n",
       "...                ...     ...        ...\n",
       "14699              1.0    2021 2021-05-26\n",
       "14700             20.0    2021 2021-05-25\n",
       "14701              0.0    2021 2021-05-24\n",
       "14702              0.8    2021 2021-05-23\n",
       "14703              2.4    2021 2021-05-22\n",
       "\n",
       "[205856 rows x 3 columns]"
      ]
     },
     "execution_count": 98,
     "metadata": {},
     "output_type": "execute_result"
    }
   ],
   "source": [
    "tempdf"
   ]
  },
  {
   "cell_type": "code",
   "execution_count": 99,
   "metadata": {},
   "outputs": [
    {
     "data": {
      "text/html": [
       "<div>\n",
       "<style scoped>\n",
       "    .dataframe tbody tr th:only-of-type {\n",
       "        vertical-align: middle;\n",
       "    }\n",
       "\n",
       "    .dataframe tbody tr th {\n",
       "        vertical-align: top;\n",
       "    }\n",
       "\n",
       "    .dataframe thead th {\n",
       "        text-align: right;\n",
       "    }\n",
       "</style>\n",
       "<table border=\"1\" class=\"dataframe\">\n",
       "  <thead>\n",
       "    <tr style=\"text-align: right;\">\n",
       "      <th></th>\n",
       "      <th>f_blockid</th>\n",
       "      <th>f_seed_date</th>\n",
       "      <th>f_seed_amount</th>\n",
       "      <th>f_harvest_date</th>\n",
       "      <th>f_yield_harvester_measured</th>\n",
       "      <th>f_yield_water_percentage</th>\n",
       "      <th>f_fertilizer_date</th>\n",
       "      <th>f_fertilizer_amount</th>\n",
       "      <th>f_humus_average</th>\n",
       "      <th>f_humus_stddev</th>\n",
       "      <th>...</th>\n",
       "      <th>f_weatherstation_dist</th>\n",
       "      <th>f_blockid_org</th>\n",
       "      <th>f_nitrogen</th>\n",
       "      <th>f_kalium</th>\n",
       "      <th>f_phosphorus</th>\n",
       "      <th>f_sulphur</th>\n",
       "      <th>f_calcium</th>\n",
       "      <th>f_mg</th>\n",
       "      <th>f_nitrogen_earlier</th>\n",
       "      <th>f_edgeflag_percentage</th>\n",
       "    </tr>\n",
       "  </thead>\n",
       "  <tbody>\n",
       "    <tr>\n",
       "      <th>0</th>\n",
       "      <td>6.174367e+11</td>\n",
       "      <td>2018-09-18</td>\n",
       "      <td>185.0</td>\n",
       "      <td>2019-07-24</td>\n",
       "      <td>23836.4</td>\n",
       "      <td>18</td>\n",
       "      <td>2019-03-27</td>\n",
       "      <td>265.0</td>\n",
       "      <td>4.5</td>\n",
       "      <td>0.4</td>\n",
       "      <td>...</td>\n",
       "      <td>9815</td>\n",
       "      <td>6.174367e+10</td>\n",
       "      <td>279.0</td>\n",
       "      <td>49.0</td>\n",
       "      <td>17.0</td>\n",
       "      <td>34.0</td>\n",
       "      <td>24.0</td>\n",
       "      <td>0.0</td>\n",
       "      <td>0</td>\n",
       "      <td>13.0</td>\n",
       "    </tr>\n",
       "    <tr>\n",
       "      <th>0</th>\n",
       "      <td>6.175368e+10</td>\n",
       "      <td>2018-09-17</td>\n",
       "      <td>185.0</td>\n",
       "      <td>2019-07-24</td>\n",
       "      <td>10445.2</td>\n",
       "      <td>14</td>\n",
       "      <td>2019-03-29</td>\n",
       "      <td>275.0</td>\n",
       "      <td>6.4</td>\n",
       "      <td>1.8</td>\n",
       "      <td>...</td>\n",
       "      <td>8794</td>\n",
       "      <td>6.175368e+10</td>\n",
       "      <td>417.0</td>\n",
       "      <td>172.0</td>\n",
       "      <td>35.0</td>\n",
       "      <td>27.0</td>\n",
       "      <td>19.0</td>\n",
       "      <td>0.0</td>\n",
       "      <td>40</td>\n",
       "      <td>12.0</td>\n",
       "    </tr>\n",
       "    <tr>\n",
       "      <th>0</th>\n",
       "      <td>6.177367e+10</td>\n",
       "      <td>2018-09-19</td>\n",
       "      <td>200.0</td>\n",
       "      <td>2019-07-24</td>\n",
       "      <td>18166.4</td>\n",
       "      <td>14</td>\n",
       "      <td>2019-03-29</td>\n",
       "      <td>275.0</td>\n",
       "      <td>4.5</td>\n",
       "      <td>1.2</td>\n",
       "      <td>...</td>\n",
       "      <td>6758</td>\n",
       "      <td>6.177367e+10</td>\n",
       "      <td>213.0</td>\n",
       "      <td>28.0</td>\n",
       "      <td>8.0</td>\n",
       "      <td>24.0</td>\n",
       "      <td>30.0</td>\n",
       "      <td>0.0</td>\n",
       "      <td>0</td>\n",
       "      <td>9.0</td>\n",
       "    </tr>\n",
       "    <tr>\n",
       "      <th>0</th>\n",
       "      <td>6.174367e+11</td>\n",
       "      <td>2018-09-22</td>\n",
       "      <td>200.0</td>\n",
       "      <td>2019-07-24</td>\n",
       "      <td>25024.6</td>\n",
       "      <td>16</td>\n",
       "      <td>2019-03-27</td>\n",
       "      <td>275.0</td>\n",
       "      <td>4.1</td>\n",
       "      <td>0.4</td>\n",
       "      <td>...</td>\n",
       "      <td>9931</td>\n",
       "      <td>6.174367e+10</td>\n",
       "      <td>319.0</td>\n",
       "      <td>58.0</td>\n",
       "      <td>17.0</td>\n",
       "      <td>31.0</td>\n",
       "      <td>29.0</td>\n",
       "      <td>0.0</td>\n",
       "      <td>40</td>\n",
       "      <td>9.0</td>\n",
       "    </tr>\n",
       "    <tr>\n",
       "      <th>0</th>\n",
       "      <td>6.174369e+11</td>\n",
       "      <td>2018-09-24</td>\n",
       "      <td>200.0</td>\n",
       "      <td>2019-07-24</td>\n",
       "      <td>12134.2</td>\n",
       "      <td>17</td>\n",
       "      <td>2019-03-28</td>\n",
       "      <td>275.0</td>\n",
       "      <td>5.7</td>\n",
       "      <td>1.7</td>\n",
       "      <td>...</td>\n",
       "      <td>9500</td>\n",
       "      <td>6.174369e+10</td>\n",
       "      <td>233.0</td>\n",
       "      <td>28.0</td>\n",
       "      <td>8.0</td>\n",
       "      <td>25.0</td>\n",
       "      <td>29.0</td>\n",
       "      <td>0.0</td>\n",
       "      <td>0</td>\n",
       "      <td>15.0</td>\n",
       "    </tr>\n",
       "    <tr>\n",
       "      <th>0</th>\n",
       "      <td>6.175367e+10</td>\n",
       "      <td>2018-09-17</td>\n",
       "      <td>185.0</td>\n",
       "      <td>2019-07-24</td>\n",
       "      <td>5551.5</td>\n",
       "      <td>16</td>\n",
       "      <td>2019-03-29</td>\n",
       "      <td>275.0</td>\n",
       "      <td>5.4</td>\n",
       "      <td>0.1</td>\n",
       "      <td>...</td>\n",
       "      <td>9235</td>\n",
       "      <td>6.175367e+10</td>\n",
       "      <td>397.0</td>\n",
       "      <td>172.0</td>\n",
       "      <td>35.0</td>\n",
       "      <td>27.0</td>\n",
       "      <td>24.0</td>\n",
       "      <td>0.0</td>\n",
       "      <td>0</td>\n",
       "      <td>16.0</td>\n",
       "    </tr>\n",
       "    <tr>\n",
       "      <th>0</th>\n",
       "      <td>6.173372e+10</td>\n",
       "      <td>2018-09-14</td>\n",
       "      <td>185.0</td>\n",
       "      <td>2019-07-24</td>\n",
       "      <td>3552.1</td>\n",
       "      <td>15</td>\n",
       "      <td>2019-03-29</td>\n",
       "      <td>275.0</td>\n",
       "      <td>None</td>\n",
       "      <td>None</td>\n",
       "      <td>...</td>\n",
       "      <td>11890</td>\n",
       "      <td>6.173372e+10</td>\n",
       "      <td>280.0</td>\n",
       "      <td>58.0</td>\n",
       "      <td>17.0</td>\n",
       "      <td>31.0</td>\n",
       "      <td>27.0</td>\n",
       "      <td>0.0</td>\n",
       "      <td>0</td>\n",
       "      <td>17.0</td>\n",
       "    </tr>\n",
       "    <tr>\n",
       "      <th>0</th>\n",
       "      <td>6.173372e+10</td>\n",
       "      <td>2018-09-14</td>\n",
       "      <td>185.0</td>\n",
       "      <td>2019-07-24</td>\n",
       "      <td>15304.2</td>\n",
       "      <td>16</td>\n",
       "      <td>2019-03-29</td>\n",
       "      <td>275.0</td>\n",
       "      <td>None</td>\n",
       "      <td>None</td>\n",
       "      <td>...</td>\n",
       "      <td>10976</td>\n",
       "      <td>6.173372e+10</td>\n",
       "      <td>281.0</td>\n",
       "      <td>58.0</td>\n",
       "      <td>17.0</td>\n",
       "      <td>31.0</td>\n",
       "      <td>24.0</td>\n",
       "      <td>0.0</td>\n",
       "      <td>0</td>\n",
       "      <td>13.0</td>\n",
       "    </tr>\n",
       "    <tr>\n",
       "      <th>0</th>\n",
       "      <td>6.175371e+10</td>\n",
       "      <td>2018-09-25</td>\n",
       "      <td>200.0</td>\n",
       "      <td>2019-07-24</td>\n",
       "      <td>4398.8</td>\n",
       "      <td>12</td>\n",
       "      <td>2019-03-28</td>\n",
       "      <td>275.0</td>\n",
       "      <td>None</td>\n",
       "      <td>None</td>\n",
       "      <td>...</td>\n",
       "      <td>8845</td>\n",
       "      <td>6.175371e+10</td>\n",
       "      <td>280.0</td>\n",
       "      <td>58.0</td>\n",
       "      <td>17.0</td>\n",
       "      <td>31.0</td>\n",
       "      <td>29.0</td>\n",
       "      <td>0.0</td>\n",
       "      <td>0</td>\n",
       "      <td>28.0</td>\n",
       "    </tr>\n",
       "    <tr>\n",
       "      <th>0</th>\n",
       "      <td>6.175368e+10</td>\n",
       "      <td>2018-09-17</td>\n",
       "      <td>185.0</td>\n",
       "      <td>2019-07-24</td>\n",
       "      <td>3640.9</td>\n",
       "      <td>20</td>\n",
       "      <td>2019-03-29</td>\n",
       "      <td>275.0</td>\n",
       "      <td>5.5</td>\n",
       "      <td>1.1</td>\n",
       "      <td>...</td>\n",
       "      <td>9130</td>\n",
       "      <td>6.175368e+10</td>\n",
       "      <td>421.0</td>\n",
       "      <td>172.0</td>\n",
       "      <td>35.0</td>\n",
       "      <td>27.0</td>\n",
       "      <td>0.0</td>\n",
       "      <td>0.0</td>\n",
       "      <td>40</td>\n",
       "      <td>20.0</td>\n",
       "    </tr>\n",
       "    <tr>\n",
       "      <th>0</th>\n",
       "      <td>6.174367e+10</td>\n",
       "      <td>2018-09-21</td>\n",
       "      <td>200.0</td>\n",
       "      <td>2019-07-24</td>\n",
       "      <td>21460.8</td>\n",
       "      <td>15</td>\n",
       "      <td>2019-03-27</td>\n",
       "      <td>278.0</td>\n",
       "      <td>4.4</td>\n",
       "      <td>0.4</td>\n",
       "      <td>...</td>\n",
       "      <td>9959</td>\n",
       "      <td>6.174367e+10</td>\n",
       "      <td>320.0</td>\n",
       "      <td>58.0</td>\n",
       "      <td>17.0</td>\n",
       "      <td>31.0</td>\n",
       "      <td>29.0</td>\n",
       "      <td>0.0</td>\n",
       "      <td>40</td>\n",
       "      <td>11.0</td>\n",
       "    </tr>\n",
       "    <tr>\n",
       "      <th>0</th>\n",
       "      <td>6.174366e+10</td>\n",
       "      <td>2018-09-07</td>\n",
       "      <td>175.0</td>\n",
       "      <td>2019-07-24</td>\n",
       "      <td>3361.9</td>\n",
       "      <td>18</td>\n",
       "      <td>2019-03-27</td>\n",
       "      <td>265.0</td>\n",
       "      <td>6.4</td>\n",
       "      <td>1.3</td>\n",
       "      <td>...</td>\n",
       "      <td>10353</td>\n",
       "      <td>6.174366e+10</td>\n",
       "      <td>321.0</td>\n",
       "      <td>49.0</td>\n",
       "      <td>17.0</td>\n",
       "      <td>34.0</td>\n",
       "      <td>24.0</td>\n",
       "      <td>0.0</td>\n",
       "      <td>40</td>\n",
       "      <td>16.0</td>\n",
       "    </tr>\n",
       "    <tr>\n",
       "      <th>0</th>\n",
       "      <td>6.173369e+10</td>\n",
       "      <td>2018-09-20</td>\n",
       "      <td>200.0</td>\n",
       "      <td>2019-07-24</td>\n",
       "      <td>15909.6</td>\n",
       "      <td>18</td>\n",
       "      <td>2019-03-28</td>\n",
       "      <td>275.0</td>\n",
       "      <td>4.3</td>\n",
       "      <td>0.6</td>\n",
       "      <td>...</td>\n",
       "      <td>10780</td>\n",
       "      <td>6.173369e+10</td>\n",
       "      <td>278.0</td>\n",
       "      <td>58.0</td>\n",
       "      <td>17.0</td>\n",
       "      <td>31.0</td>\n",
       "      <td>24.0</td>\n",
       "      <td>0.0</td>\n",
       "      <td>0</td>\n",
       "      <td>18.0</td>\n",
       "    </tr>\n",
       "    <tr>\n",
       "      <th>0</th>\n",
       "      <td>6.176367e+10</td>\n",
       "      <td>2018-09-19</td>\n",
       "      <td>200.0</td>\n",
       "      <td>2019-07-24</td>\n",
       "      <td>4688.1</td>\n",
       "      <td>17</td>\n",
       "      <td>2019-03-29</td>\n",
       "      <td>275.0</td>\n",
       "      <td>None</td>\n",
       "      <td>None</td>\n",
       "      <td>...</td>\n",
       "      <td>8059</td>\n",
       "      <td>6.176367e+10</td>\n",
       "      <td>214.0</td>\n",
       "      <td>28.0</td>\n",
       "      <td>8.0</td>\n",
       "      <td>25.0</td>\n",
       "      <td>24.0</td>\n",
       "      <td>0.0</td>\n",
       "      <td>0</td>\n",
       "      <td>19.0</td>\n",
       "    </tr>\n",
       "  </tbody>\n",
       "</table>\n",
       "<p>14 rows × 23 columns</p>\n",
       "</div>"
      ],
      "text/plain": [
       "      f_blockid f_seed_date  f_seed_amount f_harvest_date  \\\n",
       "0  6.174367e+11  2018-09-18          185.0     2019-07-24   \n",
       "0  6.175368e+10  2018-09-17          185.0     2019-07-24   \n",
       "0  6.177367e+10  2018-09-19          200.0     2019-07-24   \n",
       "0  6.174367e+11  2018-09-22          200.0     2019-07-24   \n",
       "0  6.174369e+11  2018-09-24          200.0     2019-07-24   \n",
       "0  6.175367e+10  2018-09-17          185.0     2019-07-24   \n",
       "0  6.173372e+10  2018-09-14          185.0     2019-07-24   \n",
       "0  6.173372e+10  2018-09-14          185.0     2019-07-24   \n",
       "0  6.175371e+10  2018-09-25          200.0     2019-07-24   \n",
       "0  6.175368e+10  2018-09-17          185.0     2019-07-24   \n",
       "0  6.174367e+10  2018-09-21          200.0     2019-07-24   \n",
       "0  6.174366e+10  2018-09-07          175.0     2019-07-24   \n",
       "0  6.173369e+10  2018-09-20          200.0     2019-07-24   \n",
       "0  6.176367e+10  2018-09-19          200.0     2019-07-24   \n",
       "\n",
       "   f_yield_harvester_measured  f_yield_water_percentage f_fertilizer_date  \\\n",
       "0                     23836.4                        18        2019-03-27   \n",
       "0                     10445.2                        14        2019-03-29   \n",
       "0                     18166.4                        14        2019-03-29   \n",
       "0                     25024.6                        16        2019-03-27   \n",
       "0                     12134.2                        17        2019-03-28   \n",
       "0                      5551.5                        16        2019-03-29   \n",
       "0                      3552.1                        15        2019-03-29   \n",
       "0                     15304.2                        16        2019-03-29   \n",
       "0                      4398.8                        12        2019-03-28   \n",
       "0                      3640.9                        20        2019-03-29   \n",
       "0                     21460.8                        15        2019-03-27   \n",
       "0                      3361.9                        18        2019-03-27   \n",
       "0                     15909.6                        18        2019-03-28   \n",
       "0                      4688.1                        17        2019-03-29   \n",
       "\n",
       "   f_fertilizer_amount f_humus_average f_humus_stddev  ...  \\\n",
       "0                265.0             4.5            0.4  ...   \n",
       "0                275.0             6.4            1.8  ...   \n",
       "0                275.0             4.5            1.2  ...   \n",
       "0                275.0             4.1            0.4  ...   \n",
       "0                275.0             5.7            1.7  ...   \n",
       "0                275.0             5.4            0.1  ...   \n",
       "0                275.0            None           None  ...   \n",
       "0                275.0            None           None  ...   \n",
       "0                275.0            None           None  ...   \n",
       "0                275.0             5.5            1.1  ...   \n",
       "0                278.0             4.4            0.4  ...   \n",
       "0                265.0             6.4            1.3  ...   \n",
       "0                275.0             4.3            0.6  ...   \n",
       "0                275.0            None           None  ...   \n",
       "\n",
       "  f_weatherstation_dist f_blockid_org f_nitrogen  f_kalium  f_phosphorus  \\\n",
       "0                  9815  6.174367e+10      279.0      49.0          17.0   \n",
       "0                  8794  6.175368e+10      417.0     172.0          35.0   \n",
       "0                  6758  6.177367e+10      213.0      28.0           8.0   \n",
       "0                  9931  6.174367e+10      319.0      58.0          17.0   \n",
       "0                  9500  6.174369e+10      233.0      28.0           8.0   \n",
       "0                  9235  6.175367e+10      397.0     172.0          35.0   \n",
       "0                 11890  6.173372e+10      280.0      58.0          17.0   \n",
       "0                 10976  6.173372e+10      281.0      58.0          17.0   \n",
       "0                  8845  6.175371e+10      280.0      58.0          17.0   \n",
       "0                  9130  6.175368e+10      421.0     172.0          35.0   \n",
       "0                  9959  6.174367e+10      320.0      58.0          17.0   \n",
       "0                 10353  6.174366e+10      321.0      49.0          17.0   \n",
       "0                 10780  6.173369e+10      278.0      58.0          17.0   \n",
       "0                  8059  6.176367e+10      214.0      28.0           8.0   \n",
       "\n",
       "   f_sulphur  f_calcium  f_mg  f_nitrogen_earlier  f_edgeflag_percentage  \n",
       "0       34.0       24.0   0.0                   0                   13.0  \n",
       "0       27.0       19.0   0.0                  40                   12.0  \n",
       "0       24.0       30.0   0.0                   0                    9.0  \n",
       "0       31.0       29.0   0.0                  40                    9.0  \n",
       "0       25.0       29.0   0.0                   0                   15.0  \n",
       "0       27.0       24.0   0.0                   0                   16.0  \n",
       "0       31.0       27.0   0.0                   0                   17.0  \n",
       "0       31.0       24.0   0.0                   0                   13.0  \n",
       "0       31.0       29.0   0.0                   0                   28.0  \n",
       "0       27.0        0.0   0.0                  40                   20.0  \n",
       "0       31.0       29.0   0.0                  40                   11.0  \n",
       "0       34.0       24.0   0.0                  40                   16.0  \n",
       "0       31.0       24.0   0.0                   0                   18.0  \n",
       "0       25.0       24.0   0.0                   0                   19.0  \n",
       "\n",
       "[14 rows x 23 columns]"
      ]
     },
     "execution_count": 99,
     "metadata": {},
     "output_type": "execute_result"
    }
   ],
   "source": [
    "fieldf"
   ]
  },
  {
   "cell_type": "code",
   "execution_count": 100,
   "metadata": {},
   "outputs": [],
   "source": [
    "# # Create figure and plot space\n",
    "# fig, ax = plt.subplots(figsize=(12, 12))\n",
    "\n",
    "# # Add x-axis and y-axis\n",
    "# ax.bar(tempdf[\"w_time\"],#.index.values,\n",
    "#        tempdf[\"w_precipitation\"],#['DAILY_PRECIP'],\n",
    "#        color='purple')\n",
    "# # Add x-axis and y-axis\n",
    "# #ax.scatter(boulder_july_2018.index.values,\n",
    "# #        boulder_july_2018['precip'],\n",
    "# #        color='purple')\n",
    "\n",
    "# # Create figure and plot space\n",
    "# #fig, ax = plt.subplots(figsize=(10, 10))\n",
    "\n",
    "# # Add x-axis and y-axis\n",
    "# #ax.plot(boulder_july_2018['date'],\n",
    "# #        boulder_july_2018['precip'],\n",
    "# #        color='purple')\n",
    "\n",
    "\n",
    "# # Set title and labels for axes\n",
    "# ax.set(xlabel=\"Date\",\n",
    "#        ylabel=\"Precipitation (inches)\",\n",
    "#        title=\"Daily Total Precipitation\\nBoulder, Colorado in July 2018\")\n",
    "\n",
    "# # Rotate tick marks on x-axis\n",
    "# plt.setp(ax.get_xticklabels(), rotation=45)\n",
    "\n",
    "# # Set title and labels for axes\n",
    "# #ax.set(xlabel=\"w_time\",\n",
    "# #       ylabel=\"w_precipitation\",\n",
    "# #       title=\"Daily Total Precipitation\\nJune - Aug 2005 for Boulder Creek\")\n",
    "\n",
    "# plt.show()\n"
   ]
  },
  {
   "cell_type": "markdown",
   "metadata": {},
   "source": [
    "## Grouping weather data by Seasons, Month, week - do a total "
   ]
  },
  {
   "cell_type": "markdown",
   "metadata": {},
   "source": [
    "Total average of all columns"
   ]
  },
  {
   "cell_type": "code",
   "execution_count": 101,
   "metadata": {},
   "outputs": [
    {
     "data": {
      "text/html": [
       "<div>\n",
       "<style scoped>\n",
       "    .dataframe tbody tr th:only-of-type {\n",
       "        vertical-align: middle;\n",
       "    }\n",
       "\n",
       "    .dataframe tbody tr th {\n",
       "        vertical-align: top;\n",
       "    }\n",
       "\n",
       "    .dataframe thead th {\n",
       "        text-align: right;\n",
       "    }\n",
       "</style>\n",
       "<table border=\"1\" class=\"dataframe\">\n",
       "  <thead>\n",
       "    <tr style=\"text-align: right;\">\n",
       "      <th></th>\n",
       "      <th>w_precipitation</th>\n",
       "      <th>w_year</th>\n",
       "      <th>w_time</th>\n",
       "    </tr>\n",
       "  </thead>\n",
       "  <tbody>\n",
       "    <tr>\n",
       "      <th>0</th>\n",
       "      <td>0.0</td>\n",
       "      <td>2000</td>\n",
       "      <td>2000-09-29</td>\n",
       "    </tr>\n",
       "    <tr>\n",
       "      <th>1</th>\n",
       "      <td>0.5</td>\n",
       "      <td>2000</td>\n",
       "      <td>2000-08-15</td>\n",
       "    </tr>\n",
       "    <tr>\n",
       "      <th>2</th>\n",
       "      <td>8.3</td>\n",
       "      <td>2000</td>\n",
       "      <td>2000-08-14</td>\n",
       "    </tr>\n",
       "    <tr>\n",
       "      <th>3</th>\n",
       "      <td>0.0</td>\n",
       "      <td>2000</td>\n",
       "      <td>2000-08-13</td>\n",
       "    </tr>\n",
       "    <tr>\n",
       "      <th>4</th>\n",
       "      <td>0.0</td>\n",
       "      <td>2000</td>\n",
       "      <td>2000-08-12</td>\n",
       "    </tr>\n",
       "    <tr>\n",
       "      <th>...</th>\n",
       "      <td>...</td>\n",
       "      <td>...</td>\n",
       "      <td>...</td>\n",
       "    </tr>\n",
       "    <tr>\n",
       "      <th>14699</th>\n",
       "      <td>1.0</td>\n",
       "      <td>2021</td>\n",
       "      <td>2021-05-26</td>\n",
       "    </tr>\n",
       "    <tr>\n",
       "      <th>14700</th>\n",
       "      <td>20.0</td>\n",
       "      <td>2021</td>\n",
       "      <td>2021-05-25</td>\n",
       "    </tr>\n",
       "    <tr>\n",
       "      <th>14701</th>\n",
       "      <td>0.0</td>\n",
       "      <td>2021</td>\n",
       "      <td>2021-05-24</td>\n",
       "    </tr>\n",
       "    <tr>\n",
       "      <th>14702</th>\n",
       "      <td>0.8</td>\n",
       "      <td>2021</td>\n",
       "      <td>2021-05-23</td>\n",
       "    </tr>\n",
       "    <tr>\n",
       "      <th>14703</th>\n",
       "      <td>2.4</td>\n",
       "      <td>2021</td>\n",
       "      <td>2021-05-22</td>\n",
       "    </tr>\n",
       "  </tbody>\n",
       "</table>\n",
       "<p>205856 rows × 3 columns</p>\n",
       "</div>"
      ],
      "text/plain": [
       "       w_precipitation  w_year     w_time\n",
       "0                  0.0    2000 2000-09-29\n",
       "1                  0.5    2000 2000-08-15\n",
       "2                  8.3    2000 2000-08-14\n",
       "3                  0.0    2000 2000-08-13\n",
       "4                  0.0    2000 2000-08-12\n",
       "...                ...     ...        ...\n",
       "14699              1.0    2021 2021-05-26\n",
       "14700             20.0    2021 2021-05-25\n",
       "14701              0.0    2021 2021-05-24\n",
       "14702              0.8    2021 2021-05-23\n",
       "14703              2.4    2021 2021-05-22\n",
       "\n",
       "[205856 rows x 3 columns]"
      ]
     },
     "execution_count": 101,
     "metadata": {},
     "output_type": "execute_result"
    }
   ],
   "source": [
    "tempdf = all_dfs['w'].copy() # weather data\n",
    "tempdf "
   ]
  },
  {
   "cell_type": "code",
   "execution_count": 102,
   "metadata": {},
   "outputs": [],
   "source": [
    "def cutoutseason(datafrin, seasonb, seasone):\n",
    "    #print(\"call to whole datafrin (as a list):\", datafrin)#[\"w_time\"])\n",
    "    #print(\"seasonb=\", seasonb)\n",
    "    # print(seasone)\n",
    "    \n",
    "    #datafrin['w_time'] = datafrin['w_time'].dt.date\n",
    "    datafrout = datafrin[datafrin[\"w_time\"]>seasonb]\n",
    "    datafrout = datafrout[datafrout[\"w_time\"]<seasone]\n",
    "    \n",
    "    return datafrout"
   ]
  },
  {
   "cell_type": "code",
   "execution_count": 103,
   "metadata": {},
   "outputs": [],
   "source": [
    "# Defining the different possible groupings to choose from \n",
    "# 0: group all weather data into a single group\n",
    "# 1: group all weather data per 3 season (specific dates)\n",
    "# 2: group all weather data per day\n",
    "# 3: group all weather data per week\n",
    "# 4: group all weather data per month\n",
    "\n",
    "def group_weather(argument, tempdf, fieldf, year_chosen):#, fieldID = 123456789):\n",
    "      \n",
    "    print(\"The following will be used for weather grouping:\")\n",
    "    # Find minimum date of seeding\n",
    "    min_seed_date = min(fieldf[fieldf[\"f_seed_date\"]>datetime.date(year_chosen-1,9,2)][\"f_seed_date\"])#.shape\n",
    "    print(\"The earliest seeding date is \", min_seed_date)\n",
    "\n",
    "    # Get harvest date for this dataset\n",
    "    max_harv_date = max(fieldf[fieldf[\"f_harvest_date\"]<datetime.date(year_chosen,9,1)][\"f_harvest_date\"])\n",
    "    print(\"MAximum harvest time: \", max_harv_date)\n",
    "    #max_harv_date = max(fieldf[fieldf[\"f_harvest_date\"]>datetime.date(year_chosen,7,1)][\"f_seed_date\"])\n",
    "\n",
    "    # Season 1: Seed-start-> 1st Nov\n",
    "    season1st  = min_seed_date\n",
    "    season1end = datetime.date(year_chosen-1,11,1) # November 1st\n",
    "    \n",
    "    # Season 2: 15 March  -> Midsummer\n",
    "    season2st  = datetime.date(year_chosen,3,15)   # March 15\n",
    "    season2end = datetime.date(year_chosen,6,25)   # June 25 (midsummer)\n",
    "    \n",
    "    # Season 3: Midsummer -> Harvest date\n",
    "    season3st  = datetime.date(year_chosen,6,26)   # June 26 (after midsummer)\n",
    "    season3end = max_harv_date\n",
    "\n",
    "    print(\"Dates for season 1: \", season1st, season1end)\n",
    "    print(\"Dates for season 2: \", season2st, season2end)\n",
    "    print(\"Dates for season 3: \", season3st, season3end)\n",
    "\n",
    "    format_string = \"%Y-%m-%d\"\n",
    "    tempdf[\"w_time\"] = pd.to_datetime(tempdf[\"w_time\"], format = format_string)\n",
    "    \n",
    "    ttempdf = tempdf.copy()\n",
    "    ttempdf['w_time'] = tempdf['w_time'].dt.date # only for t1\n",
    "    t1 = cutoutseason(ttempdf, season1st, season1end)\n",
    "\n",
    "    if len(t1) == 0:\n",
    "        print(\"Problems!!!\")\n",
    "        print(\"t1\",t1)\n",
    "\n",
    "    t2 = cutoutseason(ttempdf, season2st, season2end)  \n",
    "\n",
    "    t3 = cutoutseason(ttempdf, season3st, season3end)\n",
    "\n",
    "    tttempdf = t1.copy()\n",
    "    tttempdf = tttempdf.append(t2, ignore_index=True)\n",
    "    tttempdf = tttempdf.append(t3, ignore_index=True)\n",
    "    \n",
    "    ntempdf = pd.DataFrame(columns=tempdf.columns)\n",
    "    \n",
    "    if argument == 0:   # average all data into a single group (as an average)\n",
    "        print(\"\\n Grouping everything into single group! \\n\")\n",
    "\n",
    "        ttempdf['w_time'] = cutoutseason(tttempdf, season1st, season1end)\n",
    "        ntempdf.loc['mean'] = ttempdf.mean() # do an average over the total\n",
    "        \n",
    "    elif argument == 1: # average over specific seasons \n",
    "        print(\"\\n Grouping into 3 seasons! \\n\")\n",
    " \n",
    "        l = pd.Series([t1.mean()[\"w_precipitation\"], t2.mean()[\"w_precipitation\"], t3.mean()[\"w_precipitation\"]])\n",
    "        lw = pd.Series([t1.mean()[\"w_year\"], t2.mean()[\"w_year\"], t3.mean()[\"w_year\"]])\n",
    "        \n",
    "        ntempdf[\"w_precipitation\"] = l\n",
    "        ntempdf[\"w_year\"] = lw\n",
    "        #ntempdf # this is weather grouped by season\n",
    "    elif argument == 2: # group weather data per week (as an average)\n",
    "        print(\"\\n Grouping per day! \\n\")\n",
    "        #format_string = \"%Y-%m-%d\"\n",
    "        #tempdf[\"w_time\"] = pd.to_datetime(tempdf[\"w_time\"], format = format_string)\n",
    "\n",
    "        # choose to keep year 2020\n",
    "        #tempdf = elim(tempdf, \"w_year\", year_chosen)\n",
    "        ttempdf = tttempdf.copy()\n",
    "        \n",
    "        groupby = \"D\"  # group by week, (M) Month. Alternatively \"D\" for day\n",
    "        ntempdf = tttempdf.groupby(pd.Grouper(key='w_time',freq = groupby)).mean()\n",
    "    elif argument == 3: # group weather data per week (as an average)\n",
    "        print(\"\\n Grouping per week! \\n\")\n",
    "        format_string = \"%Y-%m-%d\"\n",
    "        ttempdf = tttempdf.copy()\n",
    "        ttempdf[\"w_time\"] = pd.to_datetime(tttempdf[\"w_time\"], format = format_string)\n",
    "\n",
    "        # choose to keep year 2020\n",
    "        #tempdf = elim(tempdf, \"w_year\", year_chosen)\n",
    "        \n",
    "        groupby = \"W\"  # group by week, (M) Month. Alternatively \"D\" for day\n",
    "        ntempdf = ttempdf.groupby(pd.Grouper(key='w_time',freq = groupby)).mean()\n",
    "        \n",
    "    elif argument == 4: # group weather data per month (as an average)\n",
    "        print(\"\\n Grouping per month! \\n\")\n",
    "        # First change the date column to datetime object\n",
    "        # Convert date and time to just datetime object with only date\n",
    "        format_string = \"%Y-%m-%d\"\n",
    "        ttempdf = tttempdf.copy()\n",
    "        ttempdf[\"w_time\"] = pd.to_datetime(tttempdf[\"w_time\"], format = format_string)\n",
    "\n",
    "        # choose to keep year 2020\n",
    "        #tempdf = elim(tempdf, \"w_year\", year_chosen)\n",
    "\n",
    "        groupby = \"M\"  # group by week, (M) Month. Alternatively \"D\" for day\n",
    "        ntempdf = ttempdf.groupby(pd.Grouper(key='w_time',freq = groupby)).mean()\n",
    "    ntempdf.dropna(subset = [\"w_year\"], inplace=True) # remove rows of NaN\n",
    "        \n",
    "    \n",
    "    return ntempdf"
   ]
  },
  {
   "cell_type": "code",
   "execution_count": 104,
   "metadata": {},
   "outputs": [
    {
     "name": "stdout",
     "output_type": "stream",
     "text": [
      "The following will be used for weather grouping:\n",
      "The earliest seeding date is  2018-09-07\n"
     ]
    },
    {
     "ename": "ValueError",
     "evalue": "max() arg is an empty sequence",
     "output_type": "error",
     "traceback": [
      "\u001b[0;31m---------------------------------------------------------------------------\u001b[0m",
      "\u001b[0;31mValueError\u001b[0m                                Traceback (most recent call last)",
      "\u001b[0;32m/tmp/ipykernel_12/2790860179.py\u001b[0m in \u001b[0;36m<module>\u001b[0;34m\u001b[0m\n\u001b[1;32m      6\u001b[0m \u001b[0;31m# 4: group all weather data per month\u001b[0m\u001b[0;34m\u001b[0m\u001b[0;34m\u001b[0m\u001b[0;34m\u001b[0m\u001b[0m\n\u001b[1;32m      7\u001b[0m \u001b[0;34m\u001b[0m\u001b[0m\n\u001b[0;32m----> 8\u001b[0;31m \u001b[0mnew_tempdf\u001b[0m \u001b[0;34m=\u001b[0m \u001b[0mgroup_weather\u001b[0m\u001b[0;34m(\u001b[0m\u001b[0;36m1\u001b[0m\u001b[0;34m,\u001b[0m \u001b[0mtempdf\u001b[0m\u001b[0;34m,\u001b[0m \u001b[0mfieldf\u001b[0m\u001b[0;34m,\u001b[0m \u001b[0myear_chosen\u001b[0m\u001b[0;34m)\u001b[0m\u001b[0;34m\u001b[0m\u001b[0;34m\u001b[0m\u001b[0m\n\u001b[0m",
      "\u001b[0;32m/tmp/ipykernel_12/3217397422.py\u001b[0m in \u001b[0;36mgroup_weather\u001b[0;34m(argument, tempdf, fieldf, year_chosen)\u001b[0m\n\u001b[1;32m     14\u001b[0m \u001b[0;34m\u001b[0m\u001b[0m\n\u001b[1;32m     15\u001b[0m     \u001b[0;31m# Get harvest date for this dataset\u001b[0m\u001b[0;34m\u001b[0m\u001b[0;34m\u001b[0m\u001b[0;34m\u001b[0m\u001b[0m\n\u001b[0;32m---> 16\u001b[0;31m     \u001b[0mmax_harv_date\u001b[0m \u001b[0;34m=\u001b[0m \u001b[0mmax\u001b[0m\u001b[0;34m(\u001b[0m\u001b[0mfieldf\u001b[0m\u001b[0;34m[\u001b[0m\u001b[0mfieldf\u001b[0m\u001b[0;34m[\u001b[0m\u001b[0;34m\"f_harvest_date\"\u001b[0m\u001b[0;34m]\u001b[0m\u001b[0;34m<\u001b[0m\u001b[0mdatetime\u001b[0m\u001b[0;34m.\u001b[0m\u001b[0mdate\u001b[0m\u001b[0;34m(\u001b[0m\u001b[0myear_chosen\u001b[0m\u001b[0;34m,\u001b[0m\u001b[0;36m9\u001b[0m\u001b[0;34m,\u001b[0m\u001b[0;36m1\u001b[0m\u001b[0;34m)\u001b[0m\u001b[0;34m]\u001b[0m\u001b[0;34m[\u001b[0m\u001b[0;34m\"f_harvest_date\"\u001b[0m\u001b[0;34m]\u001b[0m\u001b[0;34m)\u001b[0m\u001b[0;34m\u001b[0m\u001b[0;34m\u001b[0m\u001b[0m\n\u001b[0m\u001b[1;32m     17\u001b[0m     \u001b[0mprint\u001b[0m\u001b[0;34m(\u001b[0m\u001b[0;34m\"MAximum harvest time: \"\u001b[0m\u001b[0;34m,\u001b[0m \u001b[0mmax_harv_date\u001b[0m\u001b[0;34m)\u001b[0m\u001b[0;34m\u001b[0m\u001b[0;34m\u001b[0m\u001b[0m\n\u001b[1;32m     18\u001b[0m     \u001b[0;31m#max_harv_date = max(fieldf[fieldf[\"f_harvest_date\"]>datetime.date(year_chosen,7,1)][\"f_seed_date\"])\u001b[0m\u001b[0;34m\u001b[0m\u001b[0;34m\u001b[0m\u001b[0;34m\u001b[0m\u001b[0m\n",
      "\u001b[0;31mValueError\u001b[0m: max() arg is an empty sequence"
     ]
    }
   ],
   "source": [
    "# Groupings to choose from: \n",
    "# 0: group all weather data into a single group\n",
    "# 1: group all weather data into 3 seasons (specific dates)\n",
    "# 2: group all weather data per day\n",
    "# 3: group all weather data per week\n",
    "# 4: group all weather data per month\n",
    "\n",
    "new_tempdf = group_weather(1, tempdf, fieldf, year_chosen)"
   ]
  },
  {
   "cell_type": "code",
   "execution_count": 23,
   "metadata": {},
   "outputs": [
    {
     "data": {
      "text/html": [
       "<div>\n",
       "<style scoped>\n",
       "    .dataframe tbody tr th:only-of-type {\n",
       "        vertical-align: middle;\n",
       "    }\n",
       "\n",
       "    .dataframe tbody tr th {\n",
       "        vertical-align: top;\n",
       "    }\n",
       "\n",
       "    .dataframe thead th {\n",
       "        text-align: right;\n",
       "    }\n",
       "</style>\n",
       "<table border=\"1\" class=\"dataframe\">\n",
       "  <thead>\n",
       "    <tr style=\"text-align: right;\">\n",
       "      <th></th>\n",
       "      <th>w_precipitation</th>\n",
       "      <th>w_year</th>\n",
       "      <th>w_time</th>\n",
       "    </tr>\n",
       "  </thead>\n",
       "  <tbody>\n",
       "    <tr>\n",
       "      <th>0</th>\n",
       "      <td>2.160714</td>\n",
       "      <td>2016.0</td>\n",
       "      <td>NaN</td>\n",
       "    </tr>\n",
       "    <tr>\n",
       "      <th>1</th>\n",
       "      <td>1.580693</td>\n",
       "      <td>2017.0</td>\n",
       "      <td>NaN</td>\n",
       "    </tr>\n",
       "    <tr>\n",
       "      <th>2</th>\n",
       "      <td>1.686133</td>\n",
       "      <td>2017.0</td>\n",
       "      <td>NaN</td>\n",
       "    </tr>\n",
       "  </tbody>\n",
       "</table>\n",
       "</div>"
      ],
      "text/plain": [
       "   w_precipitation  w_year w_time\n",
       "0         2.160714  2016.0    NaN\n",
       "1         1.580693  2017.0    NaN\n",
       "2         1.686133  2017.0    NaN"
      ]
     },
     "execution_count": 23,
     "metadata": {},
     "output_type": "execute_result"
    }
   ],
   "source": [
    "new_tempdf"
   ]
  },
  {
   "cell_type": "code",
   "execution_count": 24,
   "metadata": {},
   "outputs": [
    {
     "data": {
      "text/html": [
       "<div>\n",
       "<style scoped>\n",
       "    .dataframe tbody tr th:only-of-type {\n",
       "        vertical-align: middle;\n",
       "    }\n",
       "\n",
       "    .dataframe tbody tr th {\n",
       "        vertical-align: top;\n",
       "    }\n",
       "\n",
       "    .dataframe thead th {\n",
       "        text-align: right;\n",
       "    }\n",
       "</style>\n",
       "<table border=\"1\" class=\"dataframe\">\n",
       "  <thead>\n",
       "    <tr style=\"text-align: right;\">\n",
       "      <th></th>\n",
       "      <th>w_precipitation</th>\n",
       "      <th>w_year</th>\n",
       "      <th>w_time</th>\n",
       "    </tr>\n",
       "  </thead>\n",
       "  <tbody>\n",
       "    <tr>\n",
       "      <th>0</th>\n",
       "      <td>2.160714</td>\n",
       "      <td>2016.0</td>\n",
       "      <td>NaN</td>\n",
       "    </tr>\n",
       "    <tr>\n",
       "      <th>1</th>\n",
       "      <td>1.580693</td>\n",
       "      <td>2017.0</td>\n",
       "      <td>NaN</td>\n",
       "    </tr>\n",
       "    <tr>\n",
       "      <th>2</th>\n",
       "      <td>1.686133</td>\n",
       "      <td>2017.0</td>\n",
       "      <td>NaN</td>\n",
       "    </tr>\n",
       "  </tbody>\n",
       "</table>\n",
       "</div>"
      ],
      "text/plain": [
       "   w_precipitation  w_year w_time\n",
       "0         2.160714  2016.0    NaN\n",
       "1         1.580693  2017.0    NaN\n",
       "2         1.686133  2017.0    NaN"
      ]
     },
     "execution_count": 24,
     "metadata": {},
     "output_type": "execute_result"
    }
   ],
   "source": [
    "new_tempdf"
   ]
  },
  {
   "cell_type": "markdown",
   "metadata": {},
   "source": [
    "## Clean weather dataframe "
   ]
  },
  {
   "cell_type": "code",
   "execution_count": 25,
   "metadata": {},
   "outputs": [],
   "source": [
    "clean_weather_df = new_tempdf"
   ]
  },
  {
   "cell_type": "markdown",
   "metadata": {},
   "source": [
    "# Harvest Data Processing/Clean Up"
   ]
  },
  {
   "cell_type": "markdown",
   "metadata": {},
   "source": [
    "### Chose a specific year for harvest"
   ]
  },
  {
   "cell_type": "code",
   "execution_count": 26,
   "metadata": {},
   "outputs": [],
   "source": [
    "# Note that field id = ...7601 is full of edgeflag == True ! \n",
    "# So we keep all data even if flagged as edge\n",
    "#harvdf = all_dfs['h']\n",
    "nharvdf = harvdf[harvdf[\"h_year\"]==year_chosen]\n",
    "\n",
    "# Remove data near field edges - according to provided flag within data\n",
    "# nfielddf = elim(fielddf,'edgeflag', False)\n",
    "# nfielddf = fielddf"
   ]
  },
  {
   "cell_type": "markdown",
   "metadata": {},
   "source": [
    "Removing all edge data (i.e. edgeflag == True)"
   ]
  },
  {
   "cell_type": "code",
   "execution_count": 27,
   "metadata": {},
   "outputs": [
    {
     "data": {
      "text/html": [
       "<div>\n",
       "<style scoped>\n",
       "    .dataframe tbody tr th:only-of-type {\n",
       "        vertical-align: middle;\n",
       "    }\n",
       "\n",
       "    .dataframe tbody tr th {\n",
       "        vertical-align: top;\n",
       "    }\n",
       "\n",
       "    .dataframe thead th {\n",
       "        text-align: right;\n",
       "    }\n",
       "</style>\n",
       "<table border=\"1\" class=\"dataframe\">\n",
       "  <thead>\n",
       "    <tr style=\"text-align: right;\">\n",
       "      <th></th>\n",
       "      <th>h_coord_x</th>\n",
       "      <th>h_coord_y</th>\n",
       "      <th>h_blockid</th>\n",
       "      <th>h_year</th>\n",
       "      <th>h_time</th>\n",
       "      <th>h_harvest</th>\n",
       "      <th>h_water_percentage</th>\n",
       "    </tr>\n",
       "  </thead>\n",
       "  <tbody>\n",
       "    <tr>\n",
       "      <th>0</th>\n",
       "      <td>391893.9</td>\n",
       "      <td>6163203.9</td>\n",
       "      <td>6.165341e+11</td>\n",
       "      <td>2017</td>\n",
       "      <td>2017-08-24 20:14:50</td>\n",
       "      <td>7.9</td>\n",
       "      <td>17.5</td>\n",
       "    </tr>\n",
       "    <tr>\n",
       "      <th>1</th>\n",
       "      <td>391893.4</td>\n",
       "      <td>6163203.7</td>\n",
       "      <td>6.165341e+11</td>\n",
       "      <td>2017</td>\n",
       "      <td>2017-08-24 20:14:51</td>\n",
       "      <td>10.2</td>\n",
       "      <td>17.5</td>\n",
       "    </tr>\n",
       "    <tr>\n",
       "      <th>2</th>\n",
       "      <td>391892.7</td>\n",
       "      <td>6163203.4</td>\n",
       "      <td>6.165341e+11</td>\n",
       "      <td>2017</td>\n",
       "      <td>2017-08-24 20:14:52</td>\n",
       "      <td>7.7</td>\n",
       "      <td>17.5</td>\n",
       "    </tr>\n",
       "    <tr>\n",
       "      <th>3</th>\n",
       "      <td>391892.0</td>\n",
       "      <td>6163203.1</td>\n",
       "      <td>6.165341e+11</td>\n",
       "      <td>2017</td>\n",
       "      <td>2017-08-24 20:14:53</td>\n",
       "      <td>5.8</td>\n",
       "      <td>17.5</td>\n",
       "    </tr>\n",
       "    <tr>\n",
       "      <th>4</th>\n",
       "      <td>391891.4</td>\n",
       "      <td>6163202.9</td>\n",
       "      <td>6.165341e+11</td>\n",
       "      <td>2017</td>\n",
       "      <td>2017-08-24 20:14:54</td>\n",
       "      <td>5.4</td>\n",
       "      <td>17.6</td>\n",
       "    </tr>\n",
       "    <tr>\n",
       "      <th>...</th>\n",
       "      <td>...</td>\n",
       "      <td>...</td>\n",
       "      <td>...</td>\n",
       "      <td>...</td>\n",
       "      <td>...</td>\n",
       "      <td>...</td>\n",
       "      <td>...</td>\n",
       "    </tr>\n",
       "    <tr>\n",
       "      <th>1439</th>\n",
       "      <td>420982.3</td>\n",
       "      <td>6173049.2</td>\n",
       "      <td>6.175371e+10</td>\n",
       "      <td>2017</td>\n",
       "      <td>2017-09-03 16:18:50</td>\n",
       "      <td>0.6</td>\n",
       "      <td>19.7</td>\n",
       "    </tr>\n",
       "    <tr>\n",
       "      <th>1440</th>\n",
       "      <td>420982.0</td>\n",
       "      <td>6173047.6</td>\n",
       "      <td>6.175371e+10</td>\n",
       "      <td>2017</td>\n",
       "      <td>2017-09-03 16:18:51</td>\n",
       "      <td>1.0</td>\n",
       "      <td>19.8</td>\n",
       "    </tr>\n",
       "    <tr>\n",
       "      <th>1441</th>\n",
       "      <td>420981.6</td>\n",
       "      <td>6173046.0</td>\n",
       "      <td>6.175371e+10</td>\n",
       "      <td>2017</td>\n",
       "      <td>2017-09-03 16:18:52</td>\n",
       "      <td>1.3</td>\n",
       "      <td>19.9</td>\n",
       "    </tr>\n",
       "    <tr>\n",
       "      <th>1442</th>\n",
       "      <td>420981.2</td>\n",
       "      <td>6173044.1</td>\n",
       "      <td>6.175371e+10</td>\n",
       "      <td>2017</td>\n",
       "      <td>2017-09-03 16:18:53</td>\n",
       "      <td>1.3</td>\n",
       "      <td>19.9</td>\n",
       "    </tr>\n",
       "    <tr>\n",
       "      <th>1443</th>\n",
       "      <td>420980.8</td>\n",
       "      <td>6173041.9</td>\n",
       "      <td>6.175371e+10</td>\n",
       "      <td>2017</td>\n",
       "      <td>2017-09-03 16:18:54</td>\n",
       "      <td>4.8</td>\n",
       "      <td>19.9</td>\n",
       "    </tr>\n",
       "  </tbody>\n",
       "</table>\n",
       "<p>431223 rows × 7 columns</p>\n",
       "</div>"
      ],
      "text/plain": [
       "      h_coord_x  h_coord_y     h_blockid  h_year              h_time  \\\n",
       "0      391893.9  6163203.9  6.165341e+11    2017 2017-08-24 20:14:50   \n",
       "1      391893.4  6163203.7  6.165341e+11    2017 2017-08-24 20:14:51   \n",
       "2      391892.7  6163203.4  6.165341e+11    2017 2017-08-24 20:14:52   \n",
       "3      391892.0  6163203.1  6.165341e+11    2017 2017-08-24 20:14:53   \n",
       "4      391891.4  6163202.9  6.165341e+11    2017 2017-08-24 20:14:54   \n",
       "...         ...        ...           ...     ...                 ...   \n",
       "1439   420982.3  6173049.2  6.175371e+10    2017 2017-09-03 16:18:50   \n",
       "1440   420982.0  6173047.6  6.175371e+10    2017 2017-09-03 16:18:51   \n",
       "1441   420981.6  6173046.0  6.175371e+10    2017 2017-09-03 16:18:52   \n",
       "1442   420981.2  6173044.1  6.175371e+10    2017 2017-09-03 16:18:53   \n",
       "1443   420980.8  6173041.9  6.175371e+10    2017 2017-09-03 16:18:54   \n",
       "\n",
       "      h_harvest  h_water_percentage  \n",
       "0           7.9                17.5  \n",
       "1          10.2                17.5  \n",
       "2           7.7                17.5  \n",
       "3           5.8                17.5  \n",
       "4           5.4                17.6  \n",
       "...         ...                 ...  \n",
       "1439        0.6                19.7  \n",
       "1440        1.0                19.8  \n",
       "1441        1.3                19.9  \n",
       "1442        1.3                19.9  \n",
       "1443        4.8                19.9  \n",
       "\n",
       "[431223 rows x 7 columns]"
      ]
     },
     "execution_count": 27,
     "metadata": {},
     "output_type": "execute_result"
    }
   ],
   "source": [
    "# Remove edges\n",
    "#tempdf = nharvdf[nharvdf[\"edgeflag\"]==False]\n",
    "#tempdf\n",
    "#nharvdf = nharvdf[nharvdf[\"edgeflag\"]==False]\n",
    "nharvdf#[\"h_year\"].unique()"
   ]
  },
  {
   "cell_type": "code",
   "execution_count": 28,
   "metadata": {},
   "outputs": [
    {
     "data": {
      "text/html": [
       "<div>\n",
       "<style scoped>\n",
       "    .dataframe tbody tr th:only-of-type {\n",
       "        vertical-align: middle;\n",
       "    }\n",
       "\n",
       "    .dataframe tbody tr th {\n",
       "        vertical-align: top;\n",
       "    }\n",
       "\n",
       "    .dataframe thead th {\n",
       "        text-align: right;\n",
       "    }\n",
       "</style>\n",
       "<table border=\"1\" class=\"dataframe\">\n",
       "  <thead>\n",
       "    <tr style=\"text-align: right;\">\n",
       "      <th></th>\n",
       "      <th>h_coord_x</th>\n",
       "      <th>h_coord_y</th>\n",
       "      <th>h_blockid</th>\n",
       "      <th>h_harvest</th>\n",
       "      <th>h_water_percentage</th>\n",
       "    </tr>\n",
       "  </thead>\n",
       "  <tbody>\n",
       "    <tr>\n",
       "      <th>0</th>\n",
       "      <td>391893.9</td>\n",
       "      <td>6163203.9</td>\n",
       "      <td>6.165341e+11</td>\n",
       "      <td>7.9</td>\n",
       "      <td>17.5</td>\n",
       "    </tr>\n",
       "    <tr>\n",
       "      <th>1</th>\n",
       "      <td>391893.4</td>\n",
       "      <td>6163203.7</td>\n",
       "      <td>6.165341e+11</td>\n",
       "      <td>10.2</td>\n",
       "      <td>17.5</td>\n",
       "    </tr>\n",
       "    <tr>\n",
       "      <th>2</th>\n",
       "      <td>391892.7</td>\n",
       "      <td>6163203.4</td>\n",
       "      <td>6.165341e+11</td>\n",
       "      <td>7.7</td>\n",
       "      <td>17.5</td>\n",
       "    </tr>\n",
       "    <tr>\n",
       "      <th>3</th>\n",
       "      <td>391892.0</td>\n",
       "      <td>6163203.1</td>\n",
       "      <td>6.165341e+11</td>\n",
       "      <td>5.8</td>\n",
       "      <td>17.5</td>\n",
       "    </tr>\n",
       "    <tr>\n",
       "      <th>4</th>\n",
       "      <td>391891.4</td>\n",
       "      <td>6163202.9</td>\n",
       "      <td>6.165341e+11</td>\n",
       "      <td>5.4</td>\n",
       "      <td>17.6</td>\n",
       "    </tr>\n",
       "    <tr>\n",
       "      <th>...</th>\n",
       "      <td>...</td>\n",
       "      <td>...</td>\n",
       "      <td>...</td>\n",
       "      <td>...</td>\n",
       "      <td>...</td>\n",
       "    </tr>\n",
       "    <tr>\n",
       "      <th>1439</th>\n",
       "      <td>420982.3</td>\n",
       "      <td>6173049.2</td>\n",
       "      <td>6.175371e+10</td>\n",
       "      <td>0.6</td>\n",
       "      <td>19.7</td>\n",
       "    </tr>\n",
       "    <tr>\n",
       "      <th>1440</th>\n",
       "      <td>420982.0</td>\n",
       "      <td>6173047.6</td>\n",
       "      <td>6.175371e+10</td>\n",
       "      <td>1.0</td>\n",
       "      <td>19.8</td>\n",
       "    </tr>\n",
       "    <tr>\n",
       "      <th>1441</th>\n",
       "      <td>420981.6</td>\n",
       "      <td>6173046.0</td>\n",
       "      <td>6.175371e+10</td>\n",
       "      <td>1.3</td>\n",
       "      <td>19.9</td>\n",
       "    </tr>\n",
       "    <tr>\n",
       "      <th>1442</th>\n",
       "      <td>420981.2</td>\n",
       "      <td>6173044.1</td>\n",
       "      <td>6.175371e+10</td>\n",
       "      <td>1.3</td>\n",
       "      <td>19.9</td>\n",
       "    </tr>\n",
       "    <tr>\n",
       "      <th>1443</th>\n",
       "      <td>420980.8</td>\n",
       "      <td>6173041.9</td>\n",
       "      <td>6.175371e+10</td>\n",
       "      <td>4.8</td>\n",
       "      <td>19.9</td>\n",
       "    </tr>\n",
       "  </tbody>\n",
       "</table>\n",
       "<p>431223 rows × 5 columns</p>\n",
       "</div>"
      ],
      "text/plain": [
       "      h_coord_x  h_coord_y     h_blockid  h_harvest  h_water_percentage\n",
       "0      391893.9  6163203.9  6.165341e+11        7.9                17.5\n",
       "1      391893.4  6163203.7  6.165341e+11       10.2                17.5\n",
       "2      391892.7  6163203.4  6.165341e+11        7.7                17.5\n",
       "3      391892.0  6163203.1  6.165341e+11        5.8                17.5\n",
       "4      391891.4  6163202.9  6.165341e+11        5.4                17.6\n",
       "...         ...        ...           ...        ...                 ...\n",
       "1439   420982.3  6173049.2  6.175371e+10        0.6                19.7\n",
       "1440   420982.0  6173047.6  6.175371e+10        1.0                19.8\n",
       "1441   420981.6  6173046.0  6.175371e+10        1.3                19.9\n",
       "1442   420981.2  6173044.1  6.175371e+10        1.3                19.9\n",
       "1443   420980.8  6173041.9  6.175371e+10        4.8                19.9\n",
       "\n",
       "[431223 rows x 5 columns]"
      ]
     },
     "execution_count": 28,
     "metadata": {},
     "output_type": "execute_result"
    }
   ],
   "source": [
    "# Choose data from 2018\n",
    "#nfielddf = elim(nfielddf, \"year\", 2018)\n",
    "cols_to_keep = [\"h_coord_x\", \"h_coord_y\", \"h_blockid\", \"h_harvest\", \"h_water_percentage\"]\n",
    "#harv_rem_cols= [\"crop\",'data_id','farmname','data_geom','edgeflag']\n",
    "#nnfielddf = cleanDataFrame(nfielddf, harv_rem_cols)\n",
    "nnharvdf = nharvdf[cols_to_keep]\n",
    "nnharvdf"
   ]
  },
  {
   "cell_type": "code",
   "execution_count": 29,
   "metadata": {},
   "outputs": [
    {
     "name": "stdout",
     "output_type": "stream",
     "text": [
      "No NaN values. Good to go!\n"
     ]
    }
   ],
   "source": [
    "if (nnharvdf[\"h_harvest\"]=='nan').any():\n",
    "    print(\"Some NaN values exist - Need to remove\")\n",
    "else:\n",
    "    print(\"No NaN values. Good to go!\")"
   ]
  },
  {
   "cell_type": "markdown",
   "metadata": {},
   "source": [
    "### Now work on spatial proximity grouping between datasets"
   ]
  },
  {
   "cell_type": "markdown",
   "metadata": {},
   "source": [
    "First with Harvest: for a given square with side length 2r we group together (sum) all harvest data which are within that distance for each coordinate in the soil data."
   ]
  },
  {
   "cell_type": "code",
   "execution_count": 30,
   "metadata": {},
   "outputs": [
    {
     "data": {
      "text/html": [
       "<div>\n",
       "<style scoped>\n",
       "    .dataframe tbody tr th:only-of-type {\n",
       "        vertical-align: middle;\n",
       "    }\n",
       "\n",
       "    .dataframe tbody tr th {\n",
       "        vertical-align: top;\n",
       "    }\n",
       "\n",
       "    .dataframe thead th {\n",
       "        text-align: right;\n",
       "    }\n",
       "</style>\n",
       "<table border=\"1\" class=\"dataframe\">\n",
       "  <thead>\n",
       "    <tr style=\"text-align: right;\">\n",
       "      <th></th>\n",
       "      <th>h_coord_x</th>\n",
       "      <th>h_coord_y</th>\n",
       "      <th>h_blockid</th>\n",
       "      <th>h_harvest</th>\n",
       "      <th>h_water_percentage</th>\n",
       "    </tr>\n",
       "  </thead>\n",
       "  <tbody>\n",
       "    <tr>\n",
       "      <th>0</th>\n",
       "      <td>391893.9</td>\n",
       "      <td>6163203.9</td>\n",
       "      <td>6.165341e+11</td>\n",
       "      <td>7.9</td>\n",
       "      <td>17.5</td>\n",
       "    </tr>\n",
       "    <tr>\n",
       "      <th>1</th>\n",
       "      <td>391893.4</td>\n",
       "      <td>6163203.7</td>\n",
       "      <td>6.165341e+11</td>\n",
       "      <td>10.2</td>\n",
       "      <td>17.5</td>\n",
       "    </tr>\n",
       "    <tr>\n",
       "      <th>2</th>\n",
       "      <td>391892.7</td>\n",
       "      <td>6163203.4</td>\n",
       "      <td>6.165341e+11</td>\n",
       "      <td>7.7</td>\n",
       "      <td>17.5</td>\n",
       "    </tr>\n",
       "    <tr>\n",
       "      <th>3</th>\n",
       "      <td>391892.0</td>\n",
       "      <td>6163203.1</td>\n",
       "      <td>6.165341e+11</td>\n",
       "      <td>5.8</td>\n",
       "      <td>17.5</td>\n",
       "    </tr>\n",
       "    <tr>\n",
       "      <th>4</th>\n",
       "      <td>391891.4</td>\n",
       "      <td>6163202.9</td>\n",
       "      <td>6.165341e+11</td>\n",
       "      <td>5.4</td>\n",
       "      <td>17.6</td>\n",
       "    </tr>\n",
       "    <tr>\n",
       "      <th>...</th>\n",
       "      <td>...</td>\n",
       "      <td>...</td>\n",
       "      <td>...</td>\n",
       "      <td>...</td>\n",
       "      <td>...</td>\n",
       "    </tr>\n",
       "    <tr>\n",
       "      <th>1439</th>\n",
       "      <td>420982.3</td>\n",
       "      <td>6173049.2</td>\n",
       "      <td>6.175371e+10</td>\n",
       "      <td>0.6</td>\n",
       "      <td>19.7</td>\n",
       "    </tr>\n",
       "    <tr>\n",
       "      <th>1440</th>\n",
       "      <td>420982.0</td>\n",
       "      <td>6173047.6</td>\n",
       "      <td>6.175371e+10</td>\n",
       "      <td>1.0</td>\n",
       "      <td>19.8</td>\n",
       "    </tr>\n",
       "    <tr>\n",
       "      <th>1441</th>\n",
       "      <td>420981.6</td>\n",
       "      <td>6173046.0</td>\n",
       "      <td>6.175371e+10</td>\n",
       "      <td>1.3</td>\n",
       "      <td>19.9</td>\n",
       "    </tr>\n",
       "    <tr>\n",
       "      <th>1442</th>\n",
       "      <td>420981.2</td>\n",
       "      <td>6173044.1</td>\n",
       "      <td>6.175371e+10</td>\n",
       "      <td>1.3</td>\n",
       "      <td>19.9</td>\n",
       "    </tr>\n",
       "    <tr>\n",
       "      <th>1443</th>\n",
       "      <td>420980.8</td>\n",
       "      <td>6173041.9</td>\n",
       "      <td>6.175371e+10</td>\n",
       "      <td>4.8</td>\n",
       "      <td>19.9</td>\n",
       "    </tr>\n",
       "  </tbody>\n",
       "</table>\n",
       "<p>431223 rows × 5 columns</p>\n",
       "</div>"
      ],
      "text/plain": [
       "      h_coord_x  h_coord_y     h_blockid  h_harvest  h_water_percentage\n",
       "0      391893.9  6163203.9  6.165341e+11        7.9                17.5\n",
       "1      391893.4  6163203.7  6.165341e+11       10.2                17.5\n",
       "2      391892.7  6163203.4  6.165341e+11        7.7                17.5\n",
       "3      391892.0  6163203.1  6.165341e+11        5.8                17.5\n",
       "4      391891.4  6163202.9  6.165341e+11        5.4                17.6\n",
       "...         ...        ...           ...        ...                 ...\n",
       "1439   420982.3  6173049.2  6.175371e+10        0.6                19.7\n",
       "1440   420982.0  6173047.6  6.175371e+10        1.0                19.8\n",
       "1441   420981.6  6173046.0  6.175371e+10        1.3                19.9\n",
       "1442   420981.2  6173044.1  6.175371e+10        1.3                19.9\n",
       "1443   420980.8  6173041.9  6.175371e+10        4.8                19.9\n",
       "\n",
       "[431223 rows x 5 columns]"
      ]
     },
     "execution_count": 30,
     "metadata": {},
     "output_type": "execute_result"
    }
   ],
   "source": [
    "df=nnharvdf\n",
    "df"
   ]
  },
  {
   "cell_type": "markdown",
   "metadata": {},
   "source": [
    "#### Visual check of harvest and soil data locations"
   ]
  },
  {
   "cell_type": "markdown",
   "metadata": {},
   "source": [
    "#### Clean up all soil and harvest data which are not near each other (with r)"
   ]
  },
  {
   "cell_type": "markdown",
   "metadata": {},
   "source": [
    "We choose a length r and any data which does not overlap is removed"
   ]
  },
  {
   "cell_type": "code",
   "execution_count": 31,
   "metadata": {},
   "outputs": [
    {
     "data": {
      "text/plain": [
       "Index(['h_coord_x', 'h_coord_y', 'h_blockid', 'h_harvest',\n",
       "       'h_water_percentage'],\n",
       "      dtype='object')"
      ]
     },
     "execution_count": 31,
     "metadata": {},
     "output_type": "execute_result"
    }
   ],
   "source": [
    "nnharvdf.keys()\n",
    "#nnharvdf.drop(11447)"
   ]
  },
  {
   "cell_type": "code",
   "execution_count": 32,
   "metadata": {},
   "outputs": [
    {
     "data": {
      "text/plain": [
       "(340, 10)"
      ]
     },
     "execution_count": 32,
     "metadata": {},
     "output_type": "execute_result"
    }
   ],
   "source": [
    "nnsoildf.shape"
   ]
  },
  {
   "cell_type": "code",
   "execution_count": 33,
   "metadata": {},
   "outputs": [
    {
     "name": "stderr",
     "output_type": "stream",
     "text": [
      "100% 340/340 [00:13<00:00, 25.71it/s]"
     ]
    },
    {
     "name": "stdout",
     "output_type": "stream",
     "text": [
      "Soil shape (166, 10)\n",
      "Harv shape (166, 5)\n"
     ]
    },
    {
     "name": "stderr",
     "output_type": "stream",
     "text": [
      "\n"
     ]
    }
   ],
   "source": [
    "# Re-group harvest data according to coordinates in soil\n",
    "new_harv_df, new_soil_df = remdata(nnharvdf, nnsoildf, r)"
   ]
  },
  {
   "cell_type": "code",
   "execution_count": 34,
   "metadata": {},
   "outputs": [
    {
     "data": {
      "text/plain": [
       "(388920.6, 422626.3, 6161728.2, 6173605.1)"
      ]
     },
     "execution_count": 34,
     "metadata": {},
     "output_type": "execute_result"
    }
   ],
   "source": [
    "BBox = (df.h_coord_x.min(),   df.h_coord_x.max(),   df.h_coord_y.min(), df.h_coord_y.max())\n",
    "BBox"
   ]
  },
  {
   "cell_type": "code",
   "execution_count": 35,
   "metadata": {},
   "outputs": [
    {
     "name": "stderr",
     "output_type": "stream",
     "text": [
      "findfont: Font family ['normal'] not found. Falling back to DejaVu Sans.\n"
     ]
    },
    {
     "data": {
      "image/png": "[encoded data removed]",
      "text/plain": [
       "<Figure size 576x504 with 1 Axes>"
      ]
     },
     "metadata": {
      "needs_background": "light"
     },
     "output_type": "display_data"
    }
   ],
   "source": [
    "fig, ax = plt.subplots(figsize = (8,7))\n",
    "font = {'family' : 'normal',\n",
    "        #'weight' : 'bold',\n",
    "        'size'   : 10}\n",
    "\n",
    "matplotlib.rc('font', **font)\n",
    "ax.scatter(nnharvdf.h_coord_x, nnharvdf.h_coord_y, zorder=1, alpha= 1.0, c='r', s=20, label='harvest data')\n",
    "#for xh, yh in zip(df.h_coord_x[10:], df.h_coord_y[10:]):\n",
    "#    cir = plt.Circle((xh, yh), 10.0, color='k',fill=True)#False)\n",
    "ax.scatter(nnsoildf.coord_x, nnsoildf.coord_y, zorder=1, alpha= 0.6, c='g', s=10, label = 'soil data')\n",
    "ax.set_title('BEFORE - Spatial Data Heddinge Map')\n",
    "#ax.set_aspect('equal', adjustable='datalim')\n",
    "#ax.add_patch(cir)\n",
    "#ax.set_xlim(BBox[0]-2000,BBox[1]+1000)\n",
    "#ax.set_ylim(BBox[2]+10000,BBox[3]-10000)\n",
    "ax.plot([10000+nnsoildf.iloc[5,0],10000+nnsoildf.iloc[5,0]+10000],[nnsoildf.iloc[5,1],nnsoildf.iloc[5,1]], \\\n",
    "        color='k', label = '10km distance')\n",
    "ax.scatter([10000+nnsoildf.iloc[5,0],10000+nnsoildf.iloc[5,0]+10000],[nnsoildf.iloc[5,1],nnsoildf.iloc[5,1]], \\\n",
    "           zorder=1, alpha= 1., c='k', s=10)\n",
    "ax.grid(color='grey', linestyle='--', linewidth=1)\n",
    "plt.tight_layout()   \n",
    "leg = plt.legend(loc=\"best\")"
   ]
  },
  {
   "cell_type": "code",
   "execution_count": 36,
   "metadata": {},
   "outputs": [
    {
     "name": "stderr",
     "output_type": "stream",
     "text": [
      "findfont: Font family ['normal'] not found. Falling back to DejaVu Sans.\n"
     ]
    },
    {
     "data": {
      "image/png": "[encoded data removed]",
      "text/plain": [
       "<Figure size 576x504 with 1 Axes>"
      ]
     },
     "metadata": {
      "needs_background": "light"
     },
     "output_type": "display_data"
    }
   ],
   "source": [
    "fig, ax = plt.subplots(figsize = (8,7))\n",
    "ax.scatter(new_harv_df.h_coord_x, new_harv_df.h_coord_y, zorder=1, alpha= 1.0, c='r', s=20, label='harvest data')\n",
    "#for xh, yh in zip(df.h_coord_x[10:], df.h_coord_y[10:]):\n",
    "#    cir = plt.Circle((xh, yh), 10.0, color='k',fill=True)#False)\n",
    "ax.scatter(new_soil_df.coord_x, new_soil_df.coord_y, zorder=1, alpha= 0.9, c='g', s=10, label = 'soil data')\n",
    "ax.set_title('AFTER - Spatial Data Heddinge Map')\n",
    "#ax.set_aspect('equal', adjustable='datalim')\n",
    "#ax.add_patch(cir)\n",
    "#ax.set_xlim(BBox[0],BBox[1])\n",
    "#ax.set_ylim(BBox[2],BBox[3])\n",
    "ax.plot([10000+nnsoildf.iloc[5,0],10000+nnsoildf.iloc[5,0]+10000],[nnsoildf.iloc[5,1],nnsoildf.iloc[5,1]], \\\n",
    "        color='k', label = '10km distance')\n",
    "ax.scatter([10000+nnsoildf.iloc[5,0],10000+nnsoildf.iloc[5,0]+10000],[nnsoildf.iloc[5,1],nnsoildf.iloc[5,1]], \\\n",
    "           zorder=1, alpha= 1., c='k', s=10)\n",
    "ax.grid(color='grey', linestyle='--', linewidth=1)\n",
    "plt.tight_layout()   \n",
    "leg = plt.legend()"
   ]
  },
  {
   "cell_type": "code",
   "execution_count": 37,
   "metadata": {},
   "outputs": [
    {
     "data": {
      "text/html": [
       "<div>\n",
       "<style scoped>\n",
       "    .dataframe tbody tr th:only-of-type {\n",
       "        vertical-align: middle;\n",
       "    }\n",
       "\n",
       "    .dataframe tbody tr th {\n",
       "        vertical-align: top;\n",
       "    }\n",
       "\n",
       "    .dataframe thead th {\n",
       "        text-align: right;\n",
       "    }\n",
       "</style>\n",
       "<table border=\"1\" class=\"dataframe\">\n",
       "  <thead>\n",
       "    <tr style=\"text-align: right;\">\n",
       "      <th></th>\n",
       "      <th>h_coord_x</th>\n",
       "      <th>h_coord_y</th>\n",
       "      <th>h_blockid</th>\n",
       "      <th>h_harvest</th>\n",
       "      <th>h_water_percentage</th>\n",
       "    </tr>\n",
       "  </thead>\n",
       "  <tbody>\n",
       "    <tr>\n",
       "      <th>0</th>\n",
       "      <td>388958.218033</td>\n",
       "      <td>6.170516e+06</td>\n",
       "      <td>6.173339e+10</td>\n",
       "      <td>11.142008</td>\n",
       "      <td>16.148566</td>\n",
       "    </tr>\n",
       "    <tr>\n",
       "      <th>1</th>\n",
       "      <td>388985.555263</td>\n",
       "      <td>6.170704e+06</td>\n",
       "      <td>6.173339e+10</td>\n",
       "      <td>11.651238</td>\n",
       "      <td>17.100310</td>\n",
       "    </tr>\n",
       "    <tr>\n",
       "      <th>2</th>\n",
       "      <td>389011.218648</td>\n",
       "      <td>6.166091e+06</td>\n",
       "      <td>6.169339e+10</td>\n",
       "      <td>10.049073</td>\n",
       "      <td>16.951799</td>\n",
       "    </tr>\n",
       "    <tr>\n",
       "      <th>3</th>\n",
       "      <td>389111.663658</td>\n",
       "      <td>6.170344e+06</td>\n",
       "      <td>6.173339e+10</td>\n",
       "      <td>11.986580</td>\n",
       "      <td>16.159382</td>\n",
       "    </tr>\n",
       "    <tr>\n",
       "      <th>4</th>\n",
       "      <td>389190.432246</td>\n",
       "      <td>6.170530e+06</td>\n",
       "      <td>6.173339e+10</td>\n",
       "      <td>12.449310</td>\n",
       "      <td>16.060477</td>\n",
       "    </tr>\n",
       "  </tbody>\n",
       "</table>\n",
       "</div>"
      ],
      "text/plain": [
       "       h_coord_x     h_coord_y     h_blockid  h_harvest  h_water_percentage\n",
       "0  388958.218033  6.170516e+06  6.173339e+10  11.142008           16.148566\n",
       "1  388985.555263  6.170704e+06  6.173339e+10  11.651238           17.100310\n",
       "2  389011.218648  6.166091e+06  6.169339e+10  10.049073           16.951799\n",
       "3  389111.663658  6.170344e+06  6.173339e+10  11.986580           16.159382\n",
       "4  389190.432246  6.170530e+06  6.173339e+10  12.449310           16.060477"
      ]
     },
     "execution_count": 37,
     "metadata": {},
     "output_type": "execute_result"
    }
   ],
   "source": [
    "new_harv_df.head()"
   ]
  },
  {
   "cell_type": "code",
   "execution_count": 38,
   "metadata": {},
   "outputs": [
    {
     "data": {
      "text/html": [
       "<div>\n",
       "<style scoped>\n",
       "    .dataframe tbody tr th:only-of-type {\n",
       "        vertical-align: middle;\n",
       "    }\n",
       "\n",
       "    .dataframe tbody tr th {\n",
       "        vertical-align: top;\n",
       "    }\n",
       "\n",
       "    .dataframe thead th {\n",
       "        text-align: right;\n",
       "    }\n",
       "</style>\n",
       "<table border=\"1\" class=\"dataframe\">\n",
       "  <thead>\n",
       "    <tr style=\"text-align: right;\">\n",
       "      <th></th>\n",
       "      <th>coord_x</th>\n",
       "      <th>coord_y</th>\n",
       "      <th>s_ph</th>\n",
       "      <th>s_hum100</th>\n",
       "      <th>s_clay100</th>\n",
       "      <th>s_phosphorus</th>\n",
       "      <th>s_calcium</th>\n",
       "      <th>s_k</th>\n",
       "      <th>s_mg</th>\n",
       "      <th>s_K/Mg</th>\n",
       "    </tr>\n",
       "  </thead>\n",
       "  <tbody>\n",
       "    <tr>\n",
       "      <th>9</th>\n",
       "      <td>388937.7</td>\n",
       "      <td>6170516.6</td>\n",
       "      <td>6.7</td>\n",
       "      <td>2.2</td>\n",
       "      <td>15</td>\n",
       "      <td>10.0</td>\n",
       "      <td>210.0</td>\n",
       "      <td>7.9</td>\n",
       "      <td>4.4</td>\n",
       "      <td>1.795455</td>\n",
       "    </tr>\n",
       "    <tr>\n",
       "      <th>10</th>\n",
       "      <td>388979.3</td>\n",
       "      <td>6170716.0</td>\n",
       "      <td>8.1</td>\n",
       "      <td>2.0</td>\n",
       "      <td>19</td>\n",
       "      <td>14.0</td>\n",
       "      <td>820.0</td>\n",
       "      <td>16.0</td>\n",
       "      <td>7.3</td>\n",
       "      <td>2.191781</td>\n",
       "    </tr>\n",
       "    <tr>\n",
       "      <th>11</th>\n",
       "      <td>389008.2</td>\n",
       "      <td>6166086.7</td>\n",
       "      <td>8.1</td>\n",
       "      <td>3.4</td>\n",
       "      <td>14</td>\n",
       "      <td>11.0</td>\n",
       "      <td>370.0</td>\n",
       "      <td>10.0</td>\n",
       "      <td>7.3</td>\n",
       "      <td>1.369863</td>\n",
       "    </tr>\n",
       "    <tr>\n",
       "      <th>12</th>\n",
       "      <td>389113.6</td>\n",
       "      <td>6170344.7</td>\n",
       "      <td>7.1</td>\n",
       "      <td>1.9</td>\n",
       "      <td>24</td>\n",
       "      <td>6.8</td>\n",
       "      <td>290.0</td>\n",
       "      <td>14.0</td>\n",
       "      <td>8.2</td>\n",
       "      <td>1.707317</td>\n",
       "    </tr>\n",
       "    <tr>\n",
       "      <th>14</th>\n",
       "      <td>389190.4</td>\n",
       "      <td>6170529.5</td>\n",
       "      <td>6.8</td>\n",
       "      <td>2.0</td>\n",
       "      <td>17</td>\n",
       "      <td>2.2</td>\n",
       "      <td>210.0</td>\n",
       "      <td>9.0</td>\n",
       "      <td>5.9</td>\n",
       "      <td>1.525424</td>\n",
       "    </tr>\n",
       "  </tbody>\n",
       "</table>\n",
       "</div>"
      ],
      "text/plain": [
       "     coord_x    coord_y  s_ph  s_hum100 s_clay100  s_phosphorus  s_calcium  \\\n",
       "9   388937.7  6170516.6   6.7       2.2        15          10.0      210.0   \n",
       "10  388979.3  6170716.0   8.1       2.0        19          14.0      820.0   \n",
       "11  389008.2  6166086.7   8.1       3.4        14          11.0      370.0   \n",
       "12  389113.6  6170344.7   7.1       1.9        24           6.8      290.0   \n",
       "14  389190.4  6170529.5   6.8       2.0        17           2.2      210.0   \n",
       "\n",
       "     s_k  s_mg    s_K/Mg  \n",
       "9    7.9   4.4  1.795455  \n",
       "10  16.0   7.3  2.191781  \n",
       "11  10.0   7.3  1.369863  \n",
       "12  14.0   8.2  1.707317  \n",
       "14   9.0   5.9  1.525424  "
      ]
     },
     "execution_count": 38,
     "metadata": {},
     "output_type": "execute_result"
    }
   ],
   "source": [
    "new_soil_df.head()"
   ]
  },
  {
   "cell_type": "markdown",
   "metadata": {},
   "source": [
    "\n",
    "Check if some values of harvest are 0 or non existent (nan)\n",
    "Later on we remove all such rows from both harvest and soil (after merging them toghether)"
   ]
  },
  {
   "cell_type": "code",
   "execution_count": 39,
   "metadata": {
    "colab": {
     "base_uri": "https://localhost:8080/",
     "height": 359
    },
    "id": "UgpLyzLsCLXq",
    "outputId": "b00bc2c4-ad99-46f7-d1ef-cda088d804a5",
    "scrolled": true
   },
   "outputs": [
    {
     "name": "stdout",
     "output_type": "stream",
     "text": [
      "note: for this to work both soil and re-grouped harvest (i.e. newdf) must have the exact same number of rows.\n",
      "Soil shape: (166, 10)\n",
      "Re-grouped Harvest shape: (166, 5)\n"
     ]
    }
   ],
   "source": [
    "#tempdf = newdf\n",
    "#harvdf#[\"harvest\"].unique()\n",
    "print(\"note: for this to work both soil and re-grouped harvest (i.e. newdf) must have the exact same number of rows.\")\n",
    "print(\"Soil shape:\", new_soil_df.shape)\n",
    "print(\"Re-grouped Harvest shape:\", new_harv_df.shape)"
   ]
  },
  {
   "cell_type": "code",
   "execution_count": 40,
   "metadata": {},
   "outputs": [
    {
     "data": {
      "text/html": [
       "<div>\n",
       "<style scoped>\n",
       "    .dataframe tbody tr th:only-of-type {\n",
       "        vertical-align: middle;\n",
       "    }\n",
       "\n",
       "    .dataframe tbody tr th {\n",
       "        vertical-align: top;\n",
       "    }\n",
       "\n",
       "    .dataframe thead th {\n",
       "        text-align: right;\n",
       "    }\n",
       "</style>\n",
       "<table border=\"1\" class=\"dataframe\">\n",
       "  <thead>\n",
       "    <tr style=\"text-align: right;\">\n",
       "      <th></th>\n",
       "      <th>h_coord_x</th>\n",
       "      <th>h_coord_y</th>\n",
       "      <th>h_blockid</th>\n",
       "      <th>h_harvest</th>\n",
       "      <th>h_water_percentage</th>\n",
       "    </tr>\n",
       "  </thead>\n",
       "  <tbody>\n",
       "    <tr>\n",
       "      <th>0</th>\n",
       "      <td>388958.218033</td>\n",
       "      <td>6.170516e+06</td>\n",
       "      <td>6.173339e+10</td>\n",
       "      <td>11.142008</td>\n",
       "      <td>16.148566</td>\n",
       "    </tr>\n",
       "    <tr>\n",
       "      <th>1</th>\n",
       "      <td>388985.555263</td>\n",
       "      <td>6.170704e+06</td>\n",
       "      <td>6.173339e+10</td>\n",
       "      <td>11.651238</td>\n",
       "      <td>17.100310</td>\n",
       "    </tr>\n",
       "    <tr>\n",
       "      <th>2</th>\n",
       "      <td>389011.218648</td>\n",
       "      <td>6.166091e+06</td>\n",
       "      <td>6.169339e+10</td>\n",
       "      <td>10.049073</td>\n",
       "      <td>16.951799</td>\n",
       "    </tr>\n",
       "    <tr>\n",
       "      <th>3</th>\n",
       "      <td>389111.663658</td>\n",
       "      <td>6.170344e+06</td>\n",
       "      <td>6.173339e+10</td>\n",
       "      <td>11.986580</td>\n",
       "      <td>16.159382</td>\n",
       "    </tr>\n",
       "    <tr>\n",
       "      <th>4</th>\n",
       "      <td>389190.432246</td>\n",
       "      <td>6.170530e+06</td>\n",
       "      <td>6.173339e+10</td>\n",
       "      <td>12.449310</td>\n",
       "      <td>16.060477</td>\n",
       "    </tr>\n",
       "    <tr>\n",
       "      <th>...</th>\n",
       "      <td>...</td>\n",
       "      <td>...</td>\n",
       "      <td>...</td>\n",
       "      <td>...</td>\n",
       "      <td>...</td>\n",
       "    </tr>\n",
       "    <tr>\n",
       "      <th>161</th>\n",
       "      <td>422507.818293</td>\n",
       "      <td>6.172790e+06</td>\n",
       "      <td>6.175372e+10</td>\n",
       "      <td>10.734756</td>\n",
       "      <td>18.717683</td>\n",
       "    </tr>\n",
       "    <tr>\n",
       "      <th>162</th>\n",
       "      <td>422517.581034</td>\n",
       "      <td>6.172850e+06</td>\n",
       "      <td>6.175372e+10</td>\n",
       "      <td>8.568473</td>\n",
       "      <td>20.720936</td>\n",
       "    </tr>\n",
       "    <tr>\n",
       "      <th>163</th>\n",
       "      <td>422525.944444</td>\n",
       "      <td>6.172446e+06</td>\n",
       "      <td>6.175371e+10</td>\n",
       "      <td>7.762222</td>\n",
       "      <td>17.085185</td>\n",
       "    </tr>\n",
       "    <tr>\n",
       "      <th>164</th>\n",
       "      <td>422592.575688</td>\n",
       "      <td>6.172433e+06</td>\n",
       "      <td>6.175371e+10</td>\n",
       "      <td>8.683945</td>\n",
       "      <td>17.648165</td>\n",
       "    </tr>\n",
       "    <tr>\n",
       "      <th>165</th>\n",
       "      <td>422586.432308</td>\n",
       "      <td>6.172824e+06</td>\n",
       "      <td>6.175372e+10</td>\n",
       "      <td>9.572308</td>\n",
       "      <td>18.861538</td>\n",
       "    </tr>\n",
       "  </tbody>\n",
       "</table>\n",
       "<p>166 rows × 5 columns</p>\n",
       "</div>"
      ],
      "text/plain": [
       "         h_coord_x     h_coord_y     h_blockid  h_harvest  h_water_percentage\n",
       "0    388958.218033  6.170516e+06  6.173339e+10  11.142008           16.148566\n",
       "1    388985.555263  6.170704e+06  6.173339e+10  11.651238           17.100310\n",
       "2    389011.218648  6.166091e+06  6.169339e+10  10.049073           16.951799\n",
       "3    389111.663658  6.170344e+06  6.173339e+10  11.986580           16.159382\n",
       "4    389190.432246  6.170530e+06  6.173339e+10  12.449310           16.060477\n",
       "..             ...           ...           ...        ...                 ...\n",
       "161  422507.818293  6.172790e+06  6.175372e+10  10.734756           18.717683\n",
       "162  422517.581034  6.172850e+06  6.175372e+10   8.568473           20.720936\n",
       "163  422525.944444  6.172446e+06  6.175371e+10   7.762222           17.085185\n",
       "164  422592.575688  6.172433e+06  6.175371e+10   8.683945           17.648165\n",
       "165  422586.432308  6.172824e+06  6.175372e+10   9.572308           18.861538\n",
       "\n",
       "[166 rows x 5 columns]"
      ]
     },
     "execution_count": 40,
     "metadata": {},
     "output_type": "execute_result"
    }
   ],
   "source": [
    "new_harv_df"
   ]
  },
  {
   "cell_type": "markdown",
   "metadata": {},
   "source": [
    "# Constructing the input vector from all data"
   ]
  },
  {
   "cell_type": "markdown",
   "metadata": {},
   "source": [
    "First in space: Here we construct the input vector changing in space: i.e. Soil and Harvest data only\n",
    "\n",
    "The row in both soil and re-grouped harvest are now the same so we simply add more columns in the new dataframe: spatialvecdf"
   ]
  },
  {
   "cell_type": "code",
   "execution_count": 41,
   "metadata": {
    "colab": {
     "base_uri": "https://localhost:8080/",
     "height": 216
    },
    "id": "nR3yoFYUM5N7",
    "outputId": "d9baa53a-c7f2-47cb-cb29-b2c0449d8d56"
   },
   "outputs": [
    {
     "data": {
      "text/html": [
       "<div>\n",
       "<style scoped>\n",
       "    .dataframe tbody tr th:only-of-type {\n",
       "        vertical-align: middle;\n",
       "    }\n",
       "\n",
       "    .dataframe tbody tr th {\n",
       "        vertical-align: top;\n",
       "    }\n",
       "\n",
       "    .dataframe thead th {\n",
       "        text-align: right;\n",
       "    }\n",
       "</style>\n",
       "<table border=\"1\" class=\"dataframe\">\n",
       "  <thead>\n",
       "    <tr style=\"text-align: right;\">\n",
       "      <th></th>\n",
       "      <th>coord_x</th>\n",
       "      <th>coord_y</th>\n",
       "      <th>s_ph</th>\n",
       "      <th>s_hum100</th>\n",
       "      <th>s_clay100</th>\n",
       "      <th>s_phosphorus</th>\n",
       "      <th>s_calcium</th>\n",
       "      <th>s_k</th>\n",
       "      <th>s_mg</th>\n",
       "      <th>s_K/Mg</th>\n",
       "      <th>h_blockid</th>\n",
       "      <th>h_harvest</th>\n",
       "      <th>h_water_percentage</th>\n",
       "    </tr>\n",
       "  </thead>\n",
       "  <tbody>\n",
       "    <tr>\n",
       "      <th>0</th>\n",
       "      <td>388937.7</td>\n",
       "      <td>6170516.6</td>\n",
       "      <td>6.7</td>\n",
       "      <td>2.2</td>\n",
       "      <td>15</td>\n",
       "      <td>10.0</td>\n",
       "      <td>210.0</td>\n",
       "      <td>7.9</td>\n",
       "      <td>4.4</td>\n",
       "      <td>1.795455</td>\n",
       "      <td>6.173339e+10</td>\n",
       "      <td>11.142008</td>\n",
       "      <td>16.148566</td>\n",
       "    </tr>\n",
       "    <tr>\n",
       "      <th>1</th>\n",
       "      <td>388979.3</td>\n",
       "      <td>6170716.0</td>\n",
       "      <td>8.1</td>\n",
       "      <td>2.0</td>\n",
       "      <td>19</td>\n",
       "      <td>14.0</td>\n",
       "      <td>820.0</td>\n",
       "      <td>16.0</td>\n",
       "      <td>7.3</td>\n",
       "      <td>2.191781</td>\n",
       "      <td>6.173339e+10</td>\n",
       "      <td>11.651238</td>\n",
       "      <td>17.100310</td>\n",
       "    </tr>\n",
       "    <tr>\n",
       "      <th>2</th>\n",
       "      <td>389008.2</td>\n",
       "      <td>6166086.7</td>\n",
       "      <td>8.1</td>\n",
       "      <td>3.4</td>\n",
       "      <td>14</td>\n",
       "      <td>11.0</td>\n",
       "      <td>370.0</td>\n",
       "      <td>10.0</td>\n",
       "      <td>7.3</td>\n",
       "      <td>1.369863</td>\n",
       "      <td>6.169339e+10</td>\n",
       "      <td>10.049073</td>\n",
       "      <td>16.951799</td>\n",
       "    </tr>\n",
       "    <tr>\n",
       "      <th>3</th>\n",
       "      <td>389113.6</td>\n",
       "      <td>6170344.7</td>\n",
       "      <td>7.1</td>\n",
       "      <td>1.9</td>\n",
       "      <td>24</td>\n",
       "      <td>6.8</td>\n",
       "      <td>290.0</td>\n",
       "      <td>14.0</td>\n",
       "      <td>8.2</td>\n",
       "      <td>1.707317</td>\n",
       "      <td>6.173339e+10</td>\n",
       "      <td>11.986580</td>\n",
       "      <td>16.159382</td>\n",
       "    </tr>\n",
       "    <tr>\n",
       "      <th>4</th>\n",
       "      <td>389190.4</td>\n",
       "      <td>6170529.5</td>\n",
       "      <td>6.8</td>\n",
       "      <td>2.0</td>\n",
       "      <td>17</td>\n",
       "      <td>2.2</td>\n",
       "      <td>210.0</td>\n",
       "      <td>9.0</td>\n",
       "      <td>5.9</td>\n",
       "      <td>1.525424</td>\n",
       "      <td>6.173339e+10</td>\n",
       "      <td>12.449310</td>\n",
       "      <td>16.060477</td>\n",
       "    </tr>\n",
       "    <tr>\n",
       "      <th>...</th>\n",
       "      <td>...</td>\n",
       "      <td>...</td>\n",
       "      <td>...</td>\n",
       "      <td>...</td>\n",
       "      <td>...</td>\n",
       "      <td>...</td>\n",
       "      <td>...</td>\n",
       "      <td>...</td>\n",
       "      <td>...</td>\n",
       "      <td>...</td>\n",
       "      <td>...</td>\n",
       "      <td>...</td>\n",
       "      <td>...</td>\n",
       "    </tr>\n",
       "    <tr>\n",
       "      <th>161</th>\n",
       "      <td>422517.2</td>\n",
       "      <td>6172766.1</td>\n",
       "      <td>7.0</td>\n",
       "      <td>7.2</td>\n",
       "      <td>34</td>\n",
       "      <td>6.1</td>\n",
       "      <td>400.0</td>\n",
       "      <td>14.0</td>\n",
       "      <td>32.0</td>\n",
       "      <td>0.437500</td>\n",
       "      <td>6.175372e+10</td>\n",
       "      <td>10.734756</td>\n",
       "      <td>18.717683</td>\n",
       "    </tr>\n",
       "    <tr>\n",
       "      <th>162</th>\n",
       "      <td>422519.0</td>\n",
       "      <td>6172865.1</td>\n",
       "      <td>6.1</td>\n",
       "      <td>3.3</td>\n",
       "      <td>13</td>\n",
       "      <td>7.3</td>\n",
       "      <td>130.0</td>\n",
       "      <td>9.1</td>\n",
       "      <td>8.4</td>\n",
       "      <td>1.083333</td>\n",
       "      <td>6.175372e+10</td>\n",
       "      <td>8.568473</td>\n",
       "      <td>20.720936</td>\n",
       "    </tr>\n",
       "    <tr>\n",
       "      <th>163</th>\n",
       "      <td>422523.8</td>\n",
       "      <td>6172451.3</td>\n",
       "      <td>6.1</td>\n",
       "      <td>5.2</td>\n",
       "      <td>24</td>\n",
       "      <td>9.3</td>\n",
       "      <td>220.0</td>\n",
       "      <td>11.0</td>\n",
       "      <td>12.0</td>\n",
       "      <td>0.916667</td>\n",
       "      <td>6.175371e+10</td>\n",
       "      <td>7.762222</td>\n",
       "      <td>17.085185</td>\n",
       "    </tr>\n",
       "    <tr>\n",
       "      <th>164</th>\n",
       "      <td>422607.7</td>\n",
       "      <td>6172457.3</td>\n",
       "      <td>6.1</td>\n",
       "      <td>3.3</td>\n",
       "      <td>28</td>\n",
       "      <td>6.3</td>\n",
       "      <td>300.0</td>\n",
       "      <td>13.0</td>\n",
       "      <td>17.0</td>\n",
       "      <td>0.764706</td>\n",
       "      <td>6.175371e+10</td>\n",
       "      <td>8.683945</td>\n",
       "      <td>17.648165</td>\n",
       "    </tr>\n",
       "    <tr>\n",
       "      <th>165</th>\n",
       "      <td>422608.8</td>\n",
       "      <td>6172798.2</td>\n",
       "      <td>6.9</td>\n",
       "      <td>3.6</td>\n",
       "      <td>27</td>\n",
       "      <td>5.2</td>\n",
       "      <td>260.0</td>\n",
       "      <td>13.0</td>\n",
       "      <td>14.0</td>\n",
       "      <td>0.928571</td>\n",
       "      <td>6.175372e+10</td>\n",
       "      <td>9.572308</td>\n",
       "      <td>18.861538</td>\n",
       "    </tr>\n",
       "  </tbody>\n",
       "</table>\n",
       "<p>166 rows × 13 columns</p>\n",
       "</div>"
      ],
      "text/plain": [
       "      coord_x    coord_y  s_ph  s_hum100 s_clay100  s_phosphorus  s_calcium  \\\n",
       "0    388937.7  6170516.6   6.7       2.2        15          10.0      210.0   \n",
       "1    388979.3  6170716.0   8.1       2.0        19          14.0      820.0   \n",
       "2    389008.2  6166086.7   8.1       3.4        14          11.0      370.0   \n",
       "3    389113.6  6170344.7   7.1       1.9        24           6.8      290.0   \n",
       "4    389190.4  6170529.5   6.8       2.0        17           2.2      210.0   \n",
       "..        ...        ...   ...       ...       ...           ...        ...   \n",
       "161  422517.2  6172766.1   7.0       7.2        34           6.1      400.0   \n",
       "162  422519.0  6172865.1   6.1       3.3        13           7.3      130.0   \n",
       "163  422523.8  6172451.3   6.1       5.2        24           9.3      220.0   \n",
       "164  422607.7  6172457.3   6.1       3.3        28           6.3      300.0   \n",
       "165  422608.8  6172798.2   6.9       3.6        27           5.2      260.0   \n",
       "\n",
       "      s_k  s_mg    s_K/Mg     h_blockid  h_harvest  h_water_percentage  \n",
       "0     7.9   4.4  1.795455  6.173339e+10  11.142008           16.148566  \n",
       "1    16.0   7.3  2.191781  6.173339e+10  11.651238           17.100310  \n",
       "2    10.0   7.3  1.369863  6.169339e+10  10.049073           16.951799  \n",
       "3    14.0   8.2  1.707317  6.173339e+10  11.986580           16.159382  \n",
       "4     9.0   5.9  1.525424  6.173339e+10  12.449310           16.060477  \n",
       "..    ...   ...       ...           ...        ...                 ...  \n",
       "161  14.0  32.0  0.437500  6.175372e+10  10.734756           18.717683  \n",
       "162   9.1   8.4  1.083333  6.175372e+10   8.568473           20.720936  \n",
       "163  11.0  12.0  0.916667  6.175371e+10   7.762222           17.085185  \n",
       "164  13.0  17.0  0.764706  6.175371e+10   8.683945           17.648165  \n",
       "165  13.0  14.0  0.928571  6.175372e+10   9.572308           18.861538  \n",
       "\n",
       "[166 rows x 13 columns]"
      ]
     },
     "execution_count": 41,
     "metadata": {},
     "output_type": "execute_result"
    }
   ],
   "source": [
    "\n",
    "# Must reset index if concat or join is used!\n",
    "inputdf = new_soil_df.reset_index(drop=True)\n",
    "##newharvdf = newharvdf.reset_index(drop=True)\n",
    "newharvdf    = new_harv_df.reset_index(drop=True)\n",
    "spatialvecdf = pd.concat([inputdf, newharvdf], axis=1)\n",
    "\n",
    "# Removing also the coordinates now\n",
    "spatialvecdf = spatialvecdf.drop(columns=[\"h_coord_x\", \"h_coord_y\"])\n",
    "spatialvecdf"
   ]
  },
  {
   "cell_type": "markdown",
   "metadata": {},
   "source": [
    "We now remove all rows which contain 0 or non-existant values for harvest"
   ]
  },
  {
   "cell_type": "code",
   "execution_count": 42,
   "metadata": {},
   "outputs": [
    {
     "data": {
      "text/html": [
       "<div>\n",
       "<style scoped>\n",
       "    .dataframe tbody tr th:only-of-type {\n",
       "        vertical-align: middle;\n",
       "    }\n",
       "\n",
       "    .dataframe tbody tr th {\n",
       "        vertical-align: top;\n",
       "    }\n",
       "\n",
       "    .dataframe thead th {\n",
       "        text-align: right;\n",
       "    }\n",
       "</style>\n",
       "<table border=\"1\" class=\"dataframe\">\n",
       "  <thead>\n",
       "    <tr style=\"text-align: right;\">\n",
       "      <th></th>\n",
       "      <th>coord_x</th>\n",
       "      <th>coord_y</th>\n",
       "      <th>s_ph</th>\n",
       "      <th>s_hum100</th>\n",
       "      <th>s_clay100</th>\n",
       "      <th>s_phosphorus</th>\n",
       "      <th>s_calcium</th>\n",
       "      <th>s_k</th>\n",
       "      <th>s_mg</th>\n",
       "      <th>s_K/Mg</th>\n",
       "      <th>h_blockid</th>\n",
       "      <th>h_harvest</th>\n",
       "      <th>h_water_percentage</th>\n",
       "    </tr>\n",
       "  </thead>\n",
       "  <tbody>\n",
       "    <tr>\n",
       "      <th>0</th>\n",
       "      <td>388937.7</td>\n",
       "      <td>6170516.6</td>\n",
       "      <td>6.7</td>\n",
       "      <td>2.2</td>\n",
       "      <td>15</td>\n",
       "      <td>10.0</td>\n",
       "      <td>210.0</td>\n",
       "      <td>7.9</td>\n",
       "      <td>4.4</td>\n",
       "      <td>1.795455</td>\n",
       "      <td>6.173339e+10</td>\n",
       "      <td>11.142008</td>\n",
       "      <td>16.148566</td>\n",
       "    </tr>\n",
       "    <tr>\n",
       "      <th>1</th>\n",
       "      <td>388979.3</td>\n",
       "      <td>6170716.0</td>\n",
       "      <td>8.1</td>\n",
       "      <td>2.0</td>\n",
       "      <td>19</td>\n",
       "      <td>14.0</td>\n",
       "      <td>820.0</td>\n",
       "      <td>16.0</td>\n",
       "      <td>7.3</td>\n",
       "      <td>2.191781</td>\n",
       "      <td>6.173339e+10</td>\n",
       "      <td>11.651238</td>\n",
       "      <td>17.100310</td>\n",
       "    </tr>\n",
       "    <tr>\n",
       "      <th>2</th>\n",
       "      <td>389008.2</td>\n",
       "      <td>6166086.7</td>\n",
       "      <td>8.1</td>\n",
       "      <td>3.4</td>\n",
       "      <td>14</td>\n",
       "      <td>11.0</td>\n",
       "      <td>370.0</td>\n",
       "      <td>10.0</td>\n",
       "      <td>7.3</td>\n",
       "      <td>1.369863</td>\n",
       "      <td>6.169339e+10</td>\n",
       "      <td>10.049073</td>\n",
       "      <td>16.951799</td>\n",
       "    </tr>\n",
       "    <tr>\n",
       "      <th>3</th>\n",
       "      <td>389113.6</td>\n",
       "      <td>6170344.7</td>\n",
       "      <td>7.1</td>\n",
       "      <td>1.9</td>\n",
       "      <td>24</td>\n",
       "      <td>6.8</td>\n",
       "      <td>290.0</td>\n",
       "      <td>14.0</td>\n",
       "      <td>8.2</td>\n",
       "      <td>1.707317</td>\n",
       "      <td>6.173339e+10</td>\n",
       "      <td>11.986580</td>\n",
       "      <td>16.159382</td>\n",
       "    </tr>\n",
       "    <tr>\n",
       "      <th>4</th>\n",
       "      <td>389190.4</td>\n",
       "      <td>6170529.5</td>\n",
       "      <td>6.8</td>\n",
       "      <td>2.0</td>\n",
       "      <td>17</td>\n",
       "      <td>2.2</td>\n",
       "      <td>210.0</td>\n",
       "      <td>9.0</td>\n",
       "      <td>5.9</td>\n",
       "      <td>1.525424</td>\n",
       "      <td>6.173339e+10</td>\n",
       "      <td>12.449310</td>\n",
       "      <td>16.060477</td>\n",
       "    </tr>\n",
       "    <tr>\n",
       "      <th>...</th>\n",
       "      <td>...</td>\n",
       "      <td>...</td>\n",
       "      <td>...</td>\n",
       "      <td>...</td>\n",
       "      <td>...</td>\n",
       "      <td>...</td>\n",
       "      <td>...</td>\n",
       "      <td>...</td>\n",
       "      <td>...</td>\n",
       "      <td>...</td>\n",
       "      <td>...</td>\n",
       "      <td>...</td>\n",
       "      <td>...</td>\n",
       "    </tr>\n",
       "    <tr>\n",
       "      <th>161</th>\n",
       "      <td>422517.2</td>\n",
       "      <td>6172766.1</td>\n",
       "      <td>7.0</td>\n",
       "      <td>7.2</td>\n",
       "      <td>34</td>\n",
       "      <td>6.1</td>\n",
       "      <td>400.0</td>\n",
       "      <td>14.0</td>\n",
       "      <td>32.0</td>\n",
       "      <td>0.437500</td>\n",
       "      <td>6.175372e+10</td>\n",
       "      <td>10.734756</td>\n",
       "      <td>18.717683</td>\n",
       "    </tr>\n",
       "    <tr>\n",
       "      <th>162</th>\n",
       "      <td>422519.0</td>\n",
       "      <td>6172865.1</td>\n",
       "      <td>6.1</td>\n",
       "      <td>3.3</td>\n",
       "      <td>13</td>\n",
       "      <td>7.3</td>\n",
       "      <td>130.0</td>\n",
       "      <td>9.1</td>\n",
       "      <td>8.4</td>\n",
       "      <td>1.083333</td>\n",
       "      <td>6.175372e+10</td>\n",
       "      <td>8.568473</td>\n",
       "      <td>20.720936</td>\n",
       "    </tr>\n",
       "    <tr>\n",
       "      <th>163</th>\n",
       "      <td>422523.8</td>\n",
       "      <td>6172451.3</td>\n",
       "      <td>6.1</td>\n",
       "      <td>5.2</td>\n",
       "      <td>24</td>\n",
       "      <td>9.3</td>\n",
       "      <td>220.0</td>\n",
       "      <td>11.0</td>\n",
       "      <td>12.0</td>\n",
       "      <td>0.916667</td>\n",
       "      <td>6.175371e+10</td>\n",
       "      <td>7.762222</td>\n",
       "      <td>17.085185</td>\n",
       "    </tr>\n",
       "    <tr>\n",
       "      <th>164</th>\n",
       "      <td>422607.7</td>\n",
       "      <td>6172457.3</td>\n",
       "      <td>6.1</td>\n",
       "      <td>3.3</td>\n",
       "      <td>28</td>\n",
       "      <td>6.3</td>\n",
       "      <td>300.0</td>\n",
       "      <td>13.0</td>\n",
       "      <td>17.0</td>\n",
       "      <td>0.764706</td>\n",
       "      <td>6.175371e+10</td>\n",
       "      <td>8.683945</td>\n",
       "      <td>17.648165</td>\n",
       "    </tr>\n",
       "    <tr>\n",
       "      <th>165</th>\n",
       "      <td>422608.8</td>\n",
       "      <td>6172798.2</td>\n",
       "      <td>6.9</td>\n",
       "      <td>3.6</td>\n",
       "      <td>27</td>\n",
       "      <td>5.2</td>\n",
       "      <td>260.0</td>\n",
       "      <td>13.0</td>\n",
       "      <td>14.0</td>\n",
       "      <td>0.928571</td>\n",
       "      <td>6.175372e+10</td>\n",
       "      <td>9.572308</td>\n",
       "      <td>18.861538</td>\n",
       "    </tr>\n",
       "  </tbody>\n",
       "</table>\n",
       "<p>166 rows × 13 columns</p>\n",
       "</div>"
      ],
      "text/plain": [
       "      coord_x    coord_y  s_ph  s_hum100 s_clay100  s_phosphorus  s_calcium  \\\n",
       "0    388937.7  6170516.6   6.7       2.2        15          10.0      210.0   \n",
       "1    388979.3  6170716.0   8.1       2.0        19          14.0      820.0   \n",
       "2    389008.2  6166086.7   8.1       3.4        14          11.0      370.0   \n",
       "3    389113.6  6170344.7   7.1       1.9        24           6.8      290.0   \n",
       "4    389190.4  6170529.5   6.8       2.0        17           2.2      210.0   \n",
       "..        ...        ...   ...       ...       ...           ...        ...   \n",
       "161  422517.2  6172766.1   7.0       7.2        34           6.1      400.0   \n",
       "162  422519.0  6172865.1   6.1       3.3        13           7.3      130.0   \n",
       "163  422523.8  6172451.3   6.1       5.2        24           9.3      220.0   \n",
       "164  422607.7  6172457.3   6.1       3.3        28           6.3      300.0   \n",
       "165  422608.8  6172798.2   6.9       3.6        27           5.2      260.0   \n",
       "\n",
       "      s_k  s_mg    s_K/Mg     h_blockid  h_harvest  h_water_percentage  \n",
       "0     7.9   4.4  1.795455  6.173339e+10  11.142008           16.148566  \n",
       "1    16.0   7.3  2.191781  6.173339e+10  11.651238           17.100310  \n",
       "2    10.0   7.3  1.369863  6.169339e+10  10.049073           16.951799  \n",
       "3    14.0   8.2  1.707317  6.173339e+10  11.986580           16.159382  \n",
       "4     9.0   5.9  1.525424  6.173339e+10  12.449310           16.060477  \n",
       "..    ...   ...       ...           ...        ...                 ...  \n",
       "161  14.0  32.0  0.437500  6.175372e+10  10.734756           18.717683  \n",
       "162   9.1   8.4  1.083333  6.175372e+10   8.568473           20.720936  \n",
       "163  11.0  12.0  0.916667  6.175371e+10   7.762222           17.085185  \n",
       "164  13.0  17.0  0.764706  6.175371e+10   8.683945           17.648165  \n",
       "165  13.0  14.0  0.928571  6.175372e+10   9.572308           18.861538  \n",
       "\n",
       "[166 rows x 13 columns]"
      ]
     },
     "execution_count": 42,
     "metadata": {},
     "output_type": "execute_result"
    }
   ],
   "source": [
    "# Remove values of harvest which are near 0 - cutoff values here is 5\n",
    "#spatialvecdf = spatialvecdf[spatialvecdf[\"harvest\"]>=5.]\n",
    "temporarydf = spatialvecdf \n",
    "\n",
    "# Remove rows which contain zero or nan for Harvest from the dataframe\n",
    "temporarydf = temporarydf[~(temporarydf[\"h_harvest\"] == 0.0)]#axis=1)]\n",
    "temporarydf = temporarydf[temporarydf['h_harvest'].notna()]\n",
    "spatialvecdf = temporarydf\n",
    "spatialvecdf"
   ]
  },
  {
   "cell_type": "markdown",
   "metadata": {},
   "source": [
    "### Look at both time and spatial vectors now"
   ]
  },
  {
   "cell_type": "markdown",
   "metadata": {},
   "source": []
  },
  {
   "cell_type": "code",
   "execution_count": 43,
   "metadata": {
    "colab": {
     "base_uri": "https://localhost:8080/",
     "height": 216
    },
    "id": "wzRA52bm6WO4",
    "outputId": "db176643-df4d-4126-f149-cb187a2ecbea"
   },
   "outputs": [
    {
     "data": {
      "text/plain": [
       "(3, 3)"
      ]
     },
     "execution_count": 43,
     "metadata": {},
     "output_type": "execute_result"
    }
   ],
   "source": [
    "#clean_weather_df\n",
    "\n",
    "timevecdf = clean_weather_df# ntempdf\n",
    "timevecdf.shape"
   ]
  },
  {
   "cell_type": "code",
   "execution_count": 44,
   "metadata": {},
   "outputs": [
    {
     "data": {
      "text/html": [
       "<div>\n",
       "<style scoped>\n",
       "    .dataframe tbody tr th:only-of-type {\n",
       "        vertical-align: middle;\n",
       "    }\n",
       "\n",
       "    .dataframe tbody tr th {\n",
       "        vertical-align: top;\n",
       "    }\n",
       "\n",
       "    .dataframe thead th {\n",
       "        text-align: right;\n",
       "    }\n",
       "</style>\n",
       "<table border=\"1\" class=\"dataframe\">\n",
       "  <thead>\n",
       "    <tr style=\"text-align: right;\">\n",
       "      <th></th>\n",
       "      <th>coord_x</th>\n",
       "      <th>coord_y</th>\n",
       "      <th>s_ph</th>\n",
       "      <th>s_hum100</th>\n",
       "      <th>s_clay100</th>\n",
       "      <th>s_phosphorus</th>\n",
       "      <th>s_calcium</th>\n",
       "      <th>s_k</th>\n",
       "      <th>s_mg</th>\n",
       "      <th>s_K/Mg</th>\n",
       "      <th>h_blockid</th>\n",
       "      <th>h_harvest</th>\n",
       "      <th>h_water_percentage</th>\n",
       "    </tr>\n",
       "  </thead>\n",
       "  <tbody>\n",
       "    <tr>\n",
       "      <th>0</th>\n",
       "      <td>388937.7</td>\n",
       "      <td>6170516.6</td>\n",
       "      <td>6.7</td>\n",
       "      <td>2.2</td>\n",
       "      <td>15</td>\n",
       "      <td>10.0</td>\n",
       "      <td>210.0</td>\n",
       "      <td>7.9</td>\n",
       "      <td>4.4</td>\n",
       "      <td>1.795455</td>\n",
       "      <td>6.173339e+10</td>\n",
       "      <td>11.142008</td>\n",
       "      <td>16.148566</td>\n",
       "    </tr>\n",
       "    <tr>\n",
       "      <th>1</th>\n",
       "      <td>388979.3</td>\n",
       "      <td>6170716.0</td>\n",
       "      <td>8.1</td>\n",
       "      <td>2.0</td>\n",
       "      <td>19</td>\n",
       "      <td>14.0</td>\n",
       "      <td>820.0</td>\n",
       "      <td>16.0</td>\n",
       "      <td>7.3</td>\n",
       "      <td>2.191781</td>\n",
       "      <td>6.173339e+10</td>\n",
       "      <td>11.651238</td>\n",
       "      <td>17.100310</td>\n",
       "    </tr>\n",
       "    <tr>\n",
       "      <th>2</th>\n",
       "      <td>389008.2</td>\n",
       "      <td>6166086.7</td>\n",
       "      <td>8.1</td>\n",
       "      <td>3.4</td>\n",
       "      <td>14</td>\n",
       "      <td>11.0</td>\n",
       "      <td>370.0</td>\n",
       "      <td>10.0</td>\n",
       "      <td>7.3</td>\n",
       "      <td>1.369863</td>\n",
       "      <td>6.169339e+10</td>\n",
       "      <td>10.049073</td>\n",
       "      <td>16.951799</td>\n",
       "    </tr>\n",
       "    <tr>\n",
       "      <th>3</th>\n",
       "      <td>389113.6</td>\n",
       "      <td>6170344.7</td>\n",
       "      <td>7.1</td>\n",
       "      <td>1.9</td>\n",
       "      <td>24</td>\n",
       "      <td>6.8</td>\n",
       "      <td>290.0</td>\n",
       "      <td>14.0</td>\n",
       "      <td>8.2</td>\n",
       "      <td>1.707317</td>\n",
       "      <td>6.173339e+10</td>\n",
       "      <td>11.986580</td>\n",
       "      <td>16.159382</td>\n",
       "    </tr>\n",
       "    <tr>\n",
       "      <th>4</th>\n",
       "      <td>389190.4</td>\n",
       "      <td>6170529.5</td>\n",
       "      <td>6.8</td>\n",
       "      <td>2.0</td>\n",
       "      <td>17</td>\n",
       "      <td>2.2</td>\n",
       "      <td>210.0</td>\n",
       "      <td>9.0</td>\n",
       "      <td>5.9</td>\n",
       "      <td>1.525424</td>\n",
       "      <td>6.173339e+10</td>\n",
       "      <td>12.449310</td>\n",
       "      <td>16.060477</td>\n",
       "    </tr>\n",
       "  </tbody>\n",
       "</table>\n",
       "</div>"
      ],
      "text/plain": [
       "    coord_x    coord_y  s_ph  s_hum100 s_clay100  s_phosphorus  s_calcium  \\\n",
       "0  388937.7  6170516.6   6.7       2.2        15          10.0      210.0   \n",
       "1  388979.3  6170716.0   8.1       2.0        19          14.0      820.0   \n",
       "2  389008.2  6166086.7   8.1       3.4        14          11.0      370.0   \n",
       "3  389113.6  6170344.7   7.1       1.9        24           6.8      290.0   \n",
       "4  389190.4  6170529.5   6.8       2.0        17           2.2      210.0   \n",
       "\n",
       "    s_k  s_mg    s_K/Mg     h_blockid  h_harvest  h_water_percentage  \n",
       "0   7.9   4.4  1.795455  6.173339e+10  11.142008           16.148566  \n",
       "1  16.0   7.3  2.191781  6.173339e+10  11.651238           17.100310  \n",
       "2  10.0   7.3  1.369863  6.169339e+10  10.049073           16.951799  \n",
       "3  14.0   8.2  1.707317  6.173339e+10  11.986580           16.159382  \n",
       "4   9.0   5.9  1.525424  6.173339e+10  12.449310           16.060477  "
      ]
     },
     "execution_count": 44,
     "metadata": {},
     "output_type": "execute_result"
    }
   ],
   "source": [
    "spatialvecdf.head()"
   ]
  },
  {
   "cell_type": "markdown",
   "metadata": {},
   "source": [
    "## Now putting together the full spatial and temporal inputvector"
   ]
  },
  {
   "cell_type": "markdown",
   "metadata": {},
   "source": [
    "Now include the weather data which is constant in space - for both soil and harvest for all cordinates above!\n",
    "\n",
    "Weather changes in time. Soil and Harvest change in space \n",
    "\n",
    "28 weeks of time data.   6 coordinates in space for this field. Total: 28*6=168 input vectors!"
   ]
  },
  {
   "cell_type": "code",
   "execution_count": 45,
   "metadata": {},
   "outputs": [
    {
     "name": "stderr",
     "output_type": "stream",
     "text": [
      "100% 3/3 [00:03<00:00,  1.01s/it]\n"
     ]
    }
   ],
   "source": [
    "inputvectordf = pd.DataFrame(columns=list(timevecdf.keys())+list(spatialvecdf.keys()))\n",
    "for tim in tqdm(range(len(timevecdf))):       # loops through all time points in time input df (weather)\n",
    "    timrowdf = timevecdf.iloc[tim,:]                # Takes a single row from time dataframe\n",
    "    for sp in range(len(spatialvecdf)): # loops through all space points in spatial input df (soil, harvest)\n",
    "        sprowdf = spatialvecdf.iloc[sp,:]          # Takes a single row from space dataframe\n",
    "        tempvectordf= pd.concat([timrowdf, sprowdf])  # creates new row in total input vector by combinoing above\n",
    "        inputvectordf = inputvectordf.append(tempvectordf, ignore_index=True)"
   ]
  },
  {
   "cell_type": "code",
   "execution_count": 46,
   "metadata": {},
   "outputs": [
    {
     "name": "stdout",
     "output_type": "stream",
     "text": [
      "There are in the end  24  fields left used in this analysis\n"
     ]
    }
   ],
   "source": [
    "print(\"There are in the end \", len(inputvectordf[\"h_blockid\"].unique()), \" fields left used in this analysis\")"
   ]
  },
  {
   "cell_type": "markdown",
   "metadata": {},
   "source": [
    "Input vector is now created above. \n",
    "\n",
    "We now clean it up (i.e. remove a few uninteresting columns for the learning)\n",
    "Then we will start predicting harvest based on the remaining data"
   ]
  },
  {
   "cell_type": "markdown",
   "metadata": {},
   "source": [
    "# Clearning up the input vector"
   ]
  },
  {
   "cell_type": "code",
   "execution_count": 47,
   "metadata": {},
   "outputs": [
    {
     "name": "stdout",
     "output_type": "stream",
     "text": [
      "in the final input vector there are a total of  24 different fields\n"
     ]
    }
   ],
   "source": [
    "print(\"in the final input vector there are a total of \", len(inputvectordf[\"h_blockid\"].unique()), \"different fields\")"
   ]
  },
  {
   "cell_type": "code",
   "execution_count": 48,
   "metadata": {},
   "outputs": [],
   "source": [
    "invecdf = inputvectordf.drop(columns=[\"h_blockid\",\"coord_y\",\"coord_x\",\"w_year\",\"w_time\"])\n"
   ]
  },
  {
   "cell_type": "code",
   "execution_count": 49,
   "metadata": {},
   "outputs": [],
   "source": [
    "# Make a column numeric - somehow it was not\n",
    "#invecdf[\"clay_percentage\"] = pd.to_numeric(invecdf[\"clay_percentage\"])"
   ]
  },
  {
   "cell_type": "code",
   "execution_count": 50,
   "metadata": {},
   "outputs": [],
   "source": [
    "# remove also these columns\n",
    "#invecdf[\"class_k\"] = pd.to_numeric(invecdf[\"class_k\"])\n",
    "#invecdf[\"class_p\"] = pd.to_numeric(invecdf[\"class_p\"])\n",
    "invecdf[\"s_clay100\"] = pd.to_numeric(invecdf[\"s_clay100\"])"
   ]
  },
  {
   "cell_type": "code",
   "execution_count": 51,
   "metadata": {},
   "outputs": [
    {
     "data": {
      "text/plain": [
       "array([15, 19, 14, 24, 17,  8, 12, 18, 23,  5, 10, 22, 16, 31,  6, 36, 13,\n",
       "       30, 40, 35, 29, 26, 27, 34, 20, 28, 37, 39, 32, 38, 25, 33, 21,  9,\n",
       "       11])"
      ]
     },
     "execution_count": 51,
     "metadata": {},
     "output_type": "execute_result"
    }
   ],
   "source": [
    "invecdf.s_clay100.unique()"
   ]
  },
  {
   "cell_type": "code",
   "execution_count": 52,
   "metadata": {},
   "outputs": [
    {
     "data": {
      "text/html": [
       "<div>\n",
       "<style scoped>\n",
       "    .dataframe tbody tr th:only-of-type {\n",
       "        vertical-align: middle;\n",
       "    }\n",
       "\n",
       "    .dataframe tbody tr th {\n",
       "        vertical-align: top;\n",
       "    }\n",
       "\n",
       "    .dataframe thead th {\n",
       "        text-align: right;\n",
       "    }\n",
       "</style>\n",
       "<table border=\"1\" class=\"dataframe\">\n",
       "  <thead>\n",
       "    <tr style=\"text-align: right;\">\n",
       "      <th></th>\n",
       "      <th>w_precipitation</th>\n",
       "      <th>s_ph</th>\n",
       "      <th>s_hum100</th>\n",
       "      <th>s_clay100</th>\n",
       "      <th>s_phosphorus</th>\n",
       "      <th>s_calcium</th>\n",
       "      <th>s_k</th>\n",
       "      <th>s_mg</th>\n",
       "      <th>s_K/Mg</th>\n",
       "      <th>h_harvest</th>\n",
       "      <th>h_water_percentage</th>\n",
       "    </tr>\n",
       "  </thead>\n",
       "  <tbody>\n",
       "    <tr>\n",
       "      <th>0</th>\n",
       "      <td>2.160714</td>\n",
       "      <td>6.7</td>\n",
       "      <td>2.2</td>\n",
       "      <td>15</td>\n",
       "      <td>10.0</td>\n",
       "      <td>210.0</td>\n",
       "      <td>7.9</td>\n",
       "      <td>4.4</td>\n",
       "      <td>1.795455</td>\n",
       "      <td>11.142008</td>\n",
       "      <td>16.148566</td>\n",
       "    </tr>\n",
       "    <tr>\n",
       "      <th>1</th>\n",
       "      <td>2.160714</td>\n",
       "      <td>8.1</td>\n",
       "      <td>2.0</td>\n",
       "      <td>19</td>\n",
       "      <td>14.0</td>\n",
       "      <td>820.0</td>\n",
       "      <td>16.0</td>\n",
       "      <td>7.3</td>\n",
       "      <td>2.191781</td>\n",
       "      <td>11.651238</td>\n",
       "      <td>17.100310</td>\n",
       "    </tr>\n",
       "    <tr>\n",
       "      <th>2</th>\n",
       "      <td>2.160714</td>\n",
       "      <td>8.1</td>\n",
       "      <td>3.4</td>\n",
       "      <td>14</td>\n",
       "      <td>11.0</td>\n",
       "      <td>370.0</td>\n",
       "      <td>10.0</td>\n",
       "      <td>7.3</td>\n",
       "      <td>1.369863</td>\n",
       "      <td>10.049073</td>\n",
       "      <td>16.951799</td>\n",
       "    </tr>\n",
       "    <tr>\n",
       "      <th>3</th>\n",
       "      <td>2.160714</td>\n",
       "      <td>7.1</td>\n",
       "      <td>1.9</td>\n",
       "      <td>24</td>\n",
       "      <td>6.8</td>\n",
       "      <td>290.0</td>\n",
       "      <td>14.0</td>\n",
       "      <td>8.2</td>\n",
       "      <td>1.707317</td>\n",
       "      <td>11.986580</td>\n",
       "      <td>16.159382</td>\n",
       "    </tr>\n",
       "    <tr>\n",
       "      <th>4</th>\n",
       "      <td>2.160714</td>\n",
       "      <td>6.8</td>\n",
       "      <td>2.0</td>\n",
       "      <td>17</td>\n",
       "      <td>2.2</td>\n",
       "      <td>210.0</td>\n",
       "      <td>9.0</td>\n",
       "      <td>5.9</td>\n",
       "      <td>1.525424</td>\n",
       "      <td>12.449310</td>\n",
       "      <td>16.060477</td>\n",
       "    </tr>\n",
       "  </tbody>\n",
       "</table>\n",
       "</div>"
      ],
      "text/plain": [
       "   w_precipitation  s_ph  s_hum100  s_clay100  s_phosphorus  s_calcium   s_k  \\\n",
       "0         2.160714   6.7       2.2         15          10.0      210.0   7.9   \n",
       "1         2.160714   8.1       2.0         19          14.0      820.0  16.0   \n",
       "2         2.160714   8.1       3.4         14          11.0      370.0  10.0   \n",
       "3         2.160714   7.1       1.9         24           6.8      290.0  14.0   \n",
       "4         2.160714   6.8       2.0         17           2.2      210.0   9.0   \n",
       "\n",
       "   s_mg    s_K/Mg  h_harvest  h_water_percentage  \n",
       "0   4.4  1.795455  11.142008           16.148566  \n",
       "1   7.3  2.191781  11.651238           17.100310  \n",
       "2   7.3  1.369863  10.049073           16.951799  \n",
       "3   8.2  1.707317  11.986580           16.159382  \n",
       "4   5.9  1.525424  12.449310           16.060477  "
      ]
     },
     "execution_count": 52,
     "metadata": {},
     "output_type": "execute_result"
    }
   ],
   "source": [
    "invecdf.head()"
   ]
  },
  {
   "cell_type": "code",
   "execution_count": 53,
   "metadata": {},
   "outputs": [
    {
     "data": {
      "text/plain": [
       "array([11.1420082 , 11.65123839, 10.04907306, 11.98657957, 12.44930991,\n",
       "       12.17283654, 12.66469907, 12.51276596, 13.13760479, 11.6119697 ,\n",
       "       11.93474576, 12.25888889, 12.07763636, 11.15750529, 11.34917492,\n",
       "       12.13575921,  9.47464286, 10.84736025, 11.25175527, 11.81990847,\n",
       "       12.75020704, 10.74670659, 10.57309487, 11.36875   , 12.08798544,\n",
       "       11.488     , 11.81433962, 10.83117241, 10.61739788, 10.48245614,\n",
       "       11.20214918, 11.98898305,  7.96320658,  3.64444444,  9.55560272,\n",
       "        9.9617613 , 12.33841388, 11.93262332, 10.5434903 , 10.90901099,\n",
       "       10.70750577,  9.2443128 ,  5.04375   , 10.33732342, 10.37287523,\n",
       "       10.50067265,  9.71723701, 12.65460751, 11.0674538 , 12.96997636,\n",
       "       10.06490166, 11.69887781, 12.13500612, 10.45530237, 11.21759657,\n",
       "        9.84378613, 10.35641736, 10.21782178, 10.4811086 , 10.11890359,\n",
       "       13.58335171, 12.45283474, 10.71223471, 12.19398315, 10.62024242,\n",
       "        6.67894737, 11.77364954, 10.33034483,  9.98203498, 10.30426696,\n",
       "       10.93077803, 10.47584388, 10.7233677 , 10.79856046, 12.20501166,\n",
       "       11.40063532, 11.07572327, 10.89380841, 10.04932331,  9.69457364,\n",
       "       10.60405616, 10.75884244, 11.72585513,  9.16606452, 11.56862302,\n",
       "        9.58680203, 12.05867861, 11.13719807, 11.4251269 , 12.00739935,\n",
       "       12.06336375, 11.65185615, 11.35454545, 10.50123967, 11.12272727,\n",
       "        8.92915531, 11.56965812,  9.28522551, 10.74160689, 11.04242424,\n",
       "       11.08052885,  9.96502133,  6.84656341, 11.2       ,  7.69512535,\n",
       "        7.567889  ,  7.19545455,  3.35277778,  9.32407407,  9.69090909,\n",
       "       10.22307692,  7.3959276 ,  8.95164474,  8.70578512,  9.24380531,\n",
       "        7.91899736,  7.83204301,  9.69353349,  6.58816327,  8.16384365,\n",
       "        8.46894118, 10.74199475, 10.7347561 ,  8.56847291,  7.76222222,\n",
       "        8.68394495,  9.57230769])"
      ]
     },
     "execution_count": 53,
     "metadata": {},
     "output_type": "execute_result"
    }
   ],
   "source": [
    "invecdf[\"h_harvest\"].unique() # should not include 0 or NaN anymore!"
   ]
  },
  {
   "cell_type": "markdown",
   "metadata": {},
   "source": [
    "# The input vector is ready - let's start predicting Harvest now"
   ]
  },
  {
   "cell_type": "markdown",
   "metadata": {},
   "source": [
    "#### First import libraries for decision tree models"
   ]
  },
  {
   "cell_type": "code",
   "execution_count": 54,
   "metadata": {},
   "outputs": [
    {
     "name": "stdout",
     "output_type": "stream",
     "text": [
      "Requirement already satisfied: xgboost in /usr/local/lib/python3.8/dist-packages (1.1.1)\n",
      "Requirement already satisfied: scipy in /usr/local/lib/python3.8/dist-packages (from xgboost) (1.5.4)\n",
      "Requirement already satisfied: numpy in /usr/local/lib/python3.8/dist-packages (from xgboost) (1.19.1)\n",
      "Requirement already satisfied: lightgbm in /usr/local/lib/python3.8/dist-packages (2.3.1)\n",
      "Requirement already satisfied: numpy in /usr/local/lib/python3.8/dist-packages (from lightgbm) (1.19.1)\n",
      "Requirement already satisfied: scikit-learn in /usr/local/lib/python3.8/dist-packages (from lightgbm) (0.23.1)\n",
      "Requirement already satisfied: scipy in /usr/local/lib/python3.8/dist-packages (from lightgbm) (1.5.4)\n",
      "Requirement already satisfied: threadpoolctl>=2.0.0 in /usr/local/lib/python3.8/dist-packages (from scikit-learn->lightgbm) (2.2.0)\n",
      "Requirement already satisfied: joblib>=0.11 in /usr/local/lib/python3.8/dist-packages (from scikit-learn->lightgbm) (1.0.0)\n",
      "Requirement already satisfied: pyforest in /usr/local/lib/python3.8/dist-packages (1.1.0)\n",
      "Requirement already satisfied: lazypredict in /usr/local/lib/python3.8/dist-packages (0.2.9)\n",
      "Requirement already satisfied: scikit-learn==0.23.1 in /usr/local/lib/python3.8/dist-packages (from lazypredict) (0.23.1)\n",
      "Requirement already satisfied: numpy==1.19.1 in /usr/local/lib/python3.8/dist-packages (from lazypredict) (1.19.1)\n",
      "Requirement already satisfied: lightgbm==2.3.1 in /usr/local/lib/python3.8/dist-packages (from lazypredict) (2.3.1)\n",
      "Requirement already satisfied: six==1.15.0 in /usr/local/lib/python3.8/dist-packages (from lazypredict) (1.15.0)\n",
      "Requirement already satisfied: pandas==1.0.5 in /usr/local/lib/python3.8/dist-packages (from lazypredict) (1.0.5)\n",
      "Requirement already satisfied: click==7.1.2 in /usr/local/lib/python3.8/dist-packages (from lazypredict) (7.1.2)\n",
      "Requirement already satisfied: pytest==5.4.3 in /usr/local/lib/python3.8/dist-packages (from lazypredict) (5.4.3)\n",
      "Requirement already satisfied: scipy==1.5.4 in /usr/local/lib/python3.8/dist-packages (from lazypredict) (1.5.4)\n",
      "Requirement already satisfied: PyYAML==5.3.1 in /usr/local/lib/python3.8/dist-packages (from lazypredict) (5.3.1)\n",
      "Requirement already satisfied: xgboost==1.1.1 in /usr/local/lib/python3.8/dist-packages (from lazypredict) (1.1.1)\n",
      "Requirement already satisfied: tqdm==4.56.0 in /usr/local/lib/python3.8/dist-packages (from lazypredict) (4.56.0)\n",
      "Requirement already satisfied: joblib==1.0.0 in /usr/local/lib/python3.8/dist-packages (from lazypredict) (1.0.0)\n",
      "Requirement already satisfied: threadpoolctl>=2.0.0 in /usr/local/lib/python3.8/dist-packages (from scikit-learn==0.23.1->lazypredict) (2.2.0)\n",
      "Requirement already satisfied: python-dateutil>=2.6.1 in /usr/local/lib/python3.8/dist-packages (from pandas==1.0.5->lazypredict) (2.8.2)\n",
      "Requirement already satisfied: pytz>=2017.2 in /usr/local/lib/python3.8/dist-packages (from pandas==1.0.5->lazypredict) (2021.1)\n",
      "Requirement already satisfied: more-itertools>=4.0.0 in /usr/local/lib/python3.8/dist-packages (from pytest==5.4.3->lazypredict) (8.8.0)\n",
      "Requirement already satisfied: wcwidth in /usr/local/lib/python3.8/dist-packages (from pytest==5.4.3->lazypredict) (0.2.5)\n",
      "Requirement already satisfied: py>=1.5.0 in /usr/local/lib/python3.8/dist-packages (from pytest==5.4.3->lazypredict) (1.10.0)\n",
      "Requirement already satisfied: attrs>=17.4.0 in /usr/local/lib/python3.8/dist-packages (from pytest==5.4.3->lazypredict) (21.2.0)\n",
      "Requirement already satisfied: packaging in /usr/local/lib/python3.8/dist-packages (from pytest==5.4.3->lazypredict) (21.0)\n",
      "Requirement already satisfied: pluggy<1.0,>=0.12 in /usr/local/lib/python3.8/dist-packages (from pytest==5.4.3->lazypredict) (0.13.1)\n",
      "Requirement already satisfied: pyparsing>=2.0.2 in /usr/local/lib/python3.8/dist-packages (from packaging->pytest==5.4.3->lazypredict) (2.4.7)\n"
     ]
    }
   ],
   "source": [
    "!{sys.executable} -m pip install xgboost\n",
    "!{sys.executable} -m pip install lightgbm\n",
    "!{sys.executable} -m pip install pyforest\n",
    "!{sys.executable} -m pip install lazypredict\n"
   ]
  },
  {
   "cell_type": "code",
   "execution_count": 55,
   "metadata": {},
   "outputs": [],
   "source": [
    "# All the import functions in imports.ipynb\n",
    "from ipynb.fs.full.impdt import *\n",
    "\n",
    "%run -i impdt.ipynb"
   ]
  },
  {
   "cell_type": "code",
   "execution_count": 56,
   "metadata": {},
   "outputs": [],
   "source": [
    "# Remove water percentage column as well. Only predict harvest column\n",
    "invecdf = invecdf.drop(columns=[\"h_water_percentage\"])"
   ]
  },
  {
   "cell_type": "code",
   "execution_count": 57,
   "metadata": {},
   "outputs": [],
   "source": [
    "nnfielddfNC = invecdf.copy() # just change name to something else"
   ]
  },
  {
   "cell_type": "code",
   "execution_count": 58,
   "metadata": {},
   "outputs": [
    {
     "data": {
      "text/html": [
       "<div>\n",
       "<style scoped>\n",
       "    .dataframe tbody tr th:only-of-type {\n",
       "        vertical-align: middle;\n",
       "    }\n",
       "\n",
       "    .dataframe tbody tr th {\n",
       "        vertical-align: top;\n",
       "    }\n",
       "\n",
       "    .dataframe thead th {\n",
       "        text-align: right;\n",
       "    }\n",
       "</style>\n",
       "<table border=\"1\" class=\"dataframe\">\n",
       "  <thead>\n",
       "    <tr style=\"text-align: right;\">\n",
       "      <th></th>\n",
       "      <th>w_precipitation</th>\n",
       "      <th>s_ph</th>\n",
       "      <th>s_hum100</th>\n",
       "      <th>s_clay100</th>\n",
       "      <th>s_phosphorus</th>\n",
       "      <th>s_calcium</th>\n",
       "      <th>s_k</th>\n",
       "      <th>s_mg</th>\n",
       "      <th>s_K/Mg</th>\n",
       "      <th>h_harvest</th>\n",
       "    </tr>\n",
       "  </thead>\n",
       "  <tbody>\n",
       "    <tr>\n",
       "      <th>0</th>\n",
       "      <td>2.16</td>\n",
       "      <td>6.70</td>\n",
       "      <td>2.20</td>\n",
       "      <td>15</td>\n",
       "      <td>10.00</td>\n",
       "      <td>210.00</td>\n",
       "      <td>7.90</td>\n",
       "      <td>4.40</td>\n",
       "      <td>1.80</td>\n",
       "      <td>11.14</td>\n",
       "    </tr>\n",
       "    <tr>\n",
       "      <th>1</th>\n",
       "      <td>2.16</td>\n",
       "      <td>8.10</td>\n",
       "      <td>2.00</td>\n",
       "      <td>19</td>\n",
       "      <td>14.00</td>\n",
       "      <td>820.00</td>\n",
       "      <td>16.00</td>\n",
       "      <td>7.30</td>\n",
       "      <td>2.19</td>\n",
       "      <td>11.65</td>\n",
       "    </tr>\n",
       "    <tr>\n",
       "      <th>2</th>\n",
       "      <td>2.16</td>\n",
       "      <td>8.10</td>\n",
       "      <td>3.40</td>\n",
       "      <td>14</td>\n",
       "      <td>11.00</td>\n",
       "      <td>370.00</td>\n",
       "      <td>10.00</td>\n",
       "      <td>7.30</td>\n",
       "      <td>1.37</td>\n",
       "      <td>10.05</td>\n",
       "    </tr>\n",
       "    <tr>\n",
       "      <th>3</th>\n",
       "      <td>2.16</td>\n",
       "      <td>7.10</td>\n",
       "      <td>1.90</td>\n",
       "      <td>24</td>\n",
       "      <td>6.80</td>\n",
       "      <td>290.00</td>\n",
       "      <td>14.00</td>\n",
       "      <td>8.20</td>\n",
       "      <td>1.71</td>\n",
       "      <td>11.99</td>\n",
       "    </tr>\n",
       "    <tr>\n",
       "      <th>4</th>\n",
       "      <td>2.16</td>\n",
       "      <td>6.80</td>\n",
       "      <td>2.00</td>\n",
       "      <td>17</td>\n",
       "      <td>2.20</td>\n",
       "      <td>210.00</td>\n",
       "      <td>9.00</td>\n",
       "      <td>5.90</td>\n",
       "      <td>1.53</td>\n",
       "      <td>12.45</td>\n",
       "    </tr>\n",
       "    <tr>\n",
       "      <th>...</th>\n",
       "      <td>...</td>\n",
       "      <td>...</td>\n",
       "      <td>...</td>\n",
       "      <td>...</td>\n",
       "      <td>...</td>\n",
       "      <td>...</td>\n",
       "      <td>...</td>\n",
       "      <td>...</td>\n",
       "      <td>...</td>\n",
       "      <td>...</td>\n",
       "    </tr>\n",
       "    <tr>\n",
       "      <th>493</th>\n",
       "      <td>1.69</td>\n",
       "      <td>7.00</td>\n",
       "      <td>7.20</td>\n",
       "      <td>34</td>\n",
       "      <td>6.10</td>\n",
       "      <td>400.00</td>\n",
       "      <td>14.00</td>\n",
       "      <td>32.00</td>\n",
       "      <td>0.44</td>\n",
       "      <td>10.73</td>\n",
       "    </tr>\n",
       "    <tr>\n",
       "      <th>494</th>\n",
       "      <td>1.69</td>\n",
       "      <td>6.10</td>\n",
       "      <td>3.30</td>\n",
       "      <td>13</td>\n",
       "      <td>7.30</td>\n",
       "      <td>130.00</td>\n",
       "      <td>9.10</td>\n",
       "      <td>8.40</td>\n",
       "      <td>1.08</td>\n",
       "      <td>8.57</td>\n",
       "    </tr>\n",
       "    <tr>\n",
       "      <th>495</th>\n",
       "      <td>1.69</td>\n",
       "      <td>6.10</td>\n",
       "      <td>5.20</td>\n",
       "      <td>24</td>\n",
       "      <td>9.30</td>\n",
       "      <td>220.00</td>\n",
       "      <td>11.00</td>\n",
       "      <td>12.00</td>\n",
       "      <td>0.92</td>\n",
       "      <td>7.76</td>\n",
       "    </tr>\n",
       "    <tr>\n",
       "      <th>496</th>\n",
       "      <td>1.69</td>\n",
       "      <td>6.10</td>\n",
       "      <td>3.30</td>\n",
       "      <td>28</td>\n",
       "      <td>6.30</td>\n",
       "      <td>300.00</td>\n",
       "      <td>13.00</td>\n",
       "      <td>17.00</td>\n",
       "      <td>0.76</td>\n",
       "      <td>8.68</td>\n",
       "    </tr>\n",
       "    <tr>\n",
       "      <th>497</th>\n",
       "      <td>1.69</td>\n",
       "      <td>6.90</td>\n",
       "      <td>3.60</td>\n",
       "      <td>27</td>\n",
       "      <td>5.20</td>\n",
       "      <td>260.00</td>\n",
       "      <td>13.00</td>\n",
       "      <td>14.00</td>\n",
       "      <td>0.93</td>\n",
       "      <td>9.57</td>\n",
       "    </tr>\n",
       "  </tbody>\n",
       "</table>\n",
       "<p>498 rows × 10 columns</p>\n",
       "</div>"
      ],
      "text/plain": [
       "     w_precipitation  s_ph  s_hum100  s_clay100  s_phosphorus  s_calcium  \\\n",
       "0               2.16  6.70      2.20         15         10.00     210.00   \n",
       "1               2.16  8.10      2.00         19         14.00     820.00   \n",
       "2               2.16  8.10      3.40         14         11.00     370.00   \n",
       "3               2.16  7.10      1.90         24          6.80     290.00   \n",
       "4               2.16  6.80      2.00         17          2.20     210.00   \n",
       "..               ...   ...       ...        ...           ...        ...   \n",
       "493             1.69  7.00      7.20         34          6.10     400.00   \n",
       "494             1.69  6.10      3.30         13          7.30     130.00   \n",
       "495             1.69  6.10      5.20         24          9.30     220.00   \n",
       "496             1.69  6.10      3.30         28          6.30     300.00   \n",
       "497             1.69  6.90      3.60         27          5.20     260.00   \n",
       "\n",
       "      s_k  s_mg  s_K/Mg  h_harvest  \n",
       "0    7.90  4.40    1.80      11.14  \n",
       "1   16.00  7.30    2.19      11.65  \n",
       "2   10.00  7.30    1.37      10.05  \n",
       "3   14.00  8.20    1.71      11.99  \n",
       "4    9.00  5.90    1.53      12.45  \n",
       "..    ...   ...     ...        ...  \n",
       "493 14.00 32.00    0.44      10.73  \n",
       "494  9.10  8.40    1.08       8.57  \n",
       "495 11.00 12.00    0.92       7.76  \n",
       "496 13.00 17.00    0.76       8.68  \n",
       "497 13.00 14.00    0.93       9.57  \n",
       "\n",
       "[498 rows x 10 columns]"
      ]
     },
     "execution_count": 58,
     "metadata": {},
     "output_type": "execute_result"
    }
   ],
   "source": [
    "nnfielddfNC"
   ]
  },
  {
   "cell_type": "code",
   "execution_count": 59,
   "metadata": {},
   "outputs": [],
   "source": [
    "#from sklearn.metrics import mean_squared_error\n",
    "#X, y  = nnfielddfNC.drop(['harvest'],axis=1), nnfielddfNC['harvest']"
   ]
  },
  {
   "cell_type": "code",
   "execution_count": 83,
   "metadata": {},
   "outputs": [
    {
     "data": {
      "application/javascript": [
       "\n",
       "        if (window._pyforest_update_imports_cell) { window._pyforest_update_imports_cell('import xgboost as xgb\\nfrom sklearn.model_selection import KFold\\nfrom sklearn.model_selection import train_test_split'); }\n",
       "    "
      ],
      "text/plain": [
       "<IPython.core.display.Javascript object>"
      ]
     },
     "metadata": {},
     "output_type": "display_data"
    }
   ],
   "source": [
    "# Creating train test split\n",
    "X = nnfielddfNC.drop(['h_harvest'],axis=1) # train#df.drop(columns=['label'])\n",
    "y = nnfielddfNC['h_harvest'] # target#df.label\n",
    "\n",
    "        \n",
    "# Call train_test_split on the data and capture the results\n",
    "# X_train, X_test, y_train, y_test = train_test_split(X, y, random_state=None,test_size=0.25)\n",
    "X_train, X_test, y_train, y_test = train_test_split(X, y, test_size=0.25)"
   ]
  },
  {
   "cell_type": "code",
   "execution_count": 61,
   "metadata": {},
   "outputs": [
    {
     "name": "stderr",
     "output_type": "stream",
     "text": [
      "100% 42/42 [00:03<00:00, 13.76it/s]"
     ]
    },
    {
     "name": "stdout",
     "output_type": "stream",
     "text": [
      "                               Adjusted R-Squared  R-Squared  RMSE  Time Taken\n",
      "Model                                                                         \n",
      "ExtraTreesRegressor                          1.00       1.00  0.07        0.15\n",
      "DecisionTreeRegressor                        0.99       0.99  0.11        0.01\n",
      "ExtraTreeRegressor                           0.99       0.99  0.11        0.01\n",
      "XGBRegressor                                 0.97       0.98  0.24        0.12\n",
      "RandomForestRegressor                        0.95       0.95  0.33        0.25\n",
      "GradientBoostingRegressor                    0.93       0.94  0.39        0.10\n",
      "BaggingRegressor                             0.92       0.93  0.42        0.04\n",
      "LGBMRegressor                                0.89       0.90  0.49        0.21\n",
      "HistGradientBoostingRegressor                0.88       0.89  0.51        0.67\n",
      "AdaBoostRegressor                            0.62       0.65  0.92        0.13\n",
      "KNeighborsRegressor                          0.44       0.48  1.12        0.02\n",
      "NuSVR                                        0.42       0.46  1.15        0.03\n",
      "SVR                                          0.39       0.44  1.17        0.02\n",
      "LarsCV                                       0.36       0.41  1.20        0.05\n",
      "LassoLarsIC                                  0.36       0.41  1.20        0.01\n",
      "OrthogonalMatchingPursuitCV                  0.36       0.41  1.20        0.02\n",
      "SGDRegressor                                 0.36       0.41  1.20        0.01\n",
      "LassoLarsCV                                  0.36       0.41  1.20        0.03\n",
      "LassoCV                                      0.36       0.40  1.20        0.08\n",
      "ElasticNetCV                                 0.36       0.40  1.20        0.08\n",
      "BayesianRidge                                0.36       0.40  1.20        0.01\n",
      "RidgeCV                                      0.36       0.40  1.20        0.01\n",
      "Ridge                                        0.35       0.40  1.21        0.01\n",
      "TransformedTargetRegressor                   0.35       0.40  1.21        0.01\n",
      "LinearRegression                             0.35       0.40  1.21        0.01\n",
      "Lars                                         0.35       0.40  1.21        0.03\n",
      "HuberRegressor                               0.34       0.39  1.21        0.03\n",
      "PoissonRegressor                             0.34       0.39  1.22        0.02\n",
      "GeneralizedLinearRegressor                   0.21       0.27  1.33        0.02\n",
      "TweedieRegressor                             0.21       0.27  1.33        0.01\n",
      "LinearSVR                                    0.21       0.27  1.33        0.01\n",
      "GammaRegressor                               0.21       0.27  1.33        0.01\n",
      "OrthogonalMatchingPursuit                    0.16       0.22  1.37        0.01\n",
      "ElasticNet                                  -0.04       0.03  1.53        0.01\n",
      "Lasso                                       -0.08      -0.00  1.56        0.01\n",
      "DummyRegressor                              -0.08      -0.00  1.56        0.01\n",
      "LassoLars                                   -0.08      -0.00  1.56        0.01\n",
      "PassiveAggressiveRegressor                  -0.57      -0.46  1.88        0.01\n",
      "MLPRegressor                                -0.65      -0.53  1.92        0.45\n",
      "GaussianProcessRegressor                    -0.99      -0.84  2.11        0.06\n",
      "RANSACRegressor                             -2.91      -2.62  2.96        0.08\n",
      "KernelRidge                                -51.29     -47.50 10.84        0.15\n"
     ]
    },
    {
     "name": "stderr",
     "output_type": "stream",
     "text": [
      "\n"
     ]
    }
   ],
   "source": [
    "reg = LazyRegressor(ignore_warnings=False, custom_metric=None)\n",
    "models, predictions = reg.fit(X_train, X_test, y_train, y_test)\n",
    "print(models)"
   ]
  },
  {
   "cell_type": "code",
   "execution_count": 62,
   "metadata": {},
   "outputs": [],
   "source": [
    "# Histogram-based Gradient Boosting Regression Tree\n",
    "\n",
    "#hist = XGBRegressor() # See fold below for how to properly implement: i.e. change X_train y_train\n",
    "#hist = LGBMRegressor()\n",
    "#hist = HistGradientBoostingRegressor() # This worked. With 7 missclassified out of 42\n",
    "#hist = RandomForestRegressor() # This worked. With 0 missclassified out of 42\n",
    "#hist = AdaBoostRegressor()\n",
    "#hist = ExtraTreesRegressor()\n",
    "#hist = GradientBoostingRegressor()\n",
    "#hist = BaggingRegressor()\n",
    "#hist = LinearRegression()\n",
    "hist = DecisionTreeRegressor()\n",
    "\n",
    "hist.fit(X_train, y_train)\n",
    "y_pred = hist.predict(X_test)"
   ]
  },
  {
   "cell_type": "code",
   "execution_count": 63,
   "metadata": {},
   "outputs": [
    {
     "name": "stdout",
     "output_type": "stream",
     "text": [
      "R-squared: 0.9948504213963032\n",
      "Mean Squared Error: 0.1116564254487169\n"
     ]
    }
   ],
   "source": [
    "rmse(hist,y_test,y_pred,X_train,y_train)"
   ]
  },
  {
   "cell_type": "code",
   "execution_count": 64,
   "metadata": {},
   "outputs": [
    {
     "name": "stderr",
     "output_type": "stream",
     "text": [
      "100% 125/125 [00:00<00:00, 2427.10it/s]"
     ]
    },
    {
     "name": "stdout",
     "output_type": "stream",
     "text": [
      "Correct:  122 . Incorrect:  3\n",
      "missclassification rate =  0.024\n"
     ]
    },
    {
     "name": "stderr",
     "output_type": "stream",
     "text": [
      "\n"
     ]
    }
   ],
   "source": [
    "sumcorrect=0\n",
    "sumincorrect=0\n",
    "for k in tqdm(range(len(X_test))):\n",
    "    row = [X_test.iloc[k,:]]\n",
    "    trueres = y_test.iloc[k]\n",
    "    predres = hist.predict(row)\n",
    "    if abs(trueres-predres) < 0.01: #if trueres==predres:\n",
    "        sumcorrect += 1 \n",
    "    else:\n",
    "        sumincorrect += 1        \n",
    "print(\"Correct: \",sumcorrect,\". Incorrect: \",sumincorrect)\n",
    "print(\"missclassification rate = \", (sumincorrect)/(sumcorrect+sumincorrect))"
   ]
  },
  {
   "cell_type": "code",
   "execution_count": 65,
   "metadata": {},
   "outputs": [],
   "source": [
    "#row = [[4.4, 0.0, 6.6, 260,  3, 3, 7.3, 9.9, 6.5, 18, 2.3]]\n",
    "#row=[X_test.iloc[3,:]]\n",
    "#print(row)\n",
    "#hist.predict(row)"
   ]
  },
  {
   "cell_type": "code",
   "execution_count": 66,
   "metadata": {},
   "outputs": [
    {
     "data": {
      "application/javascript": [
       "\n",
       "        if (window._pyforest_update_imports_cell) { window._pyforest_update_imports_cell('from sklearn.model_selection import KFold\\nfrom sklearn.model_selection import train_test_split'); }\n",
       "    "
      ],
      "text/plain": [
       "<IPython.core.display.Javascript object>"
      ]
     },
     "metadata": {},
     "output_type": "display_data"
    }
   ],
   "source": [
    "kf = KFold(n_splits =5,shuffle=True,random_state=160)\n",
    "feats = pd.DataFrame({'features': X.columns}) \n",
    "gbm_predictions = []\n",
    "cv_score_ = 0\n",
    "oof_preds = np.zeros((nnfielddfNC.shape[0],))"
   ]
  },
  {
   "cell_type": "code",
   "execution_count": 67,
   "metadata": {},
   "outputs": [
    {
     "name": "stdout",
     "output_type": "stream",
     "text": [
      "[  0   1   2   3   4   5   6   7   8   9  10  11  12  13  14  17  18  19\n",
      "  21  22  23  24  25  26  27  28  29  30  31  32  33  35  36  39  40  41\n",
      "  42  43  44  45  47  49  50  51  53  56  57  58  59  63  64  67  68  70\n",
      "  71  72  73  74  75  76  77  78  80  81  82  83  84  85  86  87  88  89\n",
      "  90  91  92  93  94  96  98  99 103 104 105 106 107 109 110 111 112 113\n",
      " 114 115 116 117 118 120 121 122 123 124 125 126 127 129 132 133 134 135\n",
      " 136 138 139 140 142 143 144 145 146 147 148 149 150 153 154 155 157 158\n",
      " 159 160 161 162 166 167 169 170 171 172 174 175 176 177 178 179 180 182\n",
      " 184 185 187 188 189 190 191 192 193 194 196 198 199 200 201 202 203 204\n",
      " 205 206 207 208 209 210 211 213 214 215 216 218 219 220 221 222 223 224\n",
      " 225 226 227 228 229 230 231 232 233 234 235 236 237 238 239 240 241 242\n",
      " 243 244 246 247 248 249 250 251 252 254 255 256 257 258 259 261 262 264\n",
      " 266 267 268 269 270 271 273 274 276 277 278 279 280 282 284 286 287 288\n",
      " 289 290 291 292 295 296 298 299 300 301 302 303 304 306 307 308 310 311\n",
      " 312 314 315 316 317 318 321 322 323 324 325 327 328 329 330 331 333 334\n",
      " 336 337 338 339 340 341 342 343 344 345 348 349 350 351 352 353 354 357\n",
      " 359 360 361 362 363 364 365 366 367 369 370 371 372 373 374 375 376 378\n",
      " 380 381 382 383 384 385 386 388 389 390 391 392 393 394 398 399 401 403\n",
      " 404 405 406 407 409 410 411 412 413 414 415 416 418 419 420 421 424 426\n",
      " 427 428 429 430 431 434 435 436 437 438 439 440 441 442 443 446 447 448\n",
      " 449 450 451 452 453 455 456 457 458 459 460 461 462 463 464 465 466 467\n",
      " 468 471 472 473 474 475 476 477 480 481 484 485 487 489 490 491 492 493\n",
      " 494 496]\n",
      "######### FOLD 1 / 5 \n"
     ]
    },
    {
     "data": {
      "application/javascript": [
       "\n",
       "        if (window._pyforest_update_imports_cell) { window._pyforest_update_imports_cell('import xgboost as xgb\\nfrom sklearn.model_selection import KFold\\nfrom sklearn.model_selection import train_test_split'); }\n",
       "    "
      ],
      "text/plain": [
       "<IPython.core.display.Javascript object>"
      ]
     },
     "metadata": {},
     "output_type": "display_data"
    },
    {
     "name": "stdout",
     "output_type": "stream",
     "text": [
      "[0]\tvalidation_0-rmse:9.93650\n",
      "Will train until validation_0-rmse hasn't improved in 200 rounds.\n",
      "[100]\tvalidation_0-rmse:3.73468\n",
      "[200]\tvalidation_0-rmse:1.51071\n",
      "[300]\tvalidation_0-rmse:0.72321\n",
      "[400]\tvalidation_0-rmse:0.42301\n",
      "[500]\tvalidation_0-rmse:0.28475\n",
      "[600]\tvalidation_0-rmse:0.21363\n",
      "[700]\tvalidation_0-rmse:0.16560\n",
      "[800]\tvalidation_0-rmse:0.12554\n",
      "[900]\tvalidation_0-rmse:0.09321\n",
      "[1000]\tvalidation_0-rmse:0.06930\n",
      "[1100]\tvalidation_0-rmse:0.05366\n",
      "[1200]\tvalidation_0-rmse:0.04266\n",
      "[1300]\tvalidation_0-rmse:0.03408\n",
      "[1400]\tvalidation_0-rmse:0.02835\n",
      "[1500]\tvalidation_0-rmse:0.02304\n",
      "[1600]\tvalidation_0-rmse:0.01823\n",
      "[1700]\tvalidation_0-rmse:0.01425\n",
      "[1800]\tvalidation_0-rmse:0.01123\n",
      "[1900]\tvalidation_0-rmse:0.00898\n",
      "[1999]\tvalidation_0-rmse:0.00730\n",
      "[  0   1   2   3   5   6   7   8  10  12  13  14  15  16  17  19  20  22\n",
      "  25  26  27  28  29  30  31  32  33  34  35  36  37  38  39  41  43  44\n",
      "  45  46  47  48  49  51  52  53  54  55  56  58  59  60  61  62  64  65\n",
      "  66  68  69  70  71  72  73  75  77  79  81  84  86  87  88  90  91  95\n",
      "  97  98  99 100 101 102 104 105 106 107 108 109 110 111 113 114 116 118\n",
      " 119 120 121 122 123 124 125 127 128 129 130 131 132 133 134 135 136 137\n",
      " 138 139 140 141 142 144 145 146 148 149 150 151 152 153 154 156 157 158\n",
      " 159 160 161 162 163 164 165 166 167 168 169 170 171 172 173 174 175 176\n",
      " 177 180 181 183 184 185 186 187 188 189 191 192 193 194 195 196 197 198\n",
      " 200 202 204 205 208 209 210 211 212 215 216 217 218 221 222 223 226 227\n",
      " 229 230 234 235 236 237 239 240 241 242 243 245 246 248 249 250 253 254\n",
      " 255 256 258 259 260 261 262 263 265 267 269 270 271 272 273 274 275 276\n",
      " 277 278 279 280 281 282 283 284 285 286 287 289 290 291 293 294 296 297\n",
      " 298 301 302 303 305 307 308 309 310 312 313 314 315 316 318 319 320 322\n",
      " 323 324 325 326 328 329 330 332 333 334 335 336 338 339 340 342 343 344\n",
      " 345 346 347 348 349 350 351 352 353 354 355 356 358 359 360 361 362 363\n",
      " 365 367 368 370 371 372 373 374 376 377 378 379 380 381 383 384 385 386\n",
      " 387 388 390 392 393 395 396 397 398 400 401 402 405 407 408 409 412 413\n",
      " 414 415 416 417 418 419 421 422 423 424 425 426 428 431 432 433 434 435\n",
      " 436 437 439 440 441 442 443 444 445 446 447 448 449 450 451 453 454 455\n",
      " 456 457 459 460 461 463 464 465 467 468 469 470 471 472 473 474 475 476\n",
      " 477 478 479 480 481 482 483 484 485 486 487 488 489 490 492 493 494 495\n",
      " 496 497]\n",
      "######### FOLD 2 / 5 \n"
     ]
    },
    {
     "data": {
      "application/javascript": [
       "\n",
       "        if (window._pyforest_update_imports_cell) { window._pyforest_update_imports_cell('import xgboost as xgb\\nfrom sklearn.model_selection import KFold\\nfrom sklearn.model_selection import train_test_split'); }\n",
       "    "
      ],
      "text/plain": [
       "<IPython.core.display.Javascript object>"
      ]
     },
     "metadata": {},
     "output_type": "display_data"
    },
    {
     "name": "stdout",
     "output_type": "stream",
     "text": [
      "[0]\tvalidation_0-rmse:10.29059\n",
      "Will train until validation_0-rmse hasn't improved in 200 rounds.\n",
      "[100]\tvalidation_0-rmse:3.95670\n",
      "[200]\tvalidation_0-rmse:1.60380\n",
      "[300]\tvalidation_0-rmse:0.71196\n",
      "[400]\tvalidation_0-rmse:0.36349\n",
      "[500]\tvalidation_0-rmse:0.23358\n",
      "[600]\tvalidation_0-rmse:0.18046\n",
      "[700]\tvalidation_0-rmse:0.15294\n",
      "[800]\tvalidation_0-rmse:0.12341\n",
      "[900]\tvalidation_0-rmse:0.10211\n",
      "[1000]\tvalidation_0-rmse:0.08898\n",
      "[1100]\tvalidation_0-rmse:0.08080\n",
      "[1200]\tvalidation_0-rmse:0.07497\n",
      "[1300]\tvalidation_0-rmse:0.07148\n",
      "[1400]\tvalidation_0-rmse:0.06961\n",
      "[1500]\tvalidation_0-rmse:0.06859\n",
      "[1600]\tvalidation_0-rmse:0.06797\n",
      "[1700]\tvalidation_0-rmse:0.06759\n",
      "[1800]\tvalidation_0-rmse:0.06728\n",
      "[1900]\tvalidation_0-rmse:0.06704\n",
      "[1999]\tvalidation_0-rmse:0.06692\n",
      "[  1   3   4   6   7   8   9  10  11  12  13  14  15  16  18  19  20  21\n",
      "  22  23  24  26  27  28  29  31  33  34  36  37  38  39  40  41  42  44\n",
      "  45  46  48  49  50  52  53  54  55  56  57  59  60  61  62  63  65  66\n",
      "  67  68  69  70  71  72  74  75  76  77  78  79  80  82  83  84  85  86\n",
      "  87  88  89  90  91  92  93  94  95  96  97  99 100 101 102 103 104 106\n",
      " 107 108 109 111 112 113 114 115 117 118 119 121 122 123 124 125 126 127\n",
      " 128 130 131 132 134 136 137 138 139 140 141 143 144 147 148 150 151 152\n",
      " 153 154 155 156 157 159 160 162 163 164 165 168 169 170 172 173 174 175\n",
      " 177 178 179 181 182 183 186 187 188 189 190 192 193 194 195 196 197 199\n",
      " 201 203 204 205 206 207 210 211 212 213 214 216 217 219 220 221 222 223\n",
      " 224 225 226 227 228 230 231 232 233 234 235 236 237 238 239 240 241 243\n",
      " 244 245 246 247 248 249 250 251 252 253 254 257 258 259 260 261 262 263\n",
      " 264 265 266 267 268 269 271 272 273 274 275 276 279 280 281 283 284 285\n",
      " 286 287 288 289 291 292 293 294 295 296 297 299 300 302 303 304 305 306\n",
      " 307 308 309 311 312 313 314 315 316 317 318 319 320 321 322 323 324 325\n",
      " 326 327 331 332 333 334 335 336 337 340 341 344 346 347 348 350 351 355\n",
      " 356 357 358 360 363 364 366 367 368 369 370 371 374 375 376 377 378 379\n",
      " 381 382 385 386 387 389 390 391 393 394 395 396 397 398 399 400 401 402\n",
      " 403 404 405 406 407 408 409 410 411 412 413 415 416 417 418 420 422 423\n",
      " 424 425 426 427 429 430 431 432 433 435 438 442 444 445 446 447 449 450\n",
      " 451 452 453 454 455 456 457 458 460 461 462 463 464 465 466 469 470 471\n",
      " 473 474 475 476 477 478 479 481 482 483 484 486 488 489 491 492 494 495\n",
      " 496 497]\n",
      "######### FOLD 3 / 5 \n"
     ]
    },
    {
     "data": {
      "application/javascript": [
       "\n",
       "        if (window._pyforest_update_imports_cell) { window._pyforest_update_imports_cell('import xgboost as xgb\\nfrom sklearn.model_selection import KFold\\nfrom sklearn.model_selection import train_test_split'); }\n",
       "    "
      ],
      "text/plain": [
       "<IPython.core.display.Javascript object>"
      ]
     },
     "metadata": {},
     "output_type": "display_data"
    },
    {
     "name": "stdout",
     "output_type": "stream",
     "text": [
      "[0]\tvalidation_0-rmse:10.10821\n",
      "Will train until validation_0-rmse hasn't improved in 200 rounds.\n",
      "[100]\tvalidation_0-rmse:3.83828\n",
      "[200]\tvalidation_0-rmse:1.51150\n",
      "[300]\tvalidation_0-rmse:0.69123\n",
      "[400]\tvalidation_0-rmse:0.39749\n",
      "[500]\tvalidation_0-rmse:0.29291\n",
      "[600]\tvalidation_0-rmse:0.24715\n",
      "[700]\tvalidation_0-rmse:0.21656\n",
      "[800]\tvalidation_0-rmse:0.19114\n",
      "[900]\tvalidation_0-rmse:0.17600\n",
      "[1000]\tvalidation_0-rmse:0.16681\n",
      "[1100]\tvalidation_0-rmse:0.16065\n",
      "[1200]\tvalidation_0-rmse:0.15695\n",
      "[1300]\tvalidation_0-rmse:0.15544\n",
      "[1400]\tvalidation_0-rmse:0.15444\n",
      "[1500]\tvalidation_0-rmse:0.15377\n",
      "[1600]\tvalidation_0-rmse:0.15326\n",
      "[1700]\tvalidation_0-rmse:0.15293\n",
      "[1800]\tvalidation_0-rmse:0.15276\n",
      "[1900]\tvalidation_0-rmse:0.15263\n",
      "[1999]\tvalidation_0-rmse:0.15259\n",
      "[  0   1   2   4   5   6   7   9  10  11  13  14  15  16  17  18  19  20\n",
      "  21  23  24  25  30  32  34  35  36  37  38  40  42  43  45  46  47  48\n",
      "  50  51  52  54  55  57  58  59  60  61  62  63  64  65  66  67  68  69\n",
      "  70  71  72  73  74  75  76  77  78  79  80  81  82  83  84  85  87  88\n",
      "  89  90  91  92  93  94  95  96  97  98  99 100 101 102 103 105 108 110\n",
      " 112 115 116 117 118 119 120 123 126 127 128 129 130 131 133 134 135 137\n",
      " 141 142 143 144 145 146 147 149 151 152 153 154 155 156 158 159 161 163\n",
      " 164 165 166 167 168 171 172 173 175 176 177 178 179 180 181 182 183 184\n",
      " 185 186 187 189 190 191 192 195 196 197 198 199 200 201 202 203 204 206\n",
      " 207 208 209 210 212 213 214 215 216 217 218 219 220 222 224 225 227 228\n",
      " 229 230 231 232 233 235 238 239 240 241 242 244 245 247 249 251 252 253\n",
      " 255 256 257 258 259 260 262 263 264 265 266 268 270 271 272 274 275 276\n",
      " 277 278 279 280 281 282 283 285 288 290 291 292 293 294 295 297 298 299\n",
      " 300 301 304 305 306 309 310 311 313 315 316 317 318 319 320 321 322 325\n",
      " 326 327 328 329 330 331 332 334 335 336 337 338 339 340 341 342 343 345\n",
      " 346 347 348 349 351 352 353 354 355 356 357 358 359 360 361 362 364 365\n",
      " 366 367 368 369 370 372 373 375 376 377 378 379 380 381 382 383 384 385\n",
      " 386 387 388 389 391 392 394 395 396 397 399 400 401 402 403 404 406 408\n",
      " 410 411 413 414 417 418 419 420 421 422 423 424 425 427 428 429 430 431\n",
      " 432 433 434 435 436 437 438 439 440 441 442 443 444 445 447 448 449 452\n",
      " 453 454 457 458 459 460 461 462 463 464 465 466 467 468 469 470 471 472\n",
      " 473 476 477 478 479 480 481 482 483 484 485 486 487 488 489 490 491 492\n",
      " 493 495 497]\n",
      "######### FOLD 4 / 5 \n"
     ]
    },
    {
     "data": {
      "application/javascript": [
       "\n",
       "        if (window._pyforest_update_imports_cell) { window._pyforest_update_imports_cell('import xgboost as xgb\\nfrom sklearn.model_selection import KFold\\nfrom sklearn.model_selection import train_test_split'); }\n",
       "    "
      ],
      "text/plain": [
       "<IPython.core.display.Javascript object>"
      ]
     },
     "metadata": {},
     "output_type": "display_data"
    },
    {
     "name": "stdout",
     "output_type": "stream",
     "text": [
      "[0]\tvalidation_0-rmse:10.15365\n",
      "Will train until validation_0-rmse hasn't improved in 200 rounds.\n",
      "[100]\tvalidation_0-rmse:3.97697\n",
      "[200]\tvalidation_0-rmse:1.70600\n",
      "[300]\tvalidation_0-rmse:0.84786\n",
      "[400]\tvalidation_0-rmse:0.50546\n",
      "[500]\tvalidation_0-rmse:0.34116\n",
      "[600]\tvalidation_0-rmse:0.25155\n",
      "[700]\tvalidation_0-rmse:0.17800\n",
      "[800]\tvalidation_0-rmse:0.14676\n",
      "[900]\tvalidation_0-rmse:0.11923\n",
      "[1000]\tvalidation_0-rmse:0.09695\n",
      "[1100]\tvalidation_0-rmse:0.07525\n",
      "[1200]\tvalidation_0-rmse:0.06043\n",
      "[1300]\tvalidation_0-rmse:0.04884\n",
      "[1400]\tvalidation_0-rmse:0.03996\n",
      "[1500]\tvalidation_0-rmse:0.03409\n",
      "[1600]\tvalidation_0-rmse:0.03035\n",
      "[1700]\tvalidation_0-rmse:0.02877\n",
      "[1800]\tvalidation_0-rmse:0.02710\n",
      "[1900]\tvalidation_0-rmse:0.02578\n",
      "[1999]\tvalidation_0-rmse:0.02484\n",
      "[  0   2   3   4   5   8   9  11  12  15  16  17  18  20  21  22  23  24\n",
      "  25  26  27  28  29  30  31  32  33  34  35  37  38  39  40  41  42  43\n",
      "  44  46  47  48  49  50  51  52  53  54  55  56  57  58  60  61  62  63\n",
      "  64  65  66  67  69  73  74  76  78  79  80  81  82  83  85  86  89  92\n",
      "  93  94  95  96  97  98 100 101 102 103 104 105 106 107 108 109 110 111\n",
      " 112 113 114 115 116 117 119 120 121 122 124 125 126 128 129 130 131 132\n",
      " 133 135 136 137 138 139 140 141 142 143 145 146 147 148 149 150 151 152\n",
      " 155 156 157 158 160 161 162 163 164 165 166 167 168 169 170 171 173 174\n",
      " 176 178 179 180 181 182 183 184 185 186 188 190 191 193 194 195 197 198\n",
      " 199 200 201 202 203 205 206 207 208 209 211 212 213 214 215 217 218 219\n",
      " 220 221 223 224 225 226 228 229 231 232 233 234 236 237 238 242 243 244\n",
      " 245 246 247 248 250 251 252 253 254 255 256 257 260 261 263 264 265 266\n",
      " 267 268 269 270 272 273 275 277 278 281 282 283 284 285 286 287 288 289\n",
      " 290 292 293 294 295 296 297 298 299 300 301 302 303 304 305 306 307 308\n",
      " 309 310 311 312 313 314 317 319 320 321 323 324 326 327 328 329 330 331\n",
      " 332 333 335 337 338 339 341 342 343 344 345 346 347 349 350 352 353 354\n",
      " 355 356 357 358 359 361 362 363 364 365 366 368 369 371 372 373 374 375\n",
      " 377 379 380 382 383 384 387 388 389 390 391 392 393 394 395 396 397 398\n",
      " 399 400 402 403 404 405 406 407 408 409 410 411 412 414 415 416 417 419\n",
      " 420 421 422 423 425 426 427 428 429 430 432 433 434 436 437 438 439 440\n",
      " 441 443 444 445 446 448 450 451 452 454 455 456 458 459 462 466 467 468\n",
      " 469 470 472 474 475 478 479 480 482 483 485 486 487 488 490 491 493 494\n",
      " 495 496 497]\n",
      "######### FOLD 5 / 5 \n"
     ]
    },
    {
     "data": {
      "application/javascript": [
       "\n",
       "        if (window._pyforest_update_imports_cell) { window._pyforest_update_imports_cell('import xgboost as xgb\\nfrom sklearn.model_selection import KFold\\nfrom sklearn.model_selection import train_test_split'); }\n",
       "    "
      ],
      "text/plain": [
       "<IPython.core.display.Javascript object>"
      ]
     },
     "metadata": {},
     "output_type": "display_data"
    },
    {
     "name": "stdout",
     "output_type": "stream",
     "text": [
      "[0]\tvalidation_0-rmse:10.02943\n",
      "Will train until validation_0-rmse hasn't improved in 200 rounds.\n",
      "[100]\tvalidation_0-rmse:3.87010\n",
      "[200]\tvalidation_0-rmse:1.68573\n",
      "[300]\tvalidation_0-rmse:0.88319\n",
      "[400]\tvalidation_0-rmse:0.53268\n",
      "[500]\tvalidation_0-rmse:0.38133\n",
      "[600]\tvalidation_0-rmse:0.30240\n",
      "[700]\tvalidation_0-rmse:0.24702\n",
      "[800]\tvalidation_0-rmse:0.20031\n",
      "[900]\tvalidation_0-rmse:0.16661\n",
      "[1000]\tvalidation_0-rmse:0.14445\n",
      "[1100]\tvalidation_0-rmse:0.12934\n",
      "[1200]\tvalidation_0-rmse:0.12131\n",
      "[1300]\tvalidation_0-rmse:0.11494\n",
      "[1400]\tvalidation_0-rmse:0.11067\n",
      "[1500]\tvalidation_0-rmse:0.10777\n",
      "[1600]\tvalidation_0-rmse:0.10616\n",
      "[1700]\tvalidation_0-rmse:0.10522\n",
      "[1800]\tvalidation_0-rmse:0.10455\n",
      "[1900]\tvalidation_0-rmse:0.10419\n",
      "[1999]\tvalidation_0-rmse:0.10403\n",
      "CV RMSE :  0.07113442555218959\n",
      "(498,)\n"
     ]
    }
   ],
   "source": [
    "gbm_score = 0\n",
    "for i,(tr_index,test_index) in enumerate(kf.split(X,y)):\n",
    "  \n",
    "  print(tr_index)\n",
    "  print(f'######### FOLD {i+1} / {kf.n_splits} ')\n",
    "  \n",
    "  #X_train,y_train = X.iloc[tr_index,:],y[tr_index]\n",
    "  tempX = X.loc[X.index.intersection(tr_index),:]  \n",
    "  #tempX = X.reindex[tr_index,:]\n",
    "  tempy = y.loc[y.index.intersection(tr_index)] \n",
    "  X_train,y_train = tempX, tempy\n",
    "  #tips_filtered = tips_df.reindex(columns = filtered_columns).\n",
    "\n",
    "  #X_test,y_test = X.iloc[test_index,:],y[test_index]\n",
    "  tempX = X.loc[X.index.intersection(test_index),:] \n",
    "  tempy = y.loc[y.index.intersection(test_index)] \n",
    "  X_test, y_test = tempX, tempy\n",
    "  \n",
    "  #gbm = xgb.ExtraTreesRegressor(eval_metric = 'rmse',n_estimators = 2000,learning_rate = 0.01,seed=162,random_state = 162,colsample_bytree=0.65)\n",
    "  gbm = xgb.XGBRegressor(eval_metric = 'rmse',n_estimators = 2000,learning_rate = 0.01,seed=162,random_state = 162,colsample_bytree=0.65)\n",
    "  #gbm = xgb.LGBMRegressor(eval_metric = 'rmse',n_estimators = 2000,learning_rate = 0.01,seed=162,random_state = 162,colsample_bytree=0.65)\n",
    "\n",
    "  #lgb.LGBMClassifier\n",
    "  gbm.fit(X_train,y_train,eval_set = [(X_test, y_test)],early_stopping_rounds  = 200,verbose=100)\n",
    "  gbm_score += gbm.score(X_test, y_test)/ kf.n_splits\n",
    "  cv_score_ += mean_squared_error(y_test, gbm.predict(X_test), squared=False) / kf.n_splits\n",
    "  oof_preds[test_index] = gbm.predict(X_test)\n",
    "  \n",
    "  preds = gbm.predict(nnfielddfNC[X_train.columns])\n",
    "  gbm_predictions.append(preds)\n",
    "\n",
    "  feats[f'Fold {i}'] = gbm.feature_importances_\n",
    "feats['Importances'] = feats.mean(axis=1)\n",
    "print('CV RMSE : ', cv_score_)\n",
    "preds_xgb = np.average(gbm_predictions, axis=0)\n",
    "print(preds_xgb.shape)"
   ]
  },
  {
   "cell_type": "code",
   "execution_count": 68,
   "metadata": {},
   "outputs": [
    {
     "name": "stdout",
     "output_type": "stream",
     "text": [
      " CV RMSE :  0.07113442555218959\n",
      "(498,)\n"
     ]
    }
   ],
   "source": [
    "feats['Importances'] = feats.mean(axis=1)\n",
    "print( ' CV RMSE : ',cv_score_)\n",
    "preds_xgb = np.average(gbm_predictions, axis=0)\n",
    "print(preds_xgb.shape)"
   ]
  },
  {
   "cell_type": "code",
   "execution_count": 69,
   "metadata": {},
   "outputs": [
    {
     "name": "stdout",
     "output_type": "stream",
     "text": [
      "Accuracy is : 0.9964571038738055\n"
     ]
    }
   ],
   "source": [
    "print(\"Accuracy is :\", gbm_score)"
   ]
  },
  {
   "cell_type": "code",
   "execution_count": 70,
   "metadata": {},
   "outputs": [
    {
     "data": {
      "text/html": [
       "<div>\n",
       "<style scoped>\n",
       "    .dataframe tbody tr th:only-of-type {\n",
       "        vertical-align: middle;\n",
       "    }\n",
       "\n",
       "    .dataframe tbody tr th {\n",
       "        vertical-align: top;\n",
       "    }\n",
       "\n",
       "    .dataframe thead th {\n",
       "        text-align: right;\n",
       "    }\n",
       "</style>\n",
       "<table border=\"1\" class=\"dataframe\">\n",
       "  <thead>\n",
       "    <tr style=\"text-align: right;\">\n",
       "      <th></th>\n",
       "      <th>features</th>\n",
       "      <th>Fold 0</th>\n",
       "      <th>Fold 1</th>\n",
       "      <th>Fold 2</th>\n",
       "      <th>Fold 3</th>\n",
       "      <th>Fold 4</th>\n",
       "      <th>Importances</th>\n",
       "    </tr>\n",
       "  </thead>\n",
       "  <tbody>\n",
       "    <tr>\n",
       "      <th>0</th>\n",
       "      <td>w_precipitation</td>\n",
       "      <td>0.00</td>\n",
       "      <td>0.00</td>\n",
       "      <td>0.00</td>\n",
       "      <td>0.00</td>\n",
       "      <td>0.01</td>\n",
       "      <td>0.00</td>\n",
       "    </tr>\n",
       "    <tr>\n",
       "      <th>1</th>\n",
       "      <td>s_ph</td>\n",
       "      <td>0.18</td>\n",
       "      <td>0.23</td>\n",
       "      <td>0.21</td>\n",
       "      <td>0.19</td>\n",
       "      <td>0.24</td>\n",
       "      <td>0.21</td>\n",
       "    </tr>\n",
       "    <tr>\n",
       "      <th>2</th>\n",
       "      <td>s_hum100</td>\n",
       "      <td>0.11</td>\n",
       "      <td>0.11</td>\n",
       "      <td>0.10</td>\n",
       "      <td>0.11</td>\n",
       "      <td>0.10</td>\n",
       "      <td>0.10</td>\n",
       "    </tr>\n",
       "    <tr>\n",
       "      <th>3</th>\n",
       "      <td>s_clay100</td>\n",
       "      <td>0.07</td>\n",
       "      <td>0.06</td>\n",
       "      <td>0.07</td>\n",
       "      <td>0.09</td>\n",
       "      <td>0.06</td>\n",
       "      <td>0.07</td>\n",
       "    </tr>\n",
       "    <tr>\n",
       "      <th>4</th>\n",
       "      <td>s_phosphorus</td>\n",
       "      <td>0.09</td>\n",
       "      <td>0.06</td>\n",
       "      <td>0.07</td>\n",
       "      <td>0.09</td>\n",
       "      <td>0.07</td>\n",
       "      <td>0.08</td>\n",
       "    </tr>\n",
       "    <tr>\n",
       "      <th>5</th>\n",
       "      <td>s_calcium</td>\n",
       "      <td>0.13</td>\n",
       "      <td>0.16</td>\n",
       "      <td>0.18</td>\n",
       "      <td>0.16</td>\n",
       "      <td>0.16</td>\n",
       "      <td>0.16</td>\n",
       "    </tr>\n",
       "    <tr>\n",
       "      <th>6</th>\n",
       "      <td>s_k</td>\n",
       "      <td>0.11</td>\n",
       "      <td>0.08</td>\n",
       "      <td>0.09</td>\n",
       "      <td>0.13</td>\n",
       "      <td>0.11</td>\n",
       "      <td>0.10</td>\n",
       "    </tr>\n",
       "    <tr>\n",
       "      <th>7</th>\n",
       "      <td>s_mg</td>\n",
       "      <td>0.19</td>\n",
       "      <td>0.15</td>\n",
       "      <td>0.14</td>\n",
       "      <td>0.13</td>\n",
       "      <td>0.14</td>\n",
       "      <td>0.15</td>\n",
       "    </tr>\n",
       "    <tr>\n",
       "      <th>8</th>\n",
       "      <td>s_K/Mg</td>\n",
       "      <td>0.12</td>\n",
       "      <td>0.15</td>\n",
       "      <td>0.14</td>\n",
       "      <td>0.11</td>\n",
       "      <td>0.10</td>\n",
       "      <td>0.13</td>\n",
       "    </tr>\n",
       "  </tbody>\n",
       "</table>\n",
       "</div>"
      ],
      "text/plain": [
       "          features  Fold 0  Fold 1  Fold 2  Fold 3  Fold 4  Importances\n",
       "0  w_precipitation    0.00    0.00    0.00    0.00    0.01         0.00\n",
       "1             s_ph    0.18    0.23    0.21    0.19    0.24         0.21\n",
       "2         s_hum100    0.11    0.11    0.10    0.11    0.10         0.10\n",
       "3        s_clay100    0.07    0.06    0.07    0.09    0.06         0.07\n",
       "4     s_phosphorus    0.09    0.06    0.07    0.09    0.07         0.08\n",
       "5        s_calcium    0.13    0.16    0.18    0.16    0.16         0.16\n",
       "6              s_k    0.11    0.08    0.09    0.13    0.11         0.10\n",
       "7             s_mg    0.19    0.15    0.14    0.13    0.14         0.15\n",
       "8           s_K/Mg    0.12    0.15    0.14    0.11    0.10         0.13"
      ]
     },
     "execution_count": 70,
     "metadata": {},
     "output_type": "execute_result"
    }
   ],
   "source": [
    "feats"
   ]
  },
  {
   "cell_type": "code",
   "execution_count": 126,
   "metadata": {},
   "outputs": [],
   "source": [
    "# Create dictionary from feats\n",
    "\n",
    "res = dict(zip(feats[\"features\"], feats[\"Importances\"]))"
   ]
  },
  {
   "cell_type": "code",
   "execution_count": 131,
   "metadata": {},
   "outputs": [
    {
     "data": {
      "text/plain": [
       "0.1015666201710701"
      ]
     },
     "execution_count": 131,
     "metadata": {},
     "output_type": "execute_result"
    }
   ],
   "source": [
    "# Testing\n",
    "res[\"s_k\"]"
   ]
  },
  {
   "cell_type": "code",
   "execution_count": 71,
   "metadata": {},
   "outputs": [
    {
     "data": {
      "text/html": [
       "<div>\n",
       "<style scoped>\n",
       "    .dataframe tbody tr th:only-of-type {\n",
       "        vertical-align: middle;\n",
       "    }\n",
       "\n",
       "    .dataframe tbody tr th {\n",
       "        vertical-align: top;\n",
       "    }\n",
       "\n",
       "    .dataframe thead th {\n",
       "        text-align: right;\n",
       "    }\n",
       "</style>\n",
       "<table border=\"1\" class=\"dataframe\">\n",
       "  <thead>\n",
       "    <tr style=\"text-align: right;\">\n",
       "      <th></th>\n",
       "      <th>features</th>\n",
       "      <th>Fold 0</th>\n",
       "      <th>Fold 1</th>\n",
       "      <th>Fold 2</th>\n",
       "      <th>Fold 3</th>\n",
       "      <th>Fold 4</th>\n",
       "      <th>Importances</th>\n",
       "    </tr>\n",
       "  </thead>\n",
       "  <tbody>\n",
       "    <tr>\n",
       "      <th>1</th>\n",
       "      <td>s_ph</td>\n",
       "      <td>0.18</td>\n",
       "      <td>0.23</td>\n",
       "      <td>0.21</td>\n",
       "      <td>0.19</td>\n",
       "      <td>0.24</td>\n",
       "      <td>0.21</td>\n",
       "    </tr>\n",
       "    <tr>\n",
       "      <th>5</th>\n",
       "      <td>s_calcium</td>\n",
       "      <td>0.13</td>\n",
       "      <td>0.16</td>\n",
       "      <td>0.18</td>\n",
       "      <td>0.16</td>\n",
       "      <td>0.16</td>\n",
       "      <td>0.16</td>\n",
       "    </tr>\n",
       "    <tr>\n",
       "      <th>7</th>\n",
       "      <td>s_mg</td>\n",
       "      <td>0.19</td>\n",
       "      <td>0.15</td>\n",
       "      <td>0.14</td>\n",
       "      <td>0.13</td>\n",
       "      <td>0.14</td>\n",
       "      <td>0.15</td>\n",
       "    </tr>\n",
       "    <tr>\n",
       "      <th>8</th>\n",
       "      <td>s_K/Mg</td>\n",
       "      <td>0.12</td>\n",
       "      <td>0.15</td>\n",
       "      <td>0.14</td>\n",
       "      <td>0.11</td>\n",
       "      <td>0.10</td>\n",
       "      <td>0.13</td>\n",
       "    </tr>\n",
       "    <tr>\n",
       "      <th>2</th>\n",
       "      <td>s_hum100</td>\n",
       "      <td>0.11</td>\n",
       "      <td>0.11</td>\n",
       "      <td>0.10</td>\n",
       "      <td>0.11</td>\n",
       "      <td>0.10</td>\n",
       "      <td>0.10</td>\n",
       "    </tr>\n",
       "    <tr>\n",
       "      <th>6</th>\n",
       "      <td>s_k</td>\n",
       "      <td>0.11</td>\n",
       "      <td>0.08</td>\n",
       "      <td>0.09</td>\n",
       "      <td>0.13</td>\n",
       "      <td>0.11</td>\n",
       "      <td>0.10</td>\n",
       "    </tr>\n",
       "    <tr>\n",
       "      <th>4</th>\n",
       "      <td>s_phosphorus</td>\n",
       "      <td>0.09</td>\n",
       "      <td>0.06</td>\n",
       "      <td>0.07</td>\n",
       "      <td>0.09</td>\n",
       "      <td>0.07</td>\n",
       "      <td>0.08</td>\n",
       "    </tr>\n",
       "    <tr>\n",
       "      <th>3</th>\n",
       "      <td>s_clay100</td>\n",
       "      <td>0.07</td>\n",
       "      <td>0.06</td>\n",
       "      <td>0.07</td>\n",
       "      <td>0.09</td>\n",
       "      <td>0.06</td>\n",
       "      <td>0.07</td>\n",
       "    </tr>\n",
       "    <tr>\n",
       "      <th>0</th>\n",
       "      <td>w_precipitation</td>\n",
       "      <td>0.00</td>\n",
       "      <td>0.00</td>\n",
       "      <td>0.00</td>\n",
       "      <td>0.00</td>\n",
       "      <td>0.01</td>\n",
       "      <td>0.00</td>\n",
       "    </tr>\n",
       "  </tbody>\n",
       "</table>\n",
       "</div>"
      ],
      "text/plain": [
       "          features  Fold 0  Fold 1  Fold 2  Fold 3  Fold 4  Importances\n",
       "1             s_ph    0.18    0.23    0.21    0.19    0.24         0.21\n",
       "5        s_calcium    0.13    0.16    0.18    0.16    0.16         0.16\n",
       "7             s_mg    0.19    0.15    0.14    0.13    0.14         0.15\n",
       "8           s_K/Mg    0.12    0.15    0.14    0.11    0.10         0.13\n",
       "2         s_hum100    0.11    0.11    0.10    0.11    0.10         0.10\n",
       "6              s_k    0.11    0.08    0.09    0.13    0.11         0.10\n",
       "4     s_phosphorus    0.09    0.06    0.07    0.09    0.07         0.08\n",
       "3        s_clay100    0.07    0.06    0.07    0.09    0.06         0.07\n",
       "0  w_precipitation    0.00    0.00    0.00    0.00    0.01         0.00"
      ]
     },
     "execution_count": 71,
     "metadata": {},
     "output_type": "execute_result"
    }
   ],
   "source": [
    "new_feats = pd.DataFrame(feats).sort_values(by = 'Importances',\n",
    "                                              ascending = False)\n",
    "new_feats"
   ]
  },
  {
   "cell_type": "code",
   "execution_count": 72,
   "metadata": {},
   "outputs": [
    {
     "data": {
      "text/plain": [
       "['s_ph',\n",
       " 's_calcium',\n",
       " 's_mg',\n",
       " 's_K/Mg',\n",
       " 's_hum100',\n",
       " 's_k',\n",
       " 's_phosphorus',\n",
       " 's_clay100',\n",
       " 'w_precipitation']"
      ]
     },
     "execution_count": 72,
     "metadata": {},
     "output_type": "execute_result"
    }
   ],
   "source": [
    "list(new_feats[\"features\"])"
   ]
  },
  {
   "cell_type": "code",
   "execution_count": 73,
   "metadata": {},
   "outputs": [
    {
     "data": {
      "text/plain": [
       "[0.20957230031490326,\n",
       " 0.15954206883907318,\n",
       " 0.15234597027301788,\n",
       " 0.12529920041561127,\n",
       " 0.10328710079193115,\n",
       " 0.1015666201710701,\n",
       " 0.07682587951421738,\n",
       " 0.06951694935560226,\n",
       " 0.002043941291049123]"
      ]
     },
     "execution_count": 73,
     "metadata": {},
     "output_type": "execute_result"
    }
   ],
   "source": [
    "#list(new_feats[\"features\"])\n",
    "list(new_feats[\"Importances\"])\n"
   ]
  },
  {
   "cell_type": "code",
   "execution_count": 74,
   "metadata": {},
   "outputs": [],
   "source": [
    "accuracy = gbm.score(X_test, y_test)"
   ]
  },
  {
   "cell_type": "code",
   "execution_count": 75,
   "metadata": {},
   "outputs": [],
   "source": [
    "from sklearn.metrics import accuracy_score, precision_score, recall_score, f1_score\n",
    "import random"
   ]
  },
  {
   "cell_type": "code",
   "execution_count": 76,
   "metadata": {},
   "outputs": [
    {
     "data": {
      "text/plain": [
       "DecisionTreeRegressor(max_depth=100, random_state=0)"
      ]
     },
     "execution_count": 76,
     "metadata": {},
     "output_type": "execute_result"
    }
   ],
   "source": [
    "# Instantiate a Random Forest Regressor\n",
    "#regr = RandomForestRegressor(max_depth=100, random_state=0)# Fit a random forest regressor\n",
    "regr = DecisionTreeRegressor(max_depth=100, random_state=0)\n",
    "regr.fit(X_train, y_train)"
   ]
  },
  {
   "cell_type": "code",
   "execution_count": 77,
   "metadata": {},
   "outputs": [],
   "source": [
    "from sklearn.metrics import mean_squared_error\n",
    "rmse_full_mod = mean_squared_error(regr.predict(X_test), y_test, squared = False)"
   ]
  },
  {
   "cell_type": "code",
   "execution_count": 78,
   "metadata": {},
   "outputs": [],
   "source": [
    "# Initialize a list of results\n",
    "results = []# Iterate through each predictor\n",
    "for predictor in X_test:\n",
    "    \n",
    "    # Create a copy of X_test\n",
    "    X_test_copy = X_test.copy()\n",
    "    \n",
    "    # Scramble the values of the given predictor\n",
    "    X_test_copy[predictor] = X_test[predictor].sample(frac=1).values\n",
    "    \n",
    "    # Calculate the new RMSE\n",
    "    new_rmse = mean_squared_error(regr.predict(X_test_copy), y_test,\n",
    "                                  squared = False)\n",
    "    \n",
    "    # Append the increase in MSE to the list of results \n",
    "    results.append({'pred': predictor,\n",
    "                    'score': new_rmse - rmse_full_mod }) # Convert to a pandas dataframe and rank the predictors by score\n",
    "\n",
    "    \n",
    "perm_resultsdf = pd.DataFrame(results)#.sort_values(by = 'score',\n",
    "                                      #        ascending = False)\n",
    "# Normalize \"score\" in per_resultsdf\n",
    "tot_score = perm_resultsdf[\"score\"].sum()\n",
    "#print(\"total score:\", tot_score)\n",
    "#print(perm_resultsdf)\n",
    "#print(perm_resultsdf.shape)\n",
    "l = []# empty list\n",
    "for m in range(len(perm_resultsdf[\"score\"])):\n",
    "    t = perm_resultsdf.iloc[m,1]/tot_score\n",
    "    l.append(t)\n",
    "    #print(m,t)\n",
    "    #print(perm_resultsdf.iloc[m,2])\n",
    "    #perm_resultsdf.iloc[m,2] = t\n",
    "#new_resultsdf = pd.DataFrame()\n",
    "perm_resultsdf[\"normalized\"] = pd.Series(l)\n",
    "\n",
    "perm_resultsdf = perm_resultsdf.sort_values(by = 'score',\n",
    "                                              ascending = False)"
   ]
  },
  {
   "cell_type": "code",
   "execution_count": 137,
   "metadata": {
    "scrolled": true
   },
   "outputs": [
    {
     "data": {
      "text/html": [
       "<div>\n",
       "<style scoped>\n",
       "    .dataframe tbody tr th:only-of-type {\n",
       "        vertical-align: middle;\n",
       "    }\n",
       "\n",
       "    .dataframe tbody tr th {\n",
       "        vertical-align: top;\n",
       "    }\n",
       "\n",
       "    .dataframe thead th {\n",
       "        text-align: right;\n",
       "    }\n",
       "</style>\n",
       "<table border=\"1\" class=\"dataframe\">\n",
       "  <thead>\n",
       "    <tr style=\"text-align: right;\">\n",
       "      <th></th>\n",
       "      <th>pred</th>\n",
       "      <th>score</th>\n",
       "      <th>normalized</th>\n",
       "      <th>feat_imp</th>\n",
       "    </tr>\n",
       "  </thead>\n",
       "  <tbody>\n",
       "    <tr>\n",
       "      <th>3</th>\n",
       "      <td>s_clay100</td>\n",
       "      <td>1.68</td>\n",
       "      <td>0.19</td>\n",
       "      <td>0.07</td>\n",
       "    </tr>\n",
       "    <tr>\n",
       "      <th>6</th>\n",
       "      <td>s_k</td>\n",
       "      <td>1.50</td>\n",
       "      <td>0.17</td>\n",
       "      <td>0.10</td>\n",
       "    </tr>\n",
       "    <tr>\n",
       "      <th>1</th>\n",
       "      <td>s_ph</td>\n",
       "      <td>1.50</td>\n",
       "      <td>0.17</td>\n",
       "      <td>0.21</td>\n",
       "    </tr>\n",
       "    <tr>\n",
       "      <th>8</th>\n",
       "      <td>s_K/Mg</td>\n",
       "      <td>1.49</td>\n",
       "      <td>0.17</td>\n",
       "      <td>0.13</td>\n",
       "    </tr>\n",
       "    <tr>\n",
       "      <th>5</th>\n",
       "      <td>s_calcium</td>\n",
       "      <td>1.14</td>\n",
       "      <td>0.13</td>\n",
       "      <td>0.16</td>\n",
       "    </tr>\n",
       "    <tr>\n",
       "      <th>2</th>\n",
       "      <td>s_hum100</td>\n",
       "      <td>0.88</td>\n",
       "      <td>0.10</td>\n",
       "      <td>0.10</td>\n",
       "    </tr>\n",
       "    <tr>\n",
       "      <th>7</th>\n",
       "      <td>s_mg</td>\n",
       "      <td>0.42</td>\n",
       "      <td>0.05</td>\n",
       "      <td>0.15</td>\n",
       "    </tr>\n",
       "    <tr>\n",
       "      <th>4</th>\n",
       "      <td>s_phosphorus</td>\n",
       "      <td>0.17</td>\n",
       "      <td>0.02</td>\n",
       "      <td>0.08</td>\n",
       "    </tr>\n",
       "    <tr>\n",
       "      <th>0</th>\n",
       "      <td>w_precipitation</td>\n",
       "      <td>0.00</td>\n",
       "      <td>0.00</td>\n",
       "      <td>0.00</td>\n",
       "    </tr>\n",
       "  </tbody>\n",
       "</table>\n",
       "</div>"
      ],
      "text/plain": [
       "              pred  score  normalized  feat_imp\n",
       "3        s_clay100   1.68        0.19      0.07\n",
       "6              s_k   1.50        0.17      0.10\n",
       "1             s_ph   1.50        0.17      0.21\n",
       "8           s_K/Mg   1.49        0.17      0.13\n",
       "5        s_calcium   1.14        0.13      0.16\n",
       "2         s_hum100   0.88        0.10      0.10\n",
       "7             s_mg   0.42        0.05      0.15\n",
       "4     s_phosphorus   0.17        0.02      0.08\n",
       "0  w_precipitation   0.00        0.00      0.00"
      ]
     },
     "execution_count": 137,
     "metadata": {},
     "output_type": "execute_result"
    }
   ],
   "source": [
    "perm_resultsdf"
   ]
  },
  {
   "cell_type": "code",
   "execution_count": 136,
   "metadata": {},
   "outputs": [
    {
     "data": {
      "text/plain": [
       "3   0.07\n",
       "6   0.10\n",
       "1   0.21\n",
       "8   0.13\n",
       "5   0.16\n",
       "2   0.10\n",
       "7   0.15\n",
       "4   0.08\n",
       "0   0.00\n",
       "Name: feat_imp, dtype: float64"
      ]
     },
     "execution_count": 136,
     "metadata": {},
     "output_type": "execute_result"
    }
   ],
   "source": [
    "# create a new column in perm_resultsdf containing the feature importance values\n",
    "new_list = [res[l] for l in perm_resultsdf[\"pred\"]]\n",
    "#new_list\n",
    "perm_resultsdf[\"feat_imp\"] = new_list #pd.Series(new_list, ignore_index=True)\n",
    "#perm_resultsdf[\"feat_imp\"]"
   ]
  },
  {
   "cell_type": "code",
   "execution_count": 80,
   "metadata": {},
   "outputs": [
    {
     "data": {
      "text/plain": [
       "[0.19184676723212124,\n",
       " 0.1711353035010195,\n",
       " 0.1710612762036988,\n",
       " 0.1696248210444745,\n",
       " 0.12955955660024868,\n",
       " 0.0998497381000249,\n",
       " 0.04743976553792446,\n",
       " 0.01948277178048787,\n",
       " 0.0]"
      ]
     },
     "execution_count": 80,
     "metadata": {},
     "output_type": "execute_result"
    }
   ],
   "source": [
    "list(perm_resultsdf[\"normalized\"])"
   ]
  },
  {
   "cell_type": "code",
   "execution_count": 81,
   "metadata": {},
   "outputs": [
    {
     "data": {
      "text/plain": [
       "['s_clay100',\n",
       " 's_k',\n",
       " 's_ph',\n",
       " 's_K/Mg',\n",
       " 's_calcium',\n",
       " 's_hum100',\n",
       " 's_mg',\n",
       " 's_phosphorus',\n",
       " 'w_precipitation']"
      ]
     },
     "execution_count": 81,
     "metadata": {},
     "output_type": "execute_result"
    }
   ],
   "source": [
    "list(perm_resultsdf[\"pred\"])"
   ]
  },
  {
   "cell_type": "code",
   "execution_count": 139,
   "metadata": {},
   "outputs": [
    {
     "data": {
      "text/plain": [
       "<matplotlib.legend.Legend at 0x7fe84129f430>"
      ]
     },
     "execution_count": 139,
     "metadata": {},
     "output_type": "execute_result"
    },
    {
     "data": {
      "image/png": "[encoded data removed]",
      "text/plain": [
       "<Figure size 432x288 with 1 Axes>"
      ]
     },
     "metadata": {
      "needs_background": "light"
     },
     "output_type": "display_data"
    }
   ],
   "source": [
    "ax=perm_resultsdf.plot(x=\"pred\", y=\"normalized\", color='b', label='_nolegend_');\n",
    "perm_resultsdf.plot.scatter(x=\"pred\", y=\"normalized\", color='b', label='Permutation Importance', ax=ax);\n",
    "perm_resultsdf.plot(x=\"pred\", y=\"feat_imp\", color='g', label='_nolegend_', ax=ax);\n",
    "perm_resultsdf.plot.scatter(x=\"pred\", y=\"feat_imp\", color='g', label='Classic Importance', ax=ax);\n",
    "plt.xticks(rotation=45)\n",
    "plt.grid(color='grey', linestyle='--', linewidth=1)\n",
    "# Add title and axis names\n",
    "plt.title('Feature Importance')\n",
    "plt.xlabel('Features')\n",
    "plt.ylabel('Normalized Importance')\n",
    "plt.legend(loc=0)\n",
    "#perm_resultsdf.plot(xlabel=\"new x\", ylabel=\"new y\");"
   ]
  },
  {
   "cell_type": "code",
   "execution_count": 2,
   "metadata": {},
   "outputs": [],
   "source": [
    "#pip install shap"
   ]
  },
  {
   "cell_type": "code",
   "execution_count": 108,
   "metadata": {},
   "outputs": [
    {
     "data": {
      "image/png": "[encoded data removed]",
      "text/plain": [
       "<Figure size 576x367.2 with 2 Axes>"
      ]
     },
     "metadata": {
      "needs_background": "light"
     },
     "output_type": "display_data"
    }
   ],
   "source": [
    "import shap  # pip install shap\n",
    "import xgboost as xgb\n",
    "\n",
    "# Load and train a model\n",
    "#X, y = shap.datasets.diabetes()\n",
    "clf = xgb.XGBRegressor().fit(X, y)\n",
    "\n",
    "# Explain model's predictions with SHAP\n",
    "explainer = shap.Explainer(clf)\n",
    "shap_values = explainer(X)\n",
    "\n",
    "# Visualize the predictions' explanation\n",
    "#shap.plots.beeswarm(shap_values, show=False)\n",
    "#shap.summary_plot(shap_values, final_model_features)\n",
    "fig = plt.figure(figsize=(15,10))\n",
    "fig = shap.summary_plot(shap_values,show=False)\n",
    "plt.savefig('shap_bar_plot1.jpg',bbox_inches='tight', dpi=150)\n",
    "#plt.savefig('scratch.png', show=False)#, show=False)\n",
    "#plt.savefig('books_read.png')"
   ]
  },
  {
   "cell_type": "code",
   "execution_count": 103,
   "metadata": {},
   "outputs": [],
   "source": [
    "%matplotlib inline"
   ]
  },
  {
   "cell_type": "code",
   "execution_count": 109,
   "metadata": {},
   "outputs": [
    {
     "data": {
      "image/png": "[encoded data removed]",
      "text/plain": [
       "<Figure size 576x367.2 with 1 Axes>"
      ]
     },
     "metadata": {
      "needs_background": "light"
     },
     "output_type": "display_data"
    }
   ],
   "source": [
    "fig = plt.figure(figsize=(15,10))\n",
    "shap.summary_plot(shap_values, X_train, plot_type=\"bar\",show=False)\n",
    "plt.savefig('shap_bar_plot2.jpg',bbox_inches='tight', dpi=150)\n",
    "#plt.savefig('grafic.png', dpi=300, bbox_inches='tight')"
   ]
  },
  {
   "cell_type": "code",
   "execution_count": 99,
   "metadata": {},
   "outputs": [
    {
     "ename": "AttributeError",
     "evalue": "'Explanation' object has no attribute 'ndim'",
     "output_type": "error",
     "traceback": [
      "\u001b[0;31m---------------------------------------------------------------------------\u001b[0m",
      "\u001b[0;31mAttributeError\u001b[0m                            Traceback (most recent call last)",
      "\u001b[0;32m/usr/local/lib/python3.8/dist-packages/pyforest/__init__.py\u001b[0m in \u001b[0;36m<module>\u001b[0;34m\u001b[0m\n\u001b[1;32m      1\u001b[0m \u001b[0;32mimport\u001b[0m \u001b[0mmatplotlib\u001b[0m\u001b[0;34m.\u001b[0m\u001b[0mpyplot\u001b[0m \u001b[0;32mas\u001b[0m \u001b[0mplt\u001b[0m\u001b[0;34m\u001b[0m\u001b[0;34m\u001b[0m\u001b[0m\n\u001b[1;32m      2\u001b[0m \u001b[0;31m#plt.plot(x,y)\u001b[0m\u001b[0;34m\u001b[0m\u001b[0;34m\u001b[0m\u001b[0;34m\u001b[0m\u001b[0m\n\u001b[0;32m----> 3\u001b[0;31m \u001b[0mplt\u001b[0m\u001b[0;34m.\u001b[0m\u001b[0mplot\u001b[0m\u001b[0;34m(\u001b[0m\u001b[0mshap_values\u001b[0m\u001b[0;34m)\u001b[0m\u001b[0;34m\u001b[0m\u001b[0;34m\u001b[0m\u001b[0m\n\u001b[0m\u001b[1;32m      4\u001b[0m \u001b[0mplt\u001b[0m\u001b[0;34m.\u001b[0m\u001b[0msavefig\u001b[0m\u001b[0;34m(\u001b[0m\u001b[0;34m'plot.png'\u001b[0m\u001b[0;34m,\u001b[0m \u001b[0mdpi\u001b[0m\u001b[0;34m=\u001b[0m\u001b[0;36m300\u001b[0m\u001b[0;34m,\u001b[0m \u001b[0mbbox_inches\u001b[0m\u001b[0;34m=\u001b[0m\u001b[0;34m'tight'\u001b[0m\u001b[0;34m)\u001b[0m\u001b[0;34m\u001b[0m\u001b[0;34m\u001b[0m\u001b[0m\n",
      "\u001b[0;32m/usr/local/lib/python3.8/dist-packages/matplotlib/pyplot.py\u001b[0m in \u001b[0;36mplot\u001b[0;34m(scalex, scaley, data, *args, **kwargs)\u001b[0m\n\u001b[1;32m   3017\u001b[0m \u001b[0;34m@\u001b[0m\u001b[0m_copy_docstring_and_deprecators\u001b[0m\u001b[0;34m(\u001b[0m\u001b[0mAxes\u001b[0m\u001b[0;34m.\u001b[0m\u001b[0mplot\u001b[0m\u001b[0;34m)\u001b[0m\u001b[0;34m\u001b[0m\u001b[0;34m\u001b[0m\u001b[0m\n\u001b[1;32m   3018\u001b[0m \u001b[0;32mdef\u001b[0m \u001b[0mplot\u001b[0m\u001b[0;34m(\u001b[0m\u001b[0;34m*\u001b[0m\u001b[0margs\u001b[0m\u001b[0;34m,\u001b[0m \u001b[0mscalex\u001b[0m\u001b[0;34m=\u001b[0m\u001b[0;32mTrue\u001b[0m\u001b[0;34m,\u001b[0m \u001b[0mscaley\u001b[0m\u001b[0;34m=\u001b[0m\u001b[0;32mTrue\u001b[0m\u001b[0;34m,\u001b[0m \u001b[0mdata\u001b[0m\u001b[0;34m=\u001b[0m\u001b[0;32mNone\u001b[0m\u001b[0;34m,\u001b[0m \u001b[0;34m**\u001b[0m\u001b[0mkwargs\u001b[0m\u001b[0;34m)\u001b[0m\u001b[0;34m:\u001b[0m\u001b[0;34m\u001b[0m\u001b[0;34m\u001b[0m\u001b[0m\n\u001b[0;32m-> 3019\u001b[0;31m     return gca().plot(\n\u001b[0m\u001b[1;32m   3020\u001b[0m         \u001b[0;34m*\u001b[0m\u001b[0margs\u001b[0m\u001b[0;34m,\u001b[0m \u001b[0mscalex\u001b[0m\u001b[0;34m=\u001b[0m\u001b[0mscalex\u001b[0m\u001b[0;34m,\u001b[0m \u001b[0mscaley\u001b[0m\u001b[0;34m=\u001b[0m\u001b[0mscaley\u001b[0m\u001b[0;34m,\u001b[0m\u001b[0;34m\u001b[0m\u001b[0;34m\u001b[0m\u001b[0m\n\u001b[1;32m   3021\u001b[0m         **({\"data\": data} if data is not None else {}), **kwargs)\n",
      "\u001b[0;32m/usr/local/lib/python3.8/dist-packages/matplotlib/axes/_axes.py\u001b[0m in \u001b[0;36mplot\u001b[0;34m(self, scalex, scaley, data, *args, **kwargs)\u001b[0m\n\u001b[1;32m   1603\u001b[0m         \"\"\"\n\u001b[1;32m   1604\u001b[0m         \u001b[0mkwargs\u001b[0m \u001b[0;34m=\u001b[0m \u001b[0mcbook\u001b[0m\u001b[0;34m.\u001b[0m\u001b[0mnormalize_kwargs\u001b[0m\u001b[0;34m(\u001b[0m\u001b[0mkwargs\u001b[0m\u001b[0;34m,\u001b[0m \u001b[0mmlines\u001b[0m\u001b[0;34m.\u001b[0m\u001b[0mLine2D\u001b[0m\u001b[0;34m)\u001b[0m\u001b[0;34m\u001b[0m\u001b[0;34m\u001b[0m\u001b[0m\n\u001b[0;32m-> 1605\u001b[0;31m         \u001b[0mlines\u001b[0m \u001b[0;34m=\u001b[0m \u001b[0;34m[\u001b[0m\u001b[0;34m*\u001b[0m\u001b[0mself\u001b[0m\u001b[0;34m.\u001b[0m\u001b[0m_get_lines\u001b[0m\u001b[0;34m(\u001b[0m\u001b[0;34m*\u001b[0m\u001b[0margs\u001b[0m\u001b[0;34m,\u001b[0m \u001b[0mdata\u001b[0m\u001b[0;34m=\u001b[0m\u001b[0mdata\u001b[0m\u001b[0;34m,\u001b[0m \u001b[0;34m**\u001b[0m\u001b[0mkwargs\u001b[0m\u001b[0;34m)\u001b[0m\u001b[0;34m]\u001b[0m\u001b[0;34m\u001b[0m\u001b[0;34m\u001b[0m\u001b[0m\n\u001b[0m\u001b[1;32m   1606\u001b[0m         \u001b[0;32mfor\u001b[0m \u001b[0mline\u001b[0m \u001b[0;32min\u001b[0m \u001b[0mlines\u001b[0m\u001b[0;34m:\u001b[0m\u001b[0;34m\u001b[0m\u001b[0;34m\u001b[0m\u001b[0m\n\u001b[1;32m   1607\u001b[0m             \u001b[0mself\u001b[0m\u001b[0;34m.\u001b[0m\u001b[0madd_line\u001b[0m\u001b[0;34m(\u001b[0m\u001b[0mline\u001b[0m\u001b[0;34m)\u001b[0m\u001b[0;34m\u001b[0m\u001b[0;34m\u001b[0m\u001b[0m\n",
      "\u001b[0;32m/usr/local/lib/python3.8/dist-packages/matplotlib/axes/_base.py\u001b[0m in \u001b[0;36m__call__\u001b[0;34m(self, data, *args, **kwargs)\u001b[0m\n\u001b[1;32m    313\u001b[0m                 \u001b[0mthis\u001b[0m \u001b[0;34m+=\u001b[0m \u001b[0margs\u001b[0m\u001b[0;34m[\u001b[0m\u001b[0;36m0\u001b[0m\u001b[0;34m]\u001b[0m\u001b[0;34m,\u001b[0m\u001b[0;34m\u001b[0m\u001b[0;34m\u001b[0m\u001b[0m\n\u001b[1;32m    314\u001b[0m                 \u001b[0margs\u001b[0m \u001b[0;34m=\u001b[0m \u001b[0margs\u001b[0m\u001b[0;34m[\u001b[0m\u001b[0;36m1\u001b[0m\u001b[0;34m:\u001b[0m\u001b[0;34m]\u001b[0m\u001b[0;34m\u001b[0m\u001b[0;34m\u001b[0m\u001b[0m\n\u001b[0;32m--> 315\u001b[0;31m             \u001b[0;32myield\u001b[0m \u001b[0;32mfrom\u001b[0m \u001b[0mself\u001b[0m\u001b[0;34m.\u001b[0m\u001b[0m_plot_args\u001b[0m\u001b[0;34m(\u001b[0m\u001b[0mthis\u001b[0m\u001b[0;34m,\u001b[0m \u001b[0mkwargs\u001b[0m\u001b[0;34m)\u001b[0m\u001b[0;34m\u001b[0m\u001b[0;34m\u001b[0m\u001b[0m\n\u001b[0m\u001b[1;32m    316\u001b[0m \u001b[0;34m\u001b[0m\u001b[0m\n\u001b[1;32m    317\u001b[0m     \u001b[0;32mdef\u001b[0m \u001b[0mget_next_color\u001b[0m\u001b[0;34m(\u001b[0m\u001b[0mself\u001b[0m\u001b[0;34m)\u001b[0m\u001b[0;34m:\u001b[0m\u001b[0;34m\u001b[0m\u001b[0;34m\u001b[0m\u001b[0m\n",
      "\u001b[0;32m/usr/local/lib/python3.8/dist-packages/matplotlib/axes/_base.py\u001b[0m in \u001b[0;36m_plot_args\u001b[0;34m(self, tup, kwargs, return_kwargs)\u001b[0m\n\u001b[1;32m    491\u001b[0m             \u001b[0my\u001b[0m \u001b[0;34m=\u001b[0m \u001b[0m_check_1d\u001b[0m\u001b[0;34m(\u001b[0m\u001b[0mxy\u001b[0m\u001b[0;34m[\u001b[0m\u001b[0;36m1\u001b[0m\u001b[0;34m]\u001b[0m\u001b[0;34m)\u001b[0m\u001b[0;34m\u001b[0m\u001b[0;34m\u001b[0m\u001b[0m\n\u001b[1;32m    492\u001b[0m         \u001b[0;32melse\u001b[0m\u001b[0;34m:\u001b[0m\u001b[0;34m\u001b[0m\u001b[0;34m\u001b[0m\u001b[0m\n\u001b[0;32m--> 493\u001b[0;31m             \u001b[0mx\u001b[0m\u001b[0;34m,\u001b[0m \u001b[0my\u001b[0m \u001b[0;34m=\u001b[0m \u001b[0mindex_of\u001b[0m\u001b[0;34m(\u001b[0m\u001b[0mxy\u001b[0m\u001b[0;34m[\u001b[0m\u001b[0;34m-\u001b[0m\u001b[0;36m1\u001b[0m\u001b[0;34m]\u001b[0m\u001b[0;34m)\u001b[0m\u001b[0;34m\u001b[0m\u001b[0;34m\u001b[0m\u001b[0m\n\u001b[0m\u001b[1;32m    494\u001b[0m \u001b[0;34m\u001b[0m\u001b[0m\n\u001b[1;32m    495\u001b[0m         \u001b[0;32mif\u001b[0m \u001b[0mself\u001b[0m\u001b[0;34m.\u001b[0m\u001b[0maxes\u001b[0m\u001b[0;34m.\u001b[0m\u001b[0mxaxis\u001b[0m \u001b[0;32mis\u001b[0m \u001b[0;32mnot\u001b[0m \u001b[0;32mNone\u001b[0m\u001b[0;34m:\u001b[0m\u001b[0;34m\u001b[0m\u001b[0;34m\u001b[0m\u001b[0m\n",
      "\u001b[0;32m/usr/local/lib/python3.8/dist-packages/matplotlib/cbook/__init__.py\u001b[0m in \u001b[0;36mindex_of\u001b[0;34m(y)\u001b[0m\n\u001b[1;32m   1685\u001b[0m         \u001b[0;32mpass\u001b[0m\u001b[0;34m\u001b[0m\u001b[0;34m\u001b[0m\u001b[0m\n\u001b[1;32m   1686\u001b[0m     \u001b[0;32mtry\u001b[0m\u001b[0;34m:\u001b[0m\u001b[0;34m\u001b[0m\u001b[0;34m\u001b[0m\u001b[0m\n\u001b[0;32m-> 1687\u001b[0;31m         \u001b[0my\u001b[0m \u001b[0;34m=\u001b[0m \u001b[0m_check_1d\u001b[0m\u001b[0;34m(\u001b[0m\u001b[0my\u001b[0m\u001b[0;34m)\u001b[0m\u001b[0;34m\u001b[0m\u001b[0;34m\u001b[0m\u001b[0m\n\u001b[0m\u001b[1;32m   1688\u001b[0m     \u001b[0;32mexcept\u001b[0m \u001b[0;34m(\u001b[0m\u001b[0mnp\u001b[0m\u001b[0;34m.\u001b[0m\u001b[0mVisibleDeprecationWarning\u001b[0m\u001b[0;34m,\u001b[0m \u001b[0mValueError\u001b[0m\u001b[0;34m)\u001b[0m\u001b[0;34m:\u001b[0m\u001b[0;34m\u001b[0m\u001b[0;34m\u001b[0m\u001b[0m\n\u001b[1;32m   1689\u001b[0m         \u001b[0;31m# NumPy 1.19 will warn on ragged input, and we can't actually use it.\u001b[0m\u001b[0;34m\u001b[0m\u001b[0;34m\u001b[0m\u001b[0;34m\u001b[0m\u001b[0m\n",
      "\u001b[0;32m/usr/local/lib/python3.8/dist-packages/matplotlib/cbook/__init__.py\u001b[0m in \u001b[0;36m_check_1d\u001b[0;34m(x)\u001b[0m\n\u001b[1;32m   1360\u001b[0m                     message='Support for multi-dimensional indexing')\n\u001b[1;32m   1361\u001b[0m \u001b[0;34m\u001b[0m\u001b[0m\n\u001b[0;32m-> 1362\u001b[0;31m                 \u001b[0mndim\u001b[0m \u001b[0;34m=\u001b[0m \u001b[0mx\u001b[0m\u001b[0;34m[\u001b[0m\u001b[0;34m:\u001b[0m\u001b[0;34m,\u001b[0m \u001b[0;32mNone\u001b[0m\u001b[0;34m]\u001b[0m\u001b[0;34m.\u001b[0m\u001b[0mndim\u001b[0m\u001b[0;34m\u001b[0m\u001b[0;34m\u001b[0m\u001b[0m\n\u001b[0m\u001b[1;32m   1363\u001b[0m                 \u001b[0;31m# we have definitely hit a pandas index or series object\u001b[0m\u001b[0;34m\u001b[0m\u001b[0;34m\u001b[0m\u001b[0;34m\u001b[0m\u001b[0m\n\u001b[1;32m   1364\u001b[0m                 \u001b[0;31m# cast to a numpy array.\u001b[0m\u001b[0;34m\u001b[0m\u001b[0;34m\u001b[0m\u001b[0;34m\u001b[0m\u001b[0m\n",
      "\u001b[0;31mAttributeError\u001b[0m: 'Explanation' object has no attribute 'ndim'"
     ]
    },
    {
     "data": {
      "image/png": "[encoded data removed]",
      "text/plain": [
       "<Figure size 432x288 with 1 Axes>"
      ]
     },
     "metadata": {
      "needs_background": "light"
     },
     "output_type": "display_data"
    }
   ],
   "source": [
    "import matplotlib.pyplot as plt\n",
    "#plt.plot(x,y)\n",
    "plt.plot(shap_values)\n",
    "plt.savefig('plot.png', dpi=300, bbox_inches='tight')"
   ]
  },
  {
   "cell_type": "code",
   "execution_count": null,
   "metadata": {},
   "outputs": [],
   "source": []
  },
  {
   "cell_type": "code",
   "execution_count": 286,
   "metadata": {},
   "outputs": [],
   "source": [
    "result = perm_resultsdf.keys()\n",
    "\n",
    "# creating dataframe\n",
    "df = pd.DataFrame({\n",
    "    result[0]: perm_resultsdf[result[0]],\n",
    "    result[1]: perm_resultsdf[result[1]]\n",
    "})\n",
    "#perm_resultsdf.values()"
   ]
  },
  {
   "cell_type": "code",
   "execution_count": null,
   "metadata": {},
   "outputs": [],
   "source": []
  },
  {
   "cell_type": "code",
   "execution_count": 287,
   "metadata": {},
   "outputs": [
    {
     "ename": "ImportError",
     "evalue": "matplotlib is required for plotting when the default backend \"matplotlib\" is selected.",
     "output_type": "error",
     "traceback": [
      "\u001b[0;31m\u001b[0m",
      "\u001b[0;31mImportError\u001b[0mTraceback (most recent call last)",
      "\u001b[0;32m/usr/local/lib/python3.8/dist-packages/pyforest/__init__.py\u001b[0m in \u001b[0;36m<module>\u001b[0;34m\u001b[0m\n\u001b[1;32m      1\u001b[0m \u001b[0;32mimport\u001b[0m \u001b[0mpandas\u001b[0m \u001b[0;32mas\u001b[0m \u001b[0mpd\u001b[0m\u001b[0;34m\u001b[0m\u001b[0;34m\u001b[0m\u001b[0m\n\u001b[1;32m      2\u001b[0m \u001b[0;32mfrom\u001b[0m \u001b[0mmatplotlib\u001b[0m \u001b[0;32mimport\u001b[0m \u001b[0mpyplot\u001b[0m \u001b[0;32mas\u001b[0m \u001b[0mplt\u001b[0m\u001b[0;34m\u001b[0m\u001b[0;34m\u001b[0m\u001b[0m\n\u001b[0;32m----> 3\u001b[0;31m \u001b[0mdf\u001b[0m\u001b[0;34m.\u001b[0m\u001b[0mplot\u001b[0m\u001b[0;34m(\u001b[0m\u001b[0;34m)\u001b[0m\u001b[0;34m\u001b[0m\u001b[0;34m\u001b[0m\u001b[0m\n\u001b[0m",
      "\u001b[0;32m/usr/local/lib/python3.8/dist-packages/pandas/plotting/_core.py\u001b[0m in \u001b[0;36m__call__\u001b[0;34m(self, *args, **kwargs)\u001b[0m\n\u001b[1;32m    867\u001b[0m             \u001b[0mBy\u001b[0m \u001b[0mdefault\u001b[0m\u001b[0;34m,\u001b[0m \u001b[0mit\u001b[0m \u001b[0mwill\u001b[0m \u001b[0muse\u001b[0m \u001b[0mthe\u001b[0m \u001b[0mremaining\u001b[0m \u001b[0mDataFrame\u001b[0m \u001b[0mnumeric\u001b[0m \u001b[0mcolumns\u001b[0m\u001b[0;34m.\u001b[0m\u001b[0;34m\u001b[0m\u001b[0;34m\u001b[0m\u001b[0m\n\u001b[1;32m    868\u001b[0m         \u001b[0;34m**\u001b[0m\u001b[0mkwargs\u001b[0m\u001b[0;34m\u001b[0m\u001b[0;34m\u001b[0m\u001b[0m\n\u001b[0;32m--> 869\u001b[0;31m             \u001b[0mKeyword\u001b[0m \u001b[0marguments\u001b[0m \u001b[0mto\u001b[0m \u001b[0;32mpass\u001b[0m \u001b[0mon\u001b[0m \u001b[0mto\u001b[0m \u001b[0;34m:\u001b[0m\u001b[0mmeth\u001b[0m\u001b[0;34m:\u001b[0m\u001b[0;31m`\u001b[0m\u001b[0mDataFrame\u001b[0m\u001b[0;34m.\u001b[0m\u001b[0mplot\u001b[0m\u001b[0;31m`\u001b[0m\u001b[0;34m.\u001b[0m\u001b[0;34m\u001b[0m\u001b[0;34m\u001b[0m\u001b[0m\n\u001b[0m\u001b[1;32m    870\u001b[0m \u001b[0;34m\u001b[0m\u001b[0m\n\u001b[1;32m    871\u001b[0m         \u001b[0mReturns\u001b[0m\u001b[0;34m\u001b[0m\u001b[0;34m\u001b[0m\u001b[0m\n",
      "\u001b[0;32m/usr/local/lib/python3.8/dist-packages/pandas/plotting/_core.py\u001b[0m in \u001b[0;36m_get_plot_backend\u001b[0;34m(backend)\u001b[0m\n",
      "\u001b[0;31mImportError\u001b[0m: matplotlib is required for plotting when the default backend \"matplotlib\" is selected."
     ]
    }
   ],
   "source": [
    "import pandas as pd\n",
    "from matplotlib import pyplot as plt \n",
    "df.plot()"
   ]
  },
  {
   "cell_type": "code",
   "execution_count": null,
   "metadata": {},
   "outputs": [],
   "source": [
    "df = pd.DataFrame(np.random.random_sample((10,2)), columns=['col1', 'col2'])\n",
    "fig, ax = plt.subplots()\n",
    "\n",
    "df['col1'].plot(kind='bar', ax=ax)\n",
    "df['col2'].plot(ax=ax, marker='o', ls='-')\n",
    "ax.legend(loc='best')"
   ]
  },
  {
   "cell_type": "code",
   "execution_count": null,
   "metadata": {},
   "outputs": [],
   "source": [
    "import matplotlib.pyplot as plt\n",
    "df.plot(x='pred',y='score', kind='bar')"
   ]
  },
  {
   "cell_type": "code",
   "execution_count": null,
   "metadata": {},
   "outputs": [],
   "source": [
    "\n",
    "rf=RandomForestRegressor(n_estimators=100)#Classifier(n_estimators=100)\n",
    "rf.fit(X_train, ny_train)"
   ]
  },
  {
   "cell_type": "code",
   "execution_count": null,
   "metadata": {},
   "outputs": [],
   "source": []
  },
  {
   "cell_type": "code",
   "execution_count": null,
   "metadata": {},
   "outputs": [],
   "source": [
    "def PermImportance(X, y, clf, metric, num_iterations=100):\n",
    "    '''\n",
    "    Calculates the permutation importance of features in a dataset.\n",
    "    Inputs:\n",
    "    X: dataframe with all the features\n",
    "    y: array-like sequence of labels\n",
    "    clf: sklearn classifier, already trained on training data\n",
    "    metric: sklearn metric, such as accuracy_score, precision_score or recall_score\n",
    "    num_iterations: no. of repetitive runs of the permutation\n",
    "    Outputs:\n",
    "    baseline: the baseline metric without any of the columns permutated\n",
    "    scores: differences in baseline metric caused by permutation of each feature, dict in the format {feature:[diffs]}\n",
    "    '''\n",
    "    #bar=progressbar.ProgressBar(max_value=len(X.columns))\n",
    "    baseline_metric=metric(y, clf.predict(X))\n",
    "    scores={c:[] for c in X.columns}\n",
    "    for c in X.columns:\n",
    "        X1=X.copy(deep=True)\n",
    "        for _ in range(num_iterations):\n",
    "            temp=X1[c].tolist()\n",
    "            random.shuffle(temp)\n",
    "            X1[c]=temp\n",
    "            score=metric(y, clf.predict(X1))\n",
    "            scores[c].append(baseline_metric-score)\n",
    "        #bar.update(X.columns.tolist().index(c))\n",
    "    return baseline_metric, scores"
   ]
  },
  {
   "cell_type": "code",
   "execution_count": null,
   "metadata": {},
   "outputs": [],
   "source": [
    "baseline, scores=PermImportance(X_test, ny_test, rf, recall_score, num_iterations=10)"
   ]
  },
  {
   "cell_type": "code",
   "execution_count": null,
   "metadata": {},
   "outputs": [],
   "source": [
    "from sklearn.metrics import mean_squared_error\n",
    "print(mean_squared_error(list(y), list(oof_preds)))\n",
    "print('XGBoost model accuracy score: {0:0.4f}'. format(gbm.score(X_test, y_test)))\n",
    "print(\"Accuracy: %.2f%%\" % (accuracy *100.0))"
   ]
  },
  {
   "cell_type": "code",
   "execution_count": null,
   "metadata": {},
   "outputs": [],
   "source": [
    "from scipy.stats import norm"
   ]
  },
  {
   "cell_type": "code",
   "execution_count": 227,
   "metadata": {},
   "outputs": [
    {
     "name": "stdout",
     "output_type": "stream",
     "text": [
      "The total error for predicted yield (From the true yield) is (norm-2):  0.002158976736021441\n",
      "The cross-validation score (5-split) is  8.672742245509831e-05\n"
     ]
    }
   ],
   "source": [
    "# Total difference between predicted and correct yield\n",
    "\n",
    "dist = np.linalg.norm(list(y_test)-gbm.predict(X_test))\n",
    "print(\"The total error for predicted yield (From the true yield) is (norm-2): \", dist)\n",
    "print(\"The cross-validation score (5-split) is \", cv_score_)"
   ]
  },
  {
   "cell_type": "code",
   "execution_count": null,
   "metadata": {},
   "outputs": [],
   "source": []
  },
  {
   "cell_type": "code",
   "execution_count": 231,
   "metadata": {},
   "outputs": [
    {
     "data": {
      "image/png": "[encoded data removed]",
      "text/plain": [
       "<Figure size 432x288 with 1 Axes>"
      ]
     },
     "metadata": {
      "needs_background": "light"
     },
     "output_type": "display_data"
    }
   ],
   "source": [
    "exact  = list(y_test)\n",
    "approx = list(gbm.predict(X_test))\n",
    "\n",
    "plt.plot(exact, '--g', label='Ground Truth')\n",
    "plt.plot(exact, '.g')\n",
    "\n",
    "plt.plot(approx,  'bs', label='Predicted')\n",
    "plt.plot(approx, 'b:')\n",
    "plt.ylabel('Vete Yield in 2018')\n",
    "plt.xlabel('Number of coordinates tested within same field')\n",
    "plt.title(\"Vete Yield - Prediction vs Ground Truth\")\n",
    "plt.axis([90, 135, 5, 38])\n",
    "leg = plt.legend()\n",
    "plt.show()"
   ]
  },
  {
   "cell_type": "code",
   "execution_count": 233,
   "metadata": {},
   "outputs": [
    {
     "data": {
      "image/png": "[encoded data removed]",
      "text/plain": [
       "<Figure size 432x288 with 1 Axes>"
      ]
     },
     "metadata": {
      "needs_background": "light"
     },
     "output_type": "display_data"
    }
   ],
   "source": [
    "\n",
    "err = [exact[l]-approx[l] for l in range(len(exact))]\n",
    "\n",
    "plt.plot(err, '--g')\n",
    "\n",
    "plt.ylabel('Error in predicting vete yield)')\n",
    "plt.xlabel('Number of coordinates tested within same field')\n",
    "plt.title(\"Errors in prediction - Model trained on this field\")\n",
    "plt.axis([90, 135, 0, 0.0002])\n",
    "#leg = plt.legend()\n",
    "plt.show()"
   ]
  },
  {
   "cell_type": "markdown",
   "metadata": {},
   "source": [
    "# Feature selection"
   ]
  },
  {
   "cell_type": "code",
   "execution_count": 234,
   "metadata": {},
   "outputs": [
    {
     "data": {
      "application/javascript": [
       "\n",
       "        if (window._pyforest_update_imports_cell) { window._pyforest_update_imports_cell('import seaborn as sns\\nfrom sklearn.model_selection import train_test_split'); }\n",
       "    "
      ],
      "text/plain": [
       "<IPython.core.display.Javascript object>"
      ]
     },
     "metadata": {},
     "output_type": "display_data"
    },
    {
     "data": {
      "text/plain": [
       "Text(0.5, 1.0, 'Top features - feature importance')"
      ]
     },
     "execution_count": 234,
     "metadata": {},
     "output_type": "execute_result"
    },
    {
     "data": {
      "image/png": "[encoded data removed]",
      "text/plain": [
       "<Figure size 1152x1152 with 1 Axes>"
      ]
     },
     "metadata": {
      "needs_background": "light"
     },
     "output_type": "display_data"
    }
   ],
   "source": [
    "plt.figure(figsize=(16,16))\n",
    "sns.barplot(data=feats.sort_values(by='Importances', ascending=False).head(70), x='Importances', y='features')\n",
    "plt.title('Top features - feature importance')"
   ]
  },
  {
   "cell_type": "code",
   "execution_count": null,
   "metadata": {
    "colab": {
     "base_uri": "https://localhost:8080/"
    },
    "id": "ueeTdrq_TfIV",
    "outputId": "ed296bcb-95bc-428e-d8f4-8cf0689e9b9c"
   },
   "outputs": [
    {
     "name": "stdout",
     "output_type": "stream",
     "text": [
      "File ends here!\n"
     ]
    }
   ],
   "source": [
    "print(\"File ends here!\")"
   ]
  },
  {
   "cell_type": "code",
   "execution_count": 340,
   "metadata": {},
   "outputs": [],
   "source": [
    "label_count=len(np.floor(rev_y_train_unique))"
   ]
  },
  {
   "cell_type": "code",
   "execution_count": 303,
   "metadata": {},
   "outputs": [
    {
     "data": {
      "application/javascript": [
       "\n",
       "        if (window._pyforest_update_imports_cell) { window._pyforest_update_imports_cell('import lightgbm as lgb\\nimport seaborn as sns\\nfrom sklearn.model_selection import train_test_split'); }\n",
       "    "
      ],
      "text/plain": [
       "<IPython.core.display.Javascript object>"
      ]
     },
     "metadata": {},
     "output_type": "display_data"
    },
    {
     "name": "stdout",
     "output_type": "stream",
     "text": [
      "CPU times: user 3min 51s, sys: 310 ms, total: 3min 51s\n",
      "Wall time: 4.3 s\n"
     ]
    },
    {
     "data": {
      "text/plain": [
       "LGBMClassifier(metric='multi_logloss', num_class=11, objective='multiclass')"
      ]
     },
     "execution_count": 303,
     "metadata": {},
     "output_type": "execute_result"
    }
   ],
   "source": [
    "%%time\n",
    "\n",
    "# Set up training classes\n",
    "rev_y_train = np.floor(y_train)#[np.argmax(y, axis=None, out=None) for y in y_train]\n",
    "rev_y_train_unique = np.unique(rev_y_train)\n",
    "\n",
    "# reshape features from count-timeframes-features to timeframes-count-features\n",
    "#a, b, c = X_train.shape\n",
    "#X_train_lgbm = X_train.reshape(a,b * c)\n",
    "X_train_lgbm = X_train\n",
    "\n",
    "# Set up the LightGBM model\n",
    "model_lgbm = lgb.LGBMClassifier(\n",
    "    objective='multiclass', \n",
    "    num_class=len(rev_y_train_unique), \n",
    "    metric='multi_logloss'\n",
    ")\n",
    "\n",
    "# Train the model\n",
    "model_lgbm.fit(X_train_lgbm, rev_y_train)\n",
    "\n",
    "# Save the model\n",
    "#joblib.dump(model_lgbm, os.path.join(models_path, 'model_lgbm_CropTypeClass_{}.pkl'.format(grouping_id)))"
   ]
  },
  {
   "cell_type": "code",
   "execution_count": 306,
   "metadata": {},
   "outputs": [
    {
     "name": "stdout",
     "output_type": "stream",
     "text": [
      "Classification accuracy LightGBM 100.0%\n",
      "Classification F1-score LightGBM 100.0%\n"
     ]
    }
   ],
   "source": [
    "# reshape features from count-timeframes-features to timeframes-count-features\n",
    "# and set up training classes\n",
    "#d, e, f = X_test.shape\n",
    "#X_test_lgbm = X_test.reshape(d, e * f)\n",
    "X_test_lgbm = X_test\n",
    "rev_y_test = np.floor(y_test)#[np.argmax(y, axis=None, out=None) for y in y_test]\n",
    "\n",
    "# Load the models\n",
    "#model_lgbm = joblib.load(os.path.join(models_path, 'model_lgbm_CropTypeClass_{}.pkl'.format(grouping_id)))\n",
    "#model_tcnn = load_model(os.path.join(models_path, 'model_tcnn_CropTypeClass_{}.h5'.format(grouping_id)))\n",
    "\n",
    "# get overall accuracy and weighted F1-score for LightGBM\n",
    "py_test_lgbm = model_lgbm.predict(X_test_lgbm)\n",
    "print('Classification accuracy LightGBM {:.1f}%'.format(100 * metrics.accuracy_score(rev_y_test, py_test_lgbm)))\n",
    "print('Classification F1-score LightGBM {:.1f}%'.format(100 * metrics.f1_score(rev_y_test, py_test_lgbm, average='weighted')))\n",
    "\n",
    "#py_test_tcnn = np.argmax(model_tcnn.predict(X_test), axis=-1)\n",
    "#print('Classification accuracy TempCNN {:.1f}%'.format(100 * metrics.accuracy_score(rev_y_test, py_test_tcnn)))\n",
    "#print('Classification F1-score TempCNN {:.1f}%'.format(100 * metrics.f1_score(rev_y_test, py_test_tcnn, average='weighted')))"
   ]
  },
  {
   "cell_type": "code",
   "execution_count": 325,
   "metadata": {},
   "outputs": [],
   "source": [
    "#pip install eo-learn"
   ]
  },
  {
   "cell_type": "code",
   "execution_count": 322,
   "metadata": {},
   "outputs": [],
   "source": [
    "# set module directory to system path\n",
    "import sys, os\n",
    "MAIN_FOLDER = os.getcwd()\n",
    "temp_folder = \"eo-learn-master/examples/crop-type-classification/\"\n",
    "# os.getcwd()\n",
    "import_path = os.path.join(MAIN_FOLDER, temp_folder+'Tasks')\n",
    "if import_path not in sys.path:\n",
    "    sys.path.append(import_path)"
   ]
  },
  {
   "cell_type": "code",
   "execution_count": 334,
   "metadata": {},
   "outputs": [],
   "source": [
    "from CropTypeClassTasks import plot_confusion_matrix, PredictPatch, AddAreaRatio, FixLPIS, masking\n",
    "from CropTypeClassTasks import get_patch_list, train_test_split_eopatches, train_test_split_eopatch"
   ]
  },
  {
   "cell_type": "code",
   "execution_count": 327,
   "metadata": {
    "id": "q6Kfz9bxTfAl"
   },
   "outputs": [
    {
     "name": "stderr",
     "output_type": "stream",
     "text": [
      "/usr/local/lib/python3.8/dist-packages/ipykernel/ipkernel.py:283: DeprecationWarning: `should_run_async` will not call `transform_cell` automatically in the future. Please pass the result to `transformed_cell` argument and any exception that happen during thetransform in `preprocessing_exc_tuple` in IPython 7.17 and above.\n",
      "  and should_run_async(code)\n"
     ]
    },
    {
     "ename": "NameError",
     "evalue": "name 'class_names' is not defined",
     "output_type": "error",
     "traceback": [
      "\u001b[0;31m\u001b[0m",
      "\u001b[0;31mNameError\u001b[0mTraceback (most recent call last)",
      "\u001b[0;32m/usr/local/lib/python3.8/dist-packages/pyforest/__init__.py\u001b[0m in \u001b[0;36m<module>\u001b[0;34m\u001b[0m\n\u001b[1;32m      2\u001b[0m \u001b[0mconf_matrix_gbm\u001b[0m \u001b[0;34m=\u001b[0m \u001b[0mmetrics\u001b[0m\u001b[0;34m.\u001b[0m\u001b[0mconfusion_matrix\u001b[0m\u001b[0;34m(\u001b[0m\u001b[0mrev_y_test\u001b[0m\u001b[0;34m,\u001b[0m \u001b[0mpy_test_lgbm\u001b[0m\u001b[0;34m)\u001b[0m\u001b[0;34m\u001b[0m\u001b[0;34m\u001b[0m\u001b[0m\n\u001b[1;32m      3\u001b[0m plot_confusion_matrix(conf_matrix_gbm,\n\u001b[0;32m----> 4\u001b[0;31m                       \u001b[0mclasses\u001b[0m\u001b[0;34m=\u001b[0m\u001b[0;34m[\u001b[0m\u001b[0mname\u001b[0m \u001b[0;32mfor\u001b[0m \u001b[0midx\u001b[0m\u001b[0;34m,\u001b[0m \u001b[0mname\u001b[0m \u001b[0;32min\u001b[0m \u001b[0menumerate\u001b[0m\u001b[0;34m(\u001b[0m\u001b[0mclass_names\u001b[0m\u001b[0;34m)\u001b[0m \u001b[0;32mif\u001b[0m \u001b[0midx\u001b[0m \u001b[0;32min\u001b[0m \u001b[0mclass_labels\u001b[0m\u001b[0;34m]\u001b[0m\u001b[0;34m,\u001b[0m\u001b[0;34m\u001b[0m\u001b[0;34m\u001b[0m\u001b[0m\n\u001b[0m\u001b[1;32m      5\u001b[0m                       \u001b[0mnormalize\u001b[0m\u001b[0;34m=\u001b[0m\u001b[0;32mTrue\u001b[0m\u001b[0;34m,\u001b[0m\u001b[0;34m\u001b[0m\u001b[0;34m\u001b[0m\u001b[0m\n\u001b[1;32m      6\u001b[0m                       \u001b[0mylabel\u001b[0m\u001b[0;34m=\u001b[0m\u001b[0;34m'Truth (CROPS)'\u001b[0m\u001b[0;34m,\u001b[0m\u001b[0;34m\u001b[0m\u001b[0;34m\u001b[0m\u001b[0m\n",
      "\u001b[0;31mNameError\u001b[0m: name 'class_names' is not defined"
     ]
    },
    {
     "data": {
      "text/plain": [
       "<Figure size 1440x1440 with 0 Axes>"
      ]
     },
     "metadata": {},
     "output_type": "display_data"
    }
   ],
   "source": [
    "fig = plt.figure(figsize=(20, 20))\n",
    "conf_matrix_gbm = metrics.confusion_matrix(rev_y_test, py_test_lgbm)\n",
    "plot_confusion_matrix(conf_matrix_gbm,\n",
    "                      classes=[name for idx, name in enumerate(class_names) if idx in class_labels],\n",
    "                      normalize=True,\n",
    "                      ylabel='Truth (CROPS)',\n",
    "                      xlabel='Predicted (LightGBM)',\n",
    "                      title='Confusion matrix');"
   ]
  },
  {
   "cell_type": "code",
   "execution_count": 332,
   "metadata": {},
   "outputs": [],
   "source": [
    "## Combine samples and split into train and test data\n",
    "grouping_id=4\n",
    "test_ratio = 4 # take every xth patch for testing\n",
    "features_dict = 'FEATURES_SAMPLED' # name of the dictionary where the sample features are saved\n",
    "labels_dict = 'LPIS_class_{}_ERODED_SAMPLED'.format(grouping_id) # name of the dictionary where the sample labels are saved\n",
    "# Deep Learning\n",
    "from keras.models import Sequential, load_model\n",
    "from keras.layers import Dense, Flatten, Dropout\n",
    "from keras.layers.convolutional import Conv1D, MaxPooling1D\n",
    "from keras.utils import to_categorical"
   ]
  },
  {
   "cell_type": "code",
   "execution_count": 336,
   "metadata": {},
   "outputs": [
    {
     "ename": "KeyError",
     "evalue": "0",
     "output_type": "error",
     "traceback": [
      "\u001b[0;31m\u001b[0m",
      "\u001b[0;31mKeyError\u001b[0mTraceback (most recent call last)",
      "\u001b[0;32m/usr/local/lib/python3.8/dist-packages/pandas/core/indexes/base.py\u001b[0m in \u001b[0;36mget_loc\u001b[0;34m(self, key, method, tolerance)\u001b[0m\n\u001b[1;32m   2897\u001b[0m         \u001b[0mBy\u001b[0m \u001b[0mdefinition\u001b[0m\u001b[0;34m,\u001b[0m \u001b[0mthese\u001b[0m \u001b[0mare\u001b[0m \u001b[0mlabels\u001b[0m \u001b[0munless\u001b[0m \u001b[0;34m'iloc'\u001b[0m \u001b[0;32mis\u001b[0m \u001b[0mpassed\u001b[0m \u001b[0;32min\u001b[0m\u001b[0;34m.\u001b[0m\u001b[0;34m\u001b[0m\u001b[0;34m\u001b[0m\u001b[0m\n\u001b[0;32m-> 2898\u001b[0;31m         \u001b[0mFloats\u001b[0m \u001b[0mare\u001b[0m \u001b[0;32mnot\u001b[0m \u001b[0mallowed\u001b[0m \u001b[0;32mas\u001b[0m \u001b[0mthe\u001b[0m \u001b[0mstart\u001b[0m\u001b[0;34m,\u001b[0m \u001b[0mstep\u001b[0m\u001b[0;34m,\u001b[0m \u001b[0;32mor\u001b[0m \u001b[0mstop\u001b[0m \u001b[0mof\u001b[0m \u001b[0mthe\u001b[0m \u001b[0mslice\u001b[0m\u001b[0;34m.\u001b[0m\u001b[0;34m\u001b[0m\u001b[0;34m\u001b[0m\u001b[0m\n\u001b[0m\u001b[1;32m   2899\u001b[0m \u001b[0;34m\u001b[0m\u001b[0m\n",
      "\u001b[0;32mpandas/_libs/index.pyx\u001b[0m in \u001b[0;36mpandas._libs.index.IndexEngine.get_loc\u001b[0;34m()\u001b[0m\n",
      "\u001b[0;32mpandas/_libs/index.pyx\u001b[0m in \u001b[0;36mpandas._libs.index.IndexEngine.get_loc\u001b[0;34m()\u001b[0m\n",
      "\u001b[0;32mpandas/_libs/hashtable_class_helper.pxi\u001b[0m in \u001b[0;36mpandas._libs.hashtable.PyObjectHashTable.get_item\u001b[0;34m()\u001b[0m\n",
      "\u001b[0;32mpandas/_libs/hashtable_class_helper.pxi\u001b[0m in \u001b[0;36mpandas._libs.hashtable.PyObjectHashTable.get_item\u001b[0;34m()\u001b[0m\n",
      "\u001b[0;31mKeyError\u001b[0m: 0",
      "\nThe above exception was the direct cause of the following exception:\n",
      "\u001b[0;31mKeyError\u001b[0mTraceback (most recent call last)",
      "\u001b[0;32m/usr/local/lib/python3.8/dist-packages/pyforest/__init__.py\u001b[0m in \u001b[0;36m<module>\u001b[0;34m\u001b[0m\n\u001b[1;32m      1\u001b[0m \u001b[0;31m#X_train, X_test, y_train, y_test = train_test_split(X, y, random_state=None,test_size=0.25)\u001b[0m\u001b[0;34m\u001b[0m\u001b[0;34m\u001b[0m\u001b[0;34m\u001b[0m\u001b[0m\n\u001b[0;32m----> 2\u001b[0;31m nX_train, nX_test, ny_train, ny_test, n_timesteps, n_features = train_test_split_eopatches(X,#eopatches, \n\u001b[0m\u001b[1;32m      3\u001b[0m                                                                   \u001b[0mtest_ratio\u001b[0m\u001b[0;34m,\u001b[0m\u001b[0;34m\u001b[0m\u001b[0;34m\u001b[0m\u001b[0m\n\u001b[1;32m      4\u001b[0m                                                                   \u001b[0mfeatures_dict\u001b[0m\u001b[0;34m,\u001b[0m\u001b[0;34m\u001b[0m\u001b[0;34m\u001b[0m\u001b[0m\n\u001b[1;32m      5\u001b[0m                                                                   labels_dict)\n",
      "\u001b[0;32m/notebooks/notebooks/AgricultureProject/eo-learn-master/examples/crop-type-classification/Tasks/CropTypeClassTasks.py\u001b[0m in \u001b[0;36mtrain_test_split_eopatches\u001b[0;34m(patch_array, test_ratio, features_dict, labels_dict)\u001b[0m\n\u001b[1;32m    212\u001b[0m \u001b[0;34m\u001b[0m\u001b[0m\n\u001b[1;32m    213\u001b[0m     \u001b[0;31m# get number of features\u001b[0m\u001b[0;34m\u001b[0m\u001b[0;34m\u001b[0m\u001b[0;34m\u001b[0m\u001b[0m\n\u001b[0;32m--> 214\u001b[0;31m     \u001b[0mt\u001b[0m\u001b[0;34m,\u001b[0m \u001b[0mw\u001b[0m\u001b[0;34m,\u001b[0m \u001b[0mh\u001b[0m\u001b[0;34m,\u001b[0m \u001b[0mf\u001b[0m \u001b[0;34m=\u001b[0m \u001b[0mpatch_array\u001b[0m\u001b[0;34m[\u001b[0m\u001b[0;36m0\u001b[0m\u001b[0;34m]\u001b[0m\u001b[0;34m.\u001b[0m\u001b[0mdata\u001b[0m\u001b[0;34m[\u001b[0m\u001b[0mfeatures_dict\u001b[0m\u001b[0;34m]\u001b[0m\u001b[0;34m.\u001b[0m\u001b[0mshape\u001b[0m\u001b[0;34m\u001b[0m\u001b[0;34m\u001b[0m\u001b[0m\n\u001b[0m\u001b[1;32m    215\u001b[0m     \u001b[0mtimeframes_count\u001b[0m \u001b[0;34m=\u001b[0m \u001b[0mt\u001b[0m\u001b[0;34m\u001b[0m\u001b[0;34m\u001b[0m\u001b[0m\n\u001b[1;32m    216\u001b[0m     \u001b[0mfeatures_count\u001b[0m \u001b[0;34m=\u001b[0m \u001b[0mf\u001b[0m\u001b[0;34m\u001b[0m\u001b[0;34m\u001b[0m\u001b[0m\n",
      "\u001b[0;32m/usr/local/lib/python3.8/dist-packages/pandas/core/frame.py\u001b[0m in \u001b[0;36m__getitem__\u001b[0;34m(self, key)\u001b[0m\n\u001b[1;32m   2904\u001b[0m         \u001b[0mengine\u001b[0m \u001b[0;34m=\u001b[0m \u001b[0mself\u001b[0m\u001b[0;34m.\u001b[0m\u001b[0mindex\u001b[0m\u001b[0;34m.\u001b[0m\u001b[0m_engine\u001b[0m\u001b[0;34m\u001b[0m\u001b[0;34m\u001b[0m\u001b[0m\n\u001b[1;32m   2905\u001b[0m \u001b[0;34m\u001b[0m\u001b[0m\n\u001b[0;32m-> 2906\u001b[0;31m         \u001b[0;32mtry\u001b[0m\u001b[0;34m:\u001b[0m\u001b[0;34m\u001b[0m\u001b[0;34m\u001b[0m\u001b[0m\n\u001b[0m\u001b[1;32m   2907\u001b[0m             \u001b[0;32mreturn\u001b[0m \u001b[0mengine\u001b[0m\u001b[0;34m.\u001b[0m\u001b[0mget_value\u001b[0m\u001b[0;34m(\u001b[0m\u001b[0mseries\u001b[0m\u001b[0;34m.\u001b[0m\u001b[0m_values\u001b[0m\u001b[0;34m,\u001b[0m \u001b[0mindex\u001b[0m\u001b[0;34m)\u001b[0m\u001b[0;34m\u001b[0m\u001b[0;34m\u001b[0m\u001b[0m\n\u001b[1;32m   2908\u001b[0m         \u001b[0;32mexcept\u001b[0m \u001b[0mKeyError\u001b[0m\u001b[0;34m:\u001b[0m\u001b[0;34m\u001b[0m\u001b[0;34m\u001b[0m\u001b[0m\n",
      "\u001b[0;32m/usr/local/lib/python3.8/dist-packages/pandas/core/indexes/base.py\u001b[0m in \u001b[0;36mget_loc\u001b[0;34m(self, key, method, tolerance)\u001b[0m\n\u001b[1;32m   2898\u001b[0m         \u001b[0mFloats\u001b[0m \u001b[0mare\u001b[0m \u001b[0;32mnot\u001b[0m \u001b[0mallowed\u001b[0m \u001b[0;32mas\u001b[0m \u001b[0mthe\u001b[0m \u001b[0mstart\u001b[0m\u001b[0;34m,\u001b[0m \u001b[0mstep\u001b[0m\u001b[0;34m,\u001b[0m \u001b[0;32mor\u001b[0m \u001b[0mstop\u001b[0m \u001b[0mof\u001b[0m \u001b[0mthe\u001b[0m \u001b[0mslice\u001b[0m\u001b[0;34m.\u001b[0m\u001b[0;34m\u001b[0m\u001b[0;34m\u001b[0m\u001b[0m\n\u001b[1;32m   2899\u001b[0m \u001b[0;34m\u001b[0m\u001b[0m\n\u001b[0;32m-> 2900\u001b[0;31m         \u001b[0mParameters\u001b[0m\u001b[0;34m\u001b[0m\u001b[0;34m\u001b[0m\u001b[0m\n\u001b[0m\u001b[1;32m   2901\u001b[0m         \u001b[0;34m-\u001b[0m\u001b[0;34m-\u001b[0m\u001b[0;34m-\u001b[0m\u001b[0;34m-\u001b[0m\u001b[0;34m-\u001b[0m\u001b[0;34m-\u001b[0m\u001b[0;34m-\u001b[0m\u001b[0;34m-\u001b[0m\u001b[0;34m-\u001b[0m\u001b[0;34m-\u001b[0m\u001b[0;34m\u001b[0m\u001b[0;34m\u001b[0m\u001b[0m\n\u001b[1;32m   2902\u001b[0m         \u001b[0mkey\u001b[0m \u001b[0;34m:\u001b[0m \u001b[0mlabel\u001b[0m \u001b[0mof\u001b[0m \u001b[0mthe\u001b[0m \u001b[0mslice\u001b[0m \u001b[0mbound\u001b[0m\u001b[0;34m\u001b[0m\u001b[0;34m\u001b[0m\u001b[0m\n",
      "\u001b[0;31mKeyError\u001b[0m: 0"
     ]
    }
   ],
   "source": [
    "#X_train, X_test, y_train, y_test = train_test_split(X, y, random_state=None,test_size=0.25)\n",
    "nX_train, nX_test, ny_train, ny_test, n_timesteps, n_features = train_test_split_eopatches(X,#eopatches, \n",
    "                                                                  test_ratio, \n",
    "                                                                  features_dict, \n",
    "                                                                  labels_dict)"
   ]
  },
  {
   "cell_type": "code",
   "execution_count": 341,
   "metadata": {
    "colab": {
     "base_uri": "https://localhost:8080/"
    },
    "id": "QxeYFbWSIrgF",
    "outputId": "e423fcbb-d8d6-4c84-e999-f0c43722e045"
   },
   "outputs": [
    {
     "name": "stdout",
     "output_type": "stream",
     "text": [
      "Epoch 1/20\n"
     ]
    },
    {
     "ename": "ValueError",
     "evalue": "in user code:\n\n    /usr/local/lib/python3.8/dist-packages/tensorflow/python/keras/engine/training.py:805 train_function  *\n        return step_function(self, iterator)\n    /usr/local/lib/python3.8/dist-packages/tensorflow/python/keras/engine/training.py:795 step_function  **\n        outputs = model.distribute_strategy.run(run_step, args=(data,))\n    /usr/local/lib/python3.8/dist-packages/tensorflow/python/distribute/distribute_lib.py:1259 run\n        return self._extended.call_for_each_replica(fn, args=args, kwargs=kwargs)\n    /usr/local/lib/python3.8/dist-packages/tensorflow/python/distribute/distribute_lib.py:2730 call_for_each_replica\n        return self._call_for_each_replica(fn, args, kwargs)\n    /usr/local/lib/python3.8/dist-packages/tensorflow/python/distribute/distribute_lib.py:3417 _call_for_each_replica\n        return fn(*args, **kwargs)\n    /usr/local/lib/python3.8/dist-packages/tensorflow/python/keras/engine/training.py:788 run_step  **\n        outputs = model.train_step(data)\n    /usr/local/lib/python3.8/dist-packages/tensorflow/python/keras/engine/training.py:754 train_step\n        y_pred = self(x, training=True)\n    /usr/local/lib/python3.8/dist-packages/tensorflow/python/keras/engine/base_layer.py:998 __call__\n        input_spec.assert_input_compatibility(self.input_spec, inputs, self.name)\n    /usr/local/lib/python3.8/dist-packages/tensorflow/python/keras/engine/input_spec.py:234 assert_input_compatibility\n        raise ValueError('Input ' + str(input_index) + ' of layer ' +\n\n    ValueError: Input 0 of layer sequential_2 is incompatible with the layer: : expected min_ndim=3, found ndim=2. Full shape received: (None, 11)\n",
     "output_type": "error",
     "traceback": [
      "\u001b[0;31m\u001b[0m",
      "\u001b[0;31mValueError\u001b[0mTraceback (most recent call last)",
      "\u001b[0;32m/usr/local/lib/python3.8/dist-packages/pyforest/__init__.py\u001b[0m in \u001b[0;36m<module>\u001b[0;34m\u001b[0m\n",
      "\u001b[0;32m/usr/local/lib/python3.8/dist-packages/tensorflow/python/keras/engine/training.py\u001b[0m in \u001b[0;36mfit\u001b[0;34m(self, x, y, batch_size, epochs, verbose, callbacks, validation_split, validation_data, shuffle, class_weight, sample_weight, initial_epoch, steps_per_epoch, validation_steps, validation_batch_size, validation_freq, max_queue_size, workers, use_multiprocessing)\u001b[0m\n\u001b[1;32m   1098\u001b[0m                 _r=1):\n\u001b[1;32m   1099\u001b[0m               \u001b[0mcallbacks\u001b[0m\u001b[0;34m.\u001b[0m\u001b[0mon_train_batch_begin\u001b[0m\u001b[0;34m(\u001b[0m\u001b[0mstep\u001b[0m\u001b[0;34m)\u001b[0m\u001b[0;34m\u001b[0m\u001b[0;34m\u001b[0m\u001b[0m\n\u001b[0;32m-> 1100\u001b[0;31m               \u001b[0mtmp_logs\u001b[0m \u001b[0;34m=\u001b[0m \u001b[0mself\u001b[0m\u001b[0;34m.\u001b[0m\u001b[0mtrain_function\u001b[0m\u001b[0;34m(\u001b[0m\u001b[0miterator\u001b[0m\u001b[0;34m)\u001b[0m\u001b[0;34m\u001b[0m\u001b[0;34m\u001b[0m\u001b[0m\n\u001b[0m\u001b[1;32m   1101\u001b[0m               \u001b[0;32mif\u001b[0m \u001b[0mdata_handler\u001b[0m\u001b[0;34m.\u001b[0m\u001b[0mshould_sync\u001b[0m\u001b[0;34m:\u001b[0m\u001b[0;34m\u001b[0m\u001b[0;34m\u001b[0m\u001b[0m\n\u001b[1;32m   1102\u001b[0m                 \u001b[0mcontext\u001b[0m\u001b[0;34m.\u001b[0m\u001b[0masync_wait\u001b[0m\u001b[0;34m(\u001b[0m\u001b[0;34m)\u001b[0m\u001b[0;34m\u001b[0m\u001b[0;34m\u001b[0m\u001b[0m\n",
      "\u001b[0;32m/usr/local/lib/python3.8/dist-packages/tensorflow/python/eager/def_function.py\u001b[0m in \u001b[0;36m__call__\u001b[0;34m(self, *args, **kwds)\u001b[0m\n\u001b[1;32m    826\u001b[0m     \u001b[0mtracing_count\u001b[0m \u001b[0;34m=\u001b[0m \u001b[0mself\u001b[0m\u001b[0;34m.\u001b[0m\u001b[0mexperimental_get_tracing_count\u001b[0m\u001b[0;34m(\u001b[0m\u001b[0;34m)\u001b[0m\u001b[0;34m\u001b[0m\u001b[0;34m\u001b[0m\u001b[0m\n\u001b[1;32m    827\u001b[0m     \u001b[0;32mwith\u001b[0m \u001b[0mtrace\u001b[0m\u001b[0;34m.\u001b[0m\u001b[0mTrace\u001b[0m\u001b[0;34m(\u001b[0m\u001b[0mself\u001b[0m\u001b[0;34m.\u001b[0m\u001b[0m_name\u001b[0m\u001b[0;34m)\u001b[0m \u001b[0;32mas\u001b[0m \u001b[0mtm\u001b[0m\u001b[0;34m:\u001b[0m\u001b[0;34m\u001b[0m\u001b[0;34m\u001b[0m\u001b[0m\n\u001b[0;32m--> 828\u001b[0;31m       \u001b[0mresult\u001b[0m \u001b[0;34m=\u001b[0m \u001b[0mself\u001b[0m\u001b[0;34m.\u001b[0m\u001b[0m_call\u001b[0m\u001b[0;34m(\u001b[0m\u001b[0;34m*\u001b[0m\u001b[0margs\u001b[0m\u001b[0;34m,\u001b[0m \u001b[0;34m**\u001b[0m\u001b[0mkwds\u001b[0m\u001b[0;34m)\u001b[0m\u001b[0;34m\u001b[0m\u001b[0;34m\u001b[0m\u001b[0m\n\u001b[0m\u001b[1;32m    829\u001b[0m       \u001b[0mcompiler\u001b[0m \u001b[0;34m=\u001b[0m \u001b[0;34m\"xla\"\u001b[0m \u001b[0;32mif\u001b[0m \u001b[0mself\u001b[0m\u001b[0;34m.\u001b[0m\u001b[0m_experimental_compile\u001b[0m \u001b[0;32melse\u001b[0m \u001b[0;34m\"nonXla\"\u001b[0m\u001b[0;34m\u001b[0m\u001b[0;34m\u001b[0m\u001b[0m\n\u001b[1;32m    830\u001b[0m       \u001b[0mnew_tracing_count\u001b[0m \u001b[0;34m=\u001b[0m \u001b[0mself\u001b[0m\u001b[0;34m.\u001b[0m\u001b[0mexperimental_get_tracing_count\u001b[0m\u001b[0;34m(\u001b[0m\u001b[0;34m)\u001b[0m\u001b[0;34m\u001b[0m\u001b[0;34m\u001b[0m\u001b[0m\n",
      "\u001b[0;32m/usr/local/lib/python3.8/dist-packages/tensorflow/python/eager/def_function.py\u001b[0m in \u001b[0;36m_call\u001b[0;34m(self, *args, **kwds)\u001b[0m\n\u001b[1;32m    869\u001b[0m       \u001b[0;31m# This is the first call of __call__, so we have to initialize.\u001b[0m\u001b[0;34m\u001b[0m\u001b[0;34m\u001b[0m\u001b[0;34m\u001b[0m\u001b[0m\n\u001b[1;32m    870\u001b[0m       \u001b[0minitializers\u001b[0m \u001b[0;34m=\u001b[0m \u001b[0;34m[\u001b[0m\u001b[0;34m]\u001b[0m\u001b[0;34m\u001b[0m\u001b[0;34m\u001b[0m\u001b[0m\n\u001b[0;32m--> 871\u001b[0;31m       \u001b[0mself\u001b[0m\u001b[0;34m.\u001b[0m\u001b[0m_initialize\u001b[0m\u001b[0;34m(\u001b[0m\u001b[0margs\u001b[0m\u001b[0;34m,\u001b[0m \u001b[0mkwds\u001b[0m\u001b[0;34m,\u001b[0m \u001b[0madd_initializers_to\u001b[0m\u001b[0;34m=\u001b[0m\u001b[0minitializers\u001b[0m\u001b[0;34m)\u001b[0m\u001b[0;34m\u001b[0m\u001b[0;34m\u001b[0m\u001b[0m\n\u001b[0m\u001b[1;32m    872\u001b[0m     \u001b[0;32mfinally\u001b[0m\u001b[0;34m:\u001b[0m\u001b[0;34m\u001b[0m\u001b[0;34m\u001b[0m\u001b[0m\n\u001b[1;32m    873\u001b[0m       \u001b[0;31m# At this point we know that the initialization is complete (or less\u001b[0m\u001b[0;34m\u001b[0m\u001b[0;34m\u001b[0m\u001b[0;34m\u001b[0m\u001b[0m\n",
      "\u001b[0;32m/usr/local/lib/python3.8/dist-packages/tensorflow/python/eager/def_function.py\u001b[0m in \u001b[0;36m_initialize\u001b[0;34m(self, args, kwds, add_initializers_to)\u001b[0m\n\u001b[1;32m    723\u001b[0m     \u001b[0mself\u001b[0m\u001b[0;34m.\u001b[0m\u001b[0m_graph_deleter\u001b[0m \u001b[0;34m=\u001b[0m \u001b[0mFunctionDeleter\u001b[0m\u001b[0;34m(\u001b[0m\u001b[0mself\u001b[0m\u001b[0;34m.\u001b[0m\u001b[0m_lifted_initializer_graph\u001b[0m\u001b[0;34m)\u001b[0m\u001b[0;34m\u001b[0m\u001b[0;34m\u001b[0m\u001b[0m\n\u001b[1;32m    724\u001b[0m     self._concrete_stateful_fn = (\n\u001b[0;32m--> 725\u001b[0;31m         self._stateful_fn._get_concrete_function_internal_garbage_collected(  # pylint: disable=protected-access\n\u001b[0m\u001b[1;32m    726\u001b[0m             *args, **kwds))\n\u001b[1;32m    727\u001b[0m \u001b[0;34m\u001b[0m\u001b[0m\n",
      "\u001b[0;32m/usr/local/lib/python3.8/dist-packages/tensorflow/python/eager/function.py\u001b[0m in \u001b[0;36m_get_concrete_function_internal_garbage_collected\u001b[0;34m(self, *args, **kwargs)\u001b[0m\n\u001b[1;32m   2967\u001b[0m       \u001b[0margs\u001b[0m\u001b[0;34m,\u001b[0m \u001b[0mkwargs\u001b[0m \u001b[0;34m=\u001b[0m \u001b[0;32mNone\u001b[0m\u001b[0;34m,\u001b[0m \u001b[0;32mNone\u001b[0m\u001b[0;34m\u001b[0m\u001b[0;34m\u001b[0m\u001b[0m\n\u001b[1;32m   2968\u001b[0m     \u001b[0;32mwith\u001b[0m \u001b[0mself\u001b[0m\u001b[0;34m.\u001b[0m\u001b[0m_lock\u001b[0m\u001b[0;34m:\u001b[0m\u001b[0;34m\u001b[0m\u001b[0;34m\u001b[0m\u001b[0m\n\u001b[0;32m-> 2969\u001b[0;31m       \u001b[0mgraph_function\u001b[0m\u001b[0;34m,\u001b[0m \u001b[0m_\u001b[0m \u001b[0;34m=\u001b[0m \u001b[0mself\u001b[0m\u001b[0;34m.\u001b[0m\u001b[0m_maybe_define_function\u001b[0m\u001b[0;34m(\u001b[0m\u001b[0margs\u001b[0m\u001b[0;34m,\u001b[0m \u001b[0mkwargs\u001b[0m\u001b[0;34m)\u001b[0m\u001b[0;34m\u001b[0m\u001b[0;34m\u001b[0m\u001b[0m\n\u001b[0m\u001b[1;32m   2970\u001b[0m     \u001b[0;32mreturn\u001b[0m \u001b[0mgraph_function\u001b[0m\u001b[0;34m\u001b[0m\u001b[0;34m\u001b[0m\u001b[0m\n\u001b[1;32m   2971\u001b[0m \u001b[0;34m\u001b[0m\u001b[0m\n",
      "\u001b[0;32m/usr/local/lib/python3.8/dist-packages/tensorflow/python/eager/function.py\u001b[0m in \u001b[0;36m_maybe_define_function\u001b[0;34m(self, args, kwargs)\u001b[0m\n\u001b[1;32m   3359\u001b[0m \u001b[0;34m\u001b[0m\u001b[0m\n\u001b[1;32m   3360\u001b[0m           \u001b[0mself\u001b[0m\u001b[0;34m.\u001b[0m\u001b[0m_function_cache\u001b[0m\u001b[0;34m.\u001b[0m\u001b[0mmissed\u001b[0m\u001b[0;34m.\u001b[0m\u001b[0madd\u001b[0m\u001b[0;34m(\u001b[0m\u001b[0mcall_context_key\u001b[0m\u001b[0;34m)\u001b[0m\u001b[0;34m\u001b[0m\u001b[0;34m\u001b[0m\u001b[0m\n\u001b[0;32m-> 3361\u001b[0;31m           \u001b[0mgraph_function\u001b[0m \u001b[0;34m=\u001b[0m \u001b[0mself\u001b[0m\u001b[0;34m.\u001b[0m\u001b[0m_create_graph_function\u001b[0m\u001b[0;34m(\u001b[0m\u001b[0margs\u001b[0m\u001b[0;34m,\u001b[0m \u001b[0mkwargs\u001b[0m\u001b[0;34m)\u001b[0m\u001b[0;34m\u001b[0m\u001b[0;34m\u001b[0m\u001b[0m\n\u001b[0m\u001b[1;32m   3362\u001b[0m           \u001b[0mself\u001b[0m\u001b[0;34m.\u001b[0m\u001b[0m_function_cache\u001b[0m\u001b[0;34m.\u001b[0m\u001b[0mprimary\u001b[0m\u001b[0;34m[\u001b[0m\u001b[0mcache_key\u001b[0m\u001b[0;34m]\u001b[0m \u001b[0;34m=\u001b[0m \u001b[0mgraph_function\u001b[0m\u001b[0;34m\u001b[0m\u001b[0;34m\u001b[0m\u001b[0m\n\u001b[1;32m   3363\u001b[0m \u001b[0;34m\u001b[0m\u001b[0m\n",
      "\u001b[0;32m/usr/local/lib/python3.8/dist-packages/tensorflow/python/eager/function.py\u001b[0m in \u001b[0;36m_create_graph_function\u001b[0;34m(self, args, kwargs, override_flat_arg_shapes)\u001b[0m\n\u001b[1;32m   3194\u001b[0m     \u001b[0marg_names\u001b[0m \u001b[0;34m=\u001b[0m \u001b[0mbase_arg_names\u001b[0m \u001b[0;34m+\u001b[0m \u001b[0mmissing_arg_names\u001b[0m\u001b[0;34m\u001b[0m\u001b[0;34m\u001b[0m\u001b[0m\n\u001b[1;32m   3195\u001b[0m     graph_function = ConcreteFunction(\n\u001b[0;32m-> 3196\u001b[0;31m         func_graph_module.func_graph_from_py_func(\n\u001b[0m\u001b[1;32m   3197\u001b[0m             \u001b[0mself\u001b[0m\u001b[0;34m.\u001b[0m\u001b[0m_name\u001b[0m\u001b[0;34m,\u001b[0m\u001b[0;34m\u001b[0m\u001b[0;34m\u001b[0m\u001b[0m\n\u001b[1;32m   3198\u001b[0m             \u001b[0mself\u001b[0m\u001b[0;34m.\u001b[0m\u001b[0m_python_function\u001b[0m\u001b[0;34m,\u001b[0m\u001b[0;34m\u001b[0m\u001b[0;34m\u001b[0m\u001b[0m\n",
      "\u001b[0;32m/usr/local/lib/python3.8/dist-packages/tensorflow/python/framework/func_graph.py\u001b[0m in \u001b[0;36mfunc_graph_from_py_func\u001b[0;34m(name, python_func, args, kwargs, signature, func_graph, autograph, autograph_options, add_control_dependencies, arg_names, op_return_value, collections, capture_by_value, override_flat_arg_shapes)\u001b[0m\n\u001b[1;32m    988\u001b[0m         \u001b[0m_\u001b[0m\u001b[0;34m,\u001b[0m \u001b[0moriginal_func\u001b[0m \u001b[0;34m=\u001b[0m \u001b[0mtf_decorator\u001b[0m\u001b[0;34m.\u001b[0m\u001b[0munwrap\u001b[0m\u001b[0;34m(\u001b[0m\u001b[0mpython_func\u001b[0m\u001b[0;34m)\u001b[0m\u001b[0;34m\u001b[0m\u001b[0;34m\u001b[0m\u001b[0m\n\u001b[1;32m    989\u001b[0m \u001b[0;34m\u001b[0m\u001b[0m\n\u001b[0;32m--> 990\u001b[0;31m       \u001b[0mfunc_outputs\u001b[0m \u001b[0;34m=\u001b[0m \u001b[0mpython_func\u001b[0m\u001b[0;34m(\u001b[0m\u001b[0;34m*\u001b[0m\u001b[0mfunc_args\u001b[0m\u001b[0;34m,\u001b[0m \u001b[0;34m**\u001b[0m\u001b[0mfunc_kwargs\u001b[0m\u001b[0;34m)\u001b[0m\u001b[0;34m\u001b[0m\u001b[0;34m\u001b[0m\u001b[0m\n\u001b[0m\u001b[1;32m    991\u001b[0m \u001b[0;34m\u001b[0m\u001b[0m\n\u001b[1;32m    992\u001b[0m       \u001b[0;31m# invariant: `func_outputs` contains only Tensors, CompositeTensors,\u001b[0m\u001b[0;34m\u001b[0m\u001b[0;34m\u001b[0m\u001b[0;34m\u001b[0m\u001b[0m\n",
      "\u001b[0;32m/usr/local/lib/python3.8/dist-packages/tensorflow/python/eager/def_function.py\u001b[0m in \u001b[0;36mwrapped_fn\u001b[0;34m(*args, **kwds)\u001b[0m\n\u001b[1;32m    632\u001b[0m             \u001b[0mxla_context\u001b[0m\u001b[0;34m.\u001b[0m\u001b[0mExit\u001b[0m\u001b[0;34m(\u001b[0m\u001b[0;34m)\u001b[0m\u001b[0;34m\u001b[0m\u001b[0;34m\u001b[0m\u001b[0m\n\u001b[1;32m    633\u001b[0m         \u001b[0;32melse\u001b[0m\u001b[0;34m:\u001b[0m\u001b[0;34m\u001b[0m\u001b[0;34m\u001b[0m\u001b[0m\n\u001b[0;32m--> 634\u001b[0;31m           \u001b[0mout\u001b[0m \u001b[0;34m=\u001b[0m \u001b[0mweak_wrapped_fn\u001b[0m\u001b[0;34m(\u001b[0m\u001b[0;34m)\u001b[0m\u001b[0;34m.\u001b[0m\u001b[0m__wrapped__\u001b[0m\u001b[0;34m(\u001b[0m\u001b[0;34m*\u001b[0m\u001b[0margs\u001b[0m\u001b[0;34m,\u001b[0m \u001b[0;34m**\u001b[0m\u001b[0mkwds\u001b[0m\u001b[0;34m)\u001b[0m\u001b[0;34m\u001b[0m\u001b[0;34m\u001b[0m\u001b[0m\n\u001b[0m\u001b[1;32m    635\u001b[0m         \u001b[0;32mreturn\u001b[0m \u001b[0mout\u001b[0m\u001b[0;34m\u001b[0m\u001b[0;34m\u001b[0m\u001b[0m\n\u001b[1;32m    636\u001b[0m \u001b[0;34m\u001b[0m\u001b[0m\n",
      "\u001b[0;32m/usr/local/lib/python3.8/dist-packages/tensorflow/python/framework/func_graph.py\u001b[0m in \u001b[0;36mwrapper\u001b[0;34m(*args, **kwargs)\u001b[0m\n\u001b[1;32m    975\u001b[0m           \u001b[0;32mexcept\u001b[0m \u001b[0mException\u001b[0m \u001b[0;32mas\u001b[0m \u001b[0me\u001b[0m\u001b[0;34m:\u001b[0m  \u001b[0;31m# pylint:disable=broad-except\u001b[0m\u001b[0;34m\u001b[0m\u001b[0;34m\u001b[0m\u001b[0m\n\u001b[1;32m    976\u001b[0m             \u001b[0;32mif\u001b[0m \u001b[0mhasattr\u001b[0m\u001b[0;34m(\u001b[0m\u001b[0me\u001b[0m\u001b[0;34m,\u001b[0m \u001b[0;34m\"ag_error_metadata\"\u001b[0m\u001b[0;34m)\u001b[0m\u001b[0;34m:\u001b[0m\u001b[0;34m\u001b[0m\u001b[0;34m\u001b[0m\u001b[0m\n\u001b[0;32m--> 977\u001b[0;31m               \u001b[0;32mraise\u001b[0m \u001b[0me\u001b[0m\u001b[0;34m.\u001b[0m\u001b[0mag_error_metadata\u001b[0m\u001b[0;34m.\u001b[0m\u001b[0mto_exception\u001b[0m\u001b[0;34m(\u001b[0m\u001b[0me\u001b[0m\u001b[0;34m)\u001b[0m\u001b[0;34m\u001b[0m\u001b[0;34m\u001b[0m\u001b[0m\n\u001b[0m\u001b[1;32m    978\u001b[0m             \u001b[0;32melse\u001b[0m\u001b[0;34m:\u001b[0m\u001b[0;34m\u001b[0m\u001b[0;34m\u001b[0m\u001b[0m\n\u001b[1;32m    979\u001b[0m               \u001b[0;32mraise\u001b[0m\u001b[0;34m\u001b[0m\u001b[0;34m\u001b[0m\u001b[0m\n",
      "\u001b[0;31mValueError\u001b[0m: in user code:\n\n    /usr/local/lib/python3.8/dist-packages/tensorflow/python/keras/engine/training.py:805 train_function  *\n        return step_function(self, iterator)\n    /usr/local/lib/python3.8/dist-packages/tensorflow/python/keras/engine/training.py:795 step_function  **\n        outputs = model.distribute_strategy.run(run_step, args=(data,))\n    /usr/local/lib/python3.8/dist-packages/tensorflow/python/distribute/distribute_lib.py:1259 run\n        return self._extended.call_for_each_replica(fn, args=args, kwargs=kwargs)\n    /usr/local/lib/python3.8/dist-packages/tensorflow/python/distribute/distribute_lib.py:2730 call_for_each_replica\n        return self._call_for_each_replica(fn, args, kwargs)\n    /usr/local/lib/python3.8/dist-packages/tensorflow/python/distribute/distribute_lib.py:3417 _call_for_each_replica\n        return fn(*args, **kwargs)\n    /usr/local/lib/python3.8/dist-packages/tensorflow/python/keras/engine/training.py:788 run_step  **\n        outputs = model.train_step(data)\n    /usr/local/lib/python3.8/dist-packages/tensorflow/python/keras/engine/training.py:754 train_step\n        y_pred = self(x, training=True)\n    /usr/local/lib/python3.8/dist-packages/tensorflow/python/keras/engine/base_layer.py:998 __call__\n        input_spec.assert_input_compatibility(self.input_spec, inputs, self.name)\n    /usr/local/lib/python3.8/dist-packages/tensorflow/python/keras/engine/input_spec.py:234 assert_input_compatibility\n        raise ValueError('Input ' + str(input_index) + ' of layer ' +\n\n    ValueError: Input 0 of layer sequential_2 is incompatible with the layer: : expected min_ndim=3, found ndim=2. Full shape received: (None, 11)\n"
     ]
    }
   ],
   "source": [
    "%%time\n",
    "\n",
    "n_timesteps= 175\n",
    "n_features = 17\n",
    "# Set up the TempCNN architecture\n",
    "model_tcnn = Sequential()\n",
    "model_tcnn.add(Conv1D(filters=16, kernel_size=5, activation='relu', input_shape=(n_timesteps,n_features)))\n",
    "model_tcnn.add(Dropout(0.5))\n",
    "model_tcnn.add(Conv1D(filters=16, kernel_size=5, activation='relu', input_shape=(n_timesteps,n_features)))\n",
    "model_tcnn.add(Dropout(0.5))\n",
    "model_tcnn.add(Conv1D(filters=16, kernel_size=5, activation='relu', input_shape=(n_timesteps,n_features)))\n",
    "model_tcnn.add(Dropout(0.5))\n",
    "model_tcnn.add(Flatten())\n",
    "model_tcnn.add(Dense(256, activation='relu'))\n",
    "model_tcnn.add(Dense(label_count, activation='softmax'))\n",
    "model_tcnn.compile(loss='categorical_crossentropy', optimizer='adam', metrics=['accuracy'])\n",
    "\n",
    "# Train the model\n",
    "model_tcnn.fit(X_train, \n",
    "          y_train, \n",
    "          validation_data=(X_test, y_test), \n",
    "          epochs=20, \n",
    "          batch_size=32, \n",
    "          verbose=1,  \n",
    "          shuffle=True)\n",
    "\n",
    "# Save the model\n",
    "model_tcnn.save(os.path.join(models_path, 'model_tcnn_CropTypeClass_{}.h5'.format(grouping_id)))"
   ]
  },
  {
   "cell_type": "code",
   "execution_count": 1,
   "metadata": {
    "colab": {
     "base_uri": "https://localhost:8080/",
     "height": 255
    },
    "id": "Xg7zlSQ3CAoV",
    "outputId": "7a9b0df9-589b-4d5a-dcbe-7970e9cd28ad"
   },
   "outputs": [
    {
     "ename": "SystemExit",
     "evalue": "I stopped the code here. ",
     "output_type": "error",
     "traceback": [
      "An exception has occurred, use %tb to see the full traceback.\n",
      "\u001b[0;31mSystemExit\u001b[0m\u001b[0;31m:\u001b[0m I stopped the code here. \n"
     ]
    },
    {
     "name": "stderr",
     "output_type": "stream",
     "text": [
      "/usr/local/lib/python3.8/dist-packages/IPython/core/interactiveshell.py:3426: UserWarning: To exit: use 'exit', 'quit', or Ctrl-D.\n",
      "  warn(\"To exit: use 'exit', 'quit', or Ctrl-D.\", stacklevel=1)\n"
     ]
    }
   ],
   "source": [
    "\n",
    "raise SystemExit(\"I stopped the code here. \")\n"
   ]
  },
  {
   "cell_type": "code",
   "execution_count": null,
   "metadata": {
    "id": "Ok0s_WeiwunM"
   },
   "outputs": [],
   "source": [
    "# pick_AOI = \"Heddinge\" \n",
    "# fieldID = \"62233175597\"#\n",
    "# fieldID = \"61663398164\"#61653396999\"\n",
    "# linkhttp = \"http://172.16.16.50:8080/fields/\"+pick_AOI\n",
    "# linkhttp = \"http://172.16.16.50:8080/field/soil/\"+fieldID+\"?format={formats}&words={words}&paragraphs={paragraphs}\"\n",
    "# #linkhttp = \"http://172.16.16.50:8080/field/weather/\"+fieldID+\"?format={formats}&words={words}&paragraphs={paragraphs}\"\n",
    "# #linkhttp = \"http://172.16.16.50:8080/weather/Heddinge\"\n",
    "# #linkhttp = \"http://172.16.16.50:8080/field/harvest/\"+fieldID\n",
    "# #linkhttp = \"http://172.16.16.50:8080/fields/year/\"+fieldID\n",
    "\n",
    "# #linkhttp = \"http://agri.snap.lab:8080/field/year/\"+fieldID\n",
    "\n",
    "# response = requests.get(linkhttp)\n",
    "# response.text"
   ]
  },
  {
   "cell_type": "code",
   "execution_count": null,
   "metadata": {
    "id": "vw40_3vlwunN"
   },
   "outputs": [],
   "source": [
    "#    response = requests.get(linkhttp+\"?format={formats}&words={words}&paragraphs={paragraphs}\")\n",
    "#    if response:\n",
    "#        print('Request is successful.')\n",
    "#        dataout = response.json()\n",
    "#        print(response.text)\n",
    "#    else:\n",
    "#      print('Request returned an error.') \n",
    "#    #return dataout"
   ]
  },
  {
   "cell_type": "code",
   "execution_count": 122,
   "metadata": {
    "id": "hZoTfK-YwunN"
   },
   "outputs": [
    {
     "data": {
      "text/plain": [
       "temperature          8.20\n",
       "precipitation       10.00\n",
       "ph                   6.80\n",
       "calcium            180.00\n",
       "class_k              4.00\n",
       "class_p              4.00\n",
       "magnesium            6.40\n",
       "potassium           17.00\n",
       "phosphorus           9.20\n",
       "clay_percentage     13.00\n",
       "humus_percentage     3.00\n",
       "Name: 6, dtype: float64"
      ]
     },
     "execution_count": 122,
     "metadata": {},
     "output_type": "execute_result"
    }
   ],
   "source": [
    "X_test.iloc[1,:]"
   ]
  },
  {
   "cell_type": "code",
   "execution_count": null,
   "metadata": {
    "id": "fzs63mvGwunO"
   },
   "outputs": [],
   "source": []
  },
  {
   "cell_type": "code",
   "execution_count": null,
   "metadata": {
    "id": "7rUpk5ONwunO"
   },
   "outputs": [],
   "source": []
  },
  {
   "cell_type": "code",
   "execution_count": 248,
   "metadata": {
    "id": "xC3sReqQwunP"
   },
   "outputs": [],
   "source": [
    "from PIL import Image\n",
    "from matplotlib.pyplot import imshow"
   ]
  },
  {
   "cell_type": "code",
   "execution_count": 285,
   "metadata": {
    "id": "b8-RriJNwunP"
   },
   "outputs": [
    {
     "data": {
      "text/plain": [
       "<matplotlib.image.AxesImage at 0x7f2e1b390d60>"
      ]
     },
     "execution_count": 285,
     "metadata": {},
     "output_type": "execute_result"
    },
    {
     "data": {
      "image/png": "[encoded data removed]",
      "text/plain": [
       "<Figure size 432x288 with 1 Axes>"
      ]
     },
     "metadata": {
      "needs_background": "light"
     },
     "output_type": "display_data"
    }
   ],
   "source": [
    "im = Image.open('heddingeImages/slope.tif')\n",
    "im.show()\n",
    "imarray = np.array(im)\n",
    "imshow(np.asarray(imarray[100:200,490:600]))"
   ]
  },
  {
   "cell_type": "code",
   "execution_count": 283,
   "metadata": {},
   "outputs": [
    {
     "data": {
      "text/plain": [
       "<matplotlib.image.AxesImage at 0x7f2e1b6bfb50>"
      ]
     },
     "execution_count": 283,
     "metadata": {},
     "output_type": "execute_result"
    },
    {
     "data": {
      "image/png": "[encoded data removed]",
      "text/plain": [
       "<Figure size 432x288 with 1 Axes>"
      ]
     },
     "metadata": {
      "needs_background": "light"
     },
     "output_type": "display_data"
    }
   ],
   "source": [
    "#im = Image.open('heddingeImages/flowacc.tif')\n",
    "im = Image.open('heddingeImages/direction.tif')\n",
    "imarray = np.array(im)\n",
    "imshow(np.asarray(imarray[100:200,490:600]))\n"
   ]
  }
 ],
 "metadata": {
  "colab": {
   "collapsed_sections": [],
   "name": "createHarvestDFfrompickleJuly9.ipynb",
   "provenance": []
  },
  "kernelspec": {
   "display_name": "Python 3 (ipykernel)",
   "language": "python",
   "name": "python3"
  },
  "language_info": {
   "codemirror_mode": {
    "name": "ipython",
    "version": 3
   },
   "file_extension": ".py",
   "mimetype": "text/x-python",
   "name": "python",
   "nbconvert_exporter": "python",
   "pygments_lexer": "ipython3",
   "version": "3.8.10"
  }
 },
 "nbformat": 4,
 "nbformat_minor": 1
}
